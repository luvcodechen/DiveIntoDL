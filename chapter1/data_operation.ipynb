{
 "cells": [
  {
   "cell_type": "code",
   "execution_count": 2,
   "id": "initial_id",
   "metadata": {
    "collapsed": true,
    "ExecuteTime": {
     "end_time": "2024-03-06T12:07:29.487051Z",
     "start_time": "2024-03-06T12:07:29.479722Z"
    }
   },
   "outputs": [
    {
     "name": "stdout",
     "output_type": "stream",
     "text": [
      "版本号：1.13.1\n"
     ]
    }
   ],
   "source": [
    "import torch\n",
    "\n",
    "print(\"版本号：{}\".format(torch.__version__))"
   ]
  },
  {
   "cell_type": "code",
   "outputs": [
    {
     "data": {
      "text/plain": "tensor([ 0,  1,  2,  3,  4,  5,  6,  7,  8,  9, 10, 11])"
     },
     "execution_count": 3,
     "metadata": {},
     "output_type": "execute_result"
    }
   ],
   "source": [
    "tensor_a = torch.arange(0, 12)\n",
    "tensor_a"
   ],
   "metadata": {
    "collapsed": false,
    "ExecuteTime": {
     "end_time": "2024-03-06T12:08:07.545081Z",
     "start_time": "2024-03-06T12:08:07.533642Z"
    }
   },
   "id": "f368e95b80351c79",
   "execution_count": 3
  },
  {
   "cell_type": "code",
   "outputs": [
    {
     "name": "stdout",
     "output_type": "stream",
     "text": [
      "张量的存储位置:cpu\n"
     ]
    }
   ],
   "source": [
    "print(\"张量的存储位置:{}\".format(tensor_a.device))"
   ],
   "metadata": {
    "collapsed": false,
    "ExecuteTime": {
     "end_time": "2024-03-06T12:09:39.751566Z",
     "start_time": "2024-03-06T12:09:39.736660Z"
    }
   },
   "id": "8174ac63aa9646e4",
   "execution_count": 6
  },
  {
   "cell_type": "code",
   "outputs": [
    {
     "data": {
      "text/plain": "torch.Size([12])"
     },
     "execution_count": 7,
     "metadata": {},
     "output_type": "execute_result"
    }
   ],
   "source": [
    "tensor_a.shape"
   ],
   "metadata": {
    "collapsed": false,
    "ExecuteTime": {
     "end_time": "2024-03-06T12:10:01.263753Z",
     "start_time": "2024-03-06T12:10:01.258635Z"
    }
   },
   "id": "ffe2a875c5a98525",
   "execution_count": 7
  },
  {
   "cell_type": "code",
   "outputs": [
    {
     "data": {
      "text/plain": "12"
     },
     "execution_count": 9,
     "metadata": {},
     "output_type": "execute_result"
    }
   ],
   "source": [
    "tensor_a.numel()"
   ],
   "metadata": {
    "collapsed": false,
    "ExecuteTime": {
     "end_time": "2024-03-06T12:10:24.883298Z",
     "start_time": "2024-03-06T12:10:24.869302Z"
    }
   },
   "id": "9e05df99273a4b19",
   "execution_count": 9
  },
  {
   "cell_type": "code",
   "outputs": [
    {
     "data": {
      "text/plain": "tensor([[ 0,  1,  2,  3],\n        [ 4,  5,  6,  7],\n        [ 8,  9, 10, 11]])"
     },
     "execution_count": 10,
     "metadata": {},
     "output_type": "execute_result"
    }
   ],
   "source": [
    "x = tensor_a.view(3, 4)\n",
    "x"
   ],
   "metadata": {
    "collapsed": false,
    "ExecuteTime": {
     "end_time": "2024-03-06T12:11:35.975009Z",
     "start_time": "2024-03-06T12:11:35.966599Z"
    }
   },
   "id": "ef572ced869c3cb",
   "execution_count": 10
  },
  {
   "cell_type": "code",
   "outputs": [
    {
     "data": {
      "text/plain": "tensor([[[0., 0., 0., 0.],\n         [0., 0., 0., 0.],\n         [0., 0., 0., 0.]],\n\n        [[0., 0., 0., 0.],\n         [0., 0., 0., 0.],\n         [0., 0., 0., 0.]]])"
     },
     "execution_count": 11,
     "metadata": {},
     "output_type": "execute_result"
    }
   ],
   "source": [
    "torch.zeros(2, 3, 4)"
   ],
   "metadata": {
    "collapsed": false,
    "ExecuteTime": {
     "end_time": "2024-03-06T12:12:13.124873Z",
     "start_time": "2024-03-06T12:12:13.114644Z"
    }
   },
   "id": "5313383d478a213b",
   "execution_count": 11
  },
  {
   "cell_type": "code",
   "outputs": [
    {
     "data": {
      "text/plain": "tensor([[1., 1., 1., 1.],\n        [1., 1., 1., 1.],\n        [1., 1., 1., 1.]])"
     },
     "execution_count": 12,
     "metadata": {},
     "output_type": "execute_result"
    }
   ],
   "source": [
    "torch.ones(3, 4)"
   ],
   "metadata": {
    "collapsed": false,
    "ExecuteTime": {
     "end_time": "2024-03-06T12:13:25.486155Z",
     "start_time": "2024-03-06T12:13:25.466250Z"
    }
   },
   "id": "d076b09ff30223b1",
   "execution_count": 12
  },
  {
   "cell_type": "code",
   "outputs": [
    {
     "data": {
      "text/plain": "tensor([[2, 1, 3, 4],\n        [1, 2, 3, 4],\n        [3, 5, 6, 7]])"
     },
     "execution_count": 14,
     "metadata": {},
     "output_type": "execute_result"
    }
   ],
   "source": [
    "y = torch.tensor([[2, 1, 3, 4], [1, 2, 3, 4], [3, 5, 6, 7]])\n",
    "y"
   ],
   "metadata": {
    "collapsed": false,
    "ExecuteTime": {
     "end_time": "2024-03-06T12:14:12.742243Z",
     "start_time": "2024-03-06T12:14:12.726037Z"
    }
   },
   "id": "dd80f414045fc7d5",
   "execution_count": 14
  },
  {
   "cell_type": "code",
   "outputs": [
    {
     "data": {
      "text/plain": "tensor([[-0.5143, -0.3596, -1.1673, -0.7982],\n        [ 1.4216,  0.5447, -0.3189,  2.4182],\n        [-0.4698,  0.0612, -0.4494,  1.3293]])"
     },
     "execution_count": 15,
     "metadata": {},
     "output_type": "execute_result"
    }
   ],
   "source": [
    "torch.randn(3, 4)"
   ],
   "metadata": {
    "collapsed": false,
    "ExecuteTime": {
     "end_time": "2024-03-06T12:14:48.880333Z",
     "start_time": "2024-03-06T12:14:48.863036Z"
    }
   },
   "id": "58ade4ce196b48a8",
   "execution_count": 15
  },
  {
   "cell_type": "code",
   "outputs": [
    {
     "data": {
      "text/plain": "tensor([[ 2,  2,  5,  7],\n        [ 5,  7,  9, 11],\n        [11, 14, 16, 18]])"
     },
     "execution_count": 16,
     "metadata": {},
     "output_type": "execute_result"
    }
   ],
   "source": [
    "x + y"
   ],
   "metadata": {
    "collapsed": false,
    "ExecuteTime": {
     "end_time": "2024-03-06T12:15:16.136442Z",
     "start_time": "2024-03-06T12:15:16.126294Z"
    }
   },
   "id": "3c2415d2bb8496f",
   "execution_count": 16
  },
  {
   "cell_type": "code",
   "outputs": [
    {
     "data": {
      "text/plain": "tensor([[0.0000, 1.0000, 0.6667, 0.7500],\n        [4.0000, 2.5000, 2.0000, 1.7500],\n        [2.6667, 1.8000, 1.6667, 1.5714]])"
     },
     "execution_count": 18,
     "metadata": {},
     "output_type": "execute_result"
    }
   ],
   "source": [
    "x.float() / y.float()"
   ],
   "metadata": {
    "collapsed": false,
    "ExecuteTime": {
     "end_time": "2024-03-06T12:16:11.202894Z",
     "start_time": "2024-03-06T12:16:11.184995Z"
    }
   },
   "id": "8b6161814e783f",
   "execution_count": 18
  },
  {
   "cell_type": "code",
   "outputs": [
    {
     "data": {
      "text/plain": "tensor([[   7.3891,    2.7183,   20.0855,   54.5981],\n        [   2.7183,    7.3891,   20.0855,   54.5981],\n        [  20.0855,  148.4132,  403.4288, 1096.6332]])"
     },
     "execution_count": 19,
     "metadata": {},
     "output_type": "execute_result"
    }
   ],
   "source": [
    "torch.exp(y.float())"
   ],
   "metadata": {
    "collapsed": false,
    "ExecuteTime": {
     "end_time": "2024-03-06T12:16:39.347138Z",
     "start_time": "2024-03-06T12:16:39.332596Z"
    }
   },
   "id": "cdaeb30276deaed2",
   "execution_count": 19
  },
  {
   "cell_type": "code",
   "outputs": [
    {
     "data": {
      "text/plain": "tensor([[ 19,  20,  38],\n        [ 59,  60, 122],\n        [ 99, 100, 206]])"
     },
     "execution_count": 20,
     "metadata": {},
     "output_type": "execute_result"
    }
   ],
   "source": [
    "x @ y.t()"
   ],
   "metadata": {
    "collapsed": false,
    "ExecuteTime": {
     "end_time": "2024-03-06T12:17:26.619235Z",
     "start_time": "2024-03-06T12:17:26.612233Z"
    }
   },
   "id": "8c8a72df4025df22",
   "execution_count": 20
  },
  {
   "cell_type": "code",
   "outputs": [
    {
     "data": {
      "text/plain": "(tensor([[ 0,  1,  2,  3],\n         [ 4,  5,  6,  7],\n         [ 8,  9, 10, 11],\n         [ 2,  1,  3,  4],\n         [ 1,  2,  3,  4],\n         [ 3,  5,  6,  7]]),\n tensor([[ 0,  1,  2,  3,  2,  1,  3,  4],\n         [ 4,  5,  6,  7,  1,  2,  3,  4],\n         [ 8,  9, 10, 11,  3,  5,  6,  7]]))"
     },
     "execution_count": 21,
     "metadata": {},
     "output_type": "execute_result"
    }
   ],
   "source": [
    "torch.cat((x, y), 0), torch.cat((x, y), 1)"
   ],
   "metadata": {
    "collapsed": false,
    "ExecuteTime": {
     "end_time": "2024-03-06T12:20:58.531007Z",
     "start_time": "2024-03-06T12:20:58.512242Z"
    }
   },
   "id": "af73715169774fdd",
   "execution_count": 21
  },
  {
   "cell_type": "code",
   "outputs": [
    {
     "data": {
      "text/plain": "tensor([[False,  True, False, False],\n        [False, False, False, False],\n        [False, False, False, False]])"
     },
     "execution_count": 22,
     "metadata": {},
     "output_type": "execute_result"
    }
   ],
   "source": [
    "x == y"
   ],
   "metadata": {
    "collapsed": false,
    "ExecuteTime": {
     "end_time": "2024-03-06T12:24:15.811311Z",
     "start_time": "2024-03-06T12:24:15.806312Z"
    }
   },
   "id": "1e0f5069771574b6",
   "execution_count": 22
  },
  {
   "cell_type": "code",
   "outputs": [
    {
     "data": {
      "text/plain": "tensor(66)"
     },
     "execution_count": 23,
     "metadata": {},
     "output_type": "execute_result"
    }
   ],
   "source": [
    "torch.sum(x)"
   ],
   "metadata": {
    "collapsed": false,
    "ExecuteTime": {
     "end_time": "2024-03-06T12:24:34.746377Z",
     "start_time": "2024-03-06T12:24:34.734902Z"
    }
   },
   "id": "f7cfaef893601110",
   "execution_count": 23
  },
  {
   "cell_type": "code",
   "outputs": [
    {
     "data": {
      "text/plain": "22.494443893432617"
     },
     "execution_count": 25,
     "metadata": {},
     "output_type": "execute_result"
    }
   ],
   "source": [
    "torch.norm(x.float()).item()"
   ],
   "metadata": {
    "collapsed": false,
    "ExecuteTime": {
     "end_time": "2024-03-06T12:26:03.263961Z",
     "start_time": "2024-03-06T12:26:03.245185Z"
    }
   },
   "id": "af173c002a64361b",
   "execution_count": 25
  },
  {
   "cell_type": "markdown",
   "source": [
    "# broadcasting"
   ],
   "metadata": {
    "collapsed": false
   },
   "id": "1d5ec301c8deda34"
  },
  {
   "cell_type": "code",
   "outputs": [
    {
     "data": {
      "text/plain": "(tensor([[0],\n         [1],\n         [2]]),\n tensor([[0, 1]]))"
     },
     "execution_count": 27,
     "metadata": {},
     "output_type": "execute_result"
    }
   ],
   "source": [
    "A = torch.arange(0, 3).view(3, 1)\n",
    "B = torch.arange(0, 2).view(1, 2)\n",
    "A, B"
   ],
   "metadata": {
    "collapsed": false,
    "ExecuteTime": {
     "end_time": "2024-03-06T12:28:08.470498Z",
     "start_time": "2024-03-06T12:28:08.460087Z"
    }
   },
   "id": "701cf42b6ba74433",
   "execution_count": 27
  },
  {
   "cell_type": "code",
   "outputs": [
    {
     "data": {
      "text/plain": "tensor([[0, 1],\n        [1, 2],\n        [2, 3]])"
     },
     "execution_count": 28,
     "metadata": {},
     "output_type": "execute_result"
    }
   ],
   "source": [
    "A + B"
   ],
   "metadata": {
    "collapsed": false,
    "ExecuteTime": {
     "end_time": "2024-03-06T12:33:46.748785Z",
     "start_time": "2024-03-06T12:33:46.738783Z"
    }
   },
   "id": "866c852b84f82867",
   "execution_count": 28
  },
  {
   "cell_type": "code",
   "outputs": [
    {
     "data": {
      "text/plain": "tensor([[ 4,  5,  6,  7],\n        [ 8,  9, 10, 11]])"
     },
     "execution_count": 29,
     "metadata": {},
     "output_type": "execute_result"
    }
   ],
   "source": [
    "# index\n",
    "x[1:3]\n"
   ],
   "metadata": {
    "collapsed": false,
    "ExecuteTime": {
     "end_time": "2024-03-06T12:34:16.538915Z",
     "start_time": "2024-03-06T12:34:16.532609Z"
    }
   },
   "id": "5b8894e3fe671587",
   "execution_count": 29
  },
  {
   "cell_type": "code",
   "outputs": [
    {
     "data": {
      "text/plain": "tensor([[ 0,  1,  2,  3],\n        [ 4,  5,  9,  7],\n        [ 8,  9, 10, 11]])"
     },
     "execution_count": 32,
     "metadata": {},
     "output_type": "execute_result"
    }
   ],
   "source": [
    "x[1, 2] = 9\n",
    "x"
   ],
   "metadata": {
    "collapsed": false,
    "ExecuteTime": {
     "end_time": "2024-03-06T12:52:27.568220Z",
     "start_time": "2024-03-06T12:52:27.562922Z"
    }
   },
   "id": "a7bce966174c7ff7",
   "execution_count": 32
  },
  {
   "cell_type": "code",
   "outputs": [
    {
     "data": {
      "text/plain": "tensor([[ 0,  1,  2,  3],\n        [12, 12, 12, 12],\n        [ 8,  9, 10, 11]])"
     },
     "execution_count": 33,
     "metadata": {},
     "output_type": "execute_result"
    }
   ],
   "source": [
    "x[1:2, ] = 12\n",
    "x"
   ],
   "metadata": {
    "collapsed": false,
    "ExecuteTime": {
     "end_time": "2024-03-06T12:52:50.900231Z",
     "start_time": "2024-03-06T12:52:50.883558Z"
    }
   },
   "id": "9491af35edbe2096",
   "execution_count": 33
  },
  {
   "cell_type": "code",
   "outputs": [
    {
     "data": {
      "text/plain": "False"
     },
     "execution_count": 35,
     "metadata": {},
     "output_type": "execute_result"
    }
   ],
   "source": [
    "# 运算的内存开销\n",
    "\n",
    "before = id(y)\n",
    "y = y + x\n",
    "id(y) == before"
   ],
   "metadata": {
    "collapsed": false,
    "ExecuteTime": {
     "end_time": "2024-03-06T12:55:07.770066Z",
     "start_time": "2024-03-06T12:55:07.753451Z"
    }
   },
   "id": "db79244d639146b8",
   "execution_count": 35
  },
  {
   "cell_type": "code",
   "outputs": [
    {
     "data": {
      "text/plain": "True"
     },
     "execution_count": 36,
     "metadata": {},
     "output_type": "execute_result"
    }
   ],
   "source": [
    "z = torch.zeros_like(y)\n",
    "before = id(z)\n",
    "z[:] = x + y\n",
    "id(z) == before"
   ],
   "metadata": {
    "collapsed": false,
    "ExecuteTime": {
     "end_time": "2024-03-06T13:14:33.851685Z",
     "start_time": "2024-03-06T13:14:33.845304Z"
    }
   },
   "id": "d11e08516c94a192",
   "execution_count": 36
  },
  {
   "cell_type": "code",
   "outputs": [
    {
     "data": {
      "text/plain": "True"
     },
     "execution_count": 37,
     "metadata": {},
     "output_type": "execute_result"
    }
   ],
   "source": [
    "torch.add(x, y, out=z)\n",
    "id(z) == before"
   ],
   "metadata": {
    "collapsed": false,
    "ExecuteTime": {
     "end_time": "2024-03-06T13:19:02.685820Z",
     "start_time": "2024-03-06T13:19:02.669106Z"
    }
   },
   "id": "d2e8d866719ca64",
   "execution_count": 37
  },
  {
   "cell_type": "code",
   "outputs": [
    {
     "data": {
      "text/plain": "True"
     },
     "execution_count": 38,
     "metadata": {},
     "output_type": "execute_result"
    }
   ],
   "source": [
    "before = id(x)\n",
    "x += y\n",
    "id(x) == before"
   ],
   "metadata": {
    "collapsed": false,
    "ExecuteTime": {
     "end_time": "2024-03-06T13:19:46.683402Z",
     "start_time": "2024-03-06T13:19:46.677052Z"
    }
   },
   "id": "aa05de61fe67ea9d",
   "execution_count": 38
  },
  {
   "cell_type": "code",
   "outputs": [
    {
     "data": {
      "text/plain": "tensor([[1., 1., 1.],\n        [1., 1., 1.]], dtype=torch.float64)"
     },
     "execution_count": 39,
     "metadata": {},
     "output_type": "execute_result"
    }
   ],
   "source": [
    "# tensor 与numpy相互转换\n",
    "import numpy as np\n",
    "\n",
    "p = np.ones((2, 3))\n",
    "D = torch.from_numpy(p)\n",
    "D"
   ],
   "metadata": {
    "collapsed": false,
    "ExecuteTime": {
     "end_time": "2024-03-06T13:22:26.735315Z",
     "start_time": "2024-03-06T13:22:26.722778Z"
    }
   },
   "id": "5ce74634b57fda42",
   "execution_count": 39
  },
  {
   "cell_type": "code",
   "outputs": [
    {
     "data": {
      "text/plain": "array([[1., 1., 1.],\n       [1., 1., 1.]])"
     },
     "execution_count": 40,
     "metadata": {},
     "output_type": "execute_result"
    }
   ],
   "source": [
    "D.numpy()"
   ],
   "metadata": {
    "collapsed": false,
    "ExecuteTime": {
     "end_time": "2024-03-06T13:22:43.890415Z",
     "start_time": "2024-03-06T13:22:43.872660Z"
    }
   },
   "id": "717fe45e8421a188",
   "execution_count": 40
  },
  {
   "cell_type": "code",
   "outputs": [],
   "source": [],
   "metadata": {
    "collapsed": false
   },
   "id": "3edbf8a5bee61a92"
  }
 ],
 "metadata": {
  "kernelspec": {
   "name": "py3.7_kernel",
   "language": "python",
   "display_name": "py3.7_kernel"
  },
  "language_info": {
   "codemirror_mode": {
    "name": "ipython",
    "version": 2
   },
   "file_extension": ".py",
   "mimetype": "text/x-python",
   "name": "python",
   "nbconvert_exporter": "python",
   "pygments_lexer": "ipython2",
   "version": "2.7.6"
  }
 },
 "nbformat": 4,
 "nbformat_minor": 5
}
