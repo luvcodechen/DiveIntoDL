{
 "cells": [
  {
   "cell_type": "code",
   "execution_count": 3,
   "id": "initial_id",
   "metadata": {
    "collapsed": true,
    "ExecuteTime": {
     "end_time": "2024-03-06T13:30:36.877347Z",
     "start_time": "2024-03-06T13:30:36.868003Z"
    }
   },
   "outputs": [],
   "source": [
    "import torch\n",
    "from torch import autograd"
   ]
  },
  {
   "cell_type": "code",
   "outputs": [
    {
     "data": {
      "text/plain": "tensor([0., 1., 2., 3.])"
     },
     "execution_count": 5,
     "metadata": {},
     "output_type": "execute_result"
    }
   ],
   "source": [
    "x = torch.arange(4).float()\n",
    "x"
   ],
   "metadata": {
    "collapsed": false,
    "ExecuteTime": {
     "end_time": "2024-03-06T13:30:46.634003Z",
     "start_time": "2024-03-06T13:30:46.613896Z"
    }
   },
   "id": "b3dcd8eba9fa690d",
   "execution_count": 5
  },
  {
   "cell_type": "code",
   "outputs": [
    {
     "data": {
      "text/plain": "tensor([0., 1., 2., 3.], requires_grad=True)"
     },
     "execution_count": 6,
     "metadata": {},
     "output_type": "execute_result"
    }
   ],
   "source": [
    "x.requires_grad_(True)"
   ],
   "metadata": {
    "collapsed": false,
    "ExecuteTime": {
     "end_time": "2024-03-06T13:32:10.369121Z",
     "start_time": "2024-03-06T13:32:10.350252Z"
    }
   },
   "id": "4b8fd81a441afeb",
   "execution_count": 6
  },
  {
   "cell_type": "code",
   "outputs": [],
   "source": [
    "y = 2 * torch.dot(x, x.t())"
   ],
   "metadata": {
    "collapsed": false,
    "ExecuteTime": {
     "end_time": "2024-03-06T13:33:49.459666Z",
     "start_time": "2024-03-06T13:33:49.454423Z"
    }
   },
   "id": "f2310764e5b983e3",
   "execution_count": 7
  },
  {
   "cell_type": "code",
   "outputs": [],
   "source": [
    "y.backward()"
   ],
   "metadata": {
    "collapsed": false,
    "ExecuteTime": {
     "end_time": "2024-03-06T13:34:03.128925Z",
     "start_time": "2024-03-06T13:34:03.104664Z"
    }
   },
   "id": "2d1c4646fd6ee7a0",
   "execution_count": 8
  },
  {
   "cell_type": "code",
   "outputs": [
    {
     "name": "stdout",
     "output_type": "stream",
     "text": [
      "tensor([ 0.,  4.,  8., 12.])\n"
     ]
    }
   ],
   "source": [
    "print(x.grad)"
   ],
   "metadata": {
    "collapsed": false,
    "ExecuteTime": {
     "end_time": "2024-03-06T13:34:58.721752Z",
     "start_time": "2024-03-06T13:34:58.713749Z"
    }
   },
   "id": "785cb51879183c9a",
   "execution_count": 9
  },
  {
   "cell_type": "code",
   "outputs": [
    {
     "name": "stdout",
     "output_type": "stream",
     "text": [
      "['Generator', '__builtins__', '__cached__', '__doc__', '__file__', '__loader__', '__name__', '__package__', '__spec__', '_fork_rng_warned_already', 'contextlib', 'default_generator', 'fork_rng', 'get_rng_state', 'initial_seed', 'manual_seed', 'seed', 'set_rng_state', 'torch', 'warnings']\n"
     ]
    }
   ],
   "source": [
    "print(dir(torch.random))"
   ],
   "metadata": {
    "collapsed": false,
    "ExecuteTime": {
     "end_time": "2024-03-07T09:25:50.481668Z",
     "start_time": "2024-03-07T09:25:50.466113Z"
    }
   },
   "id": "ce23dd3229b2d0f6",
   "execution_count": 10
  },
  {
   "cell_type": "code",
   "outputs": [],
   "source": [],
   "metadata": {
    "collapsed": false
   },
   "id": "ca69e39723988ef5"
  }
 ],
 "metadata": {
  "kernelspec": {
   "name": "py3.7_kernel",
   "language": "python",
   "display_name": "py3.7_kernel"
  },
  "language_info": {
   "codemirror_mode": {
    "name": "ipython",
    "version": 2
   },
   "file_extension": ".py",
   "mimetype": "text/x-python",
   "name": "python",
   "nbconvert_exporter": "python",
   "pygments_lexer": "ipython2",
   "version": "2.7.6"
  }
 },
 "nbformat": 4,
 "nbformat_minor": 5
}
