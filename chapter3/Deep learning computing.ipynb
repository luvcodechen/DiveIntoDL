{
 "cells": [
  {
   "cell_type": "code",
   "execution_count": 1,
   "id": "initial_id",
   "metadata": {
    "collapsed": true,
    "ExecuteTime": {
     "end_time": "2024-03-14T13:37:12.820094Z",
     "start_time": "2024-03-14T13:37:11.882609Z"
    }
   },
   "outputs": [],
   "source": [
    "import torch\n",
    "from torch import nn\n",
    "\n",
    "\n",
    "class MLP(nn.Module):\n",
    "    # 声明带有模型参数的层，这里声明了两个全连接层\n",
    "    def __init__(self, **kwargs):\n",
    "        # 调用MLP父类Module的构造函数来进行初始化\n",
    "        # 这样在构造实例函数时还可以指定其他函数参数\n",
    "        super(MLP, self).__init__(**kwargs)\n",
    "        self.hidden = nn.Linear(784, 256)\n",
    "        self.act = nn.ReLU()\n",
    "        self.output = nn.Linear(256, 10)\n",
    "\n",
    "    # 定义模型的前向计算，即如何根据输入x计算返回所需要的模型输出\n",
    "    def forward(self, x):\n",
    "        a = self.act(self.hidden(x))\n",
    "        return self.output(a)"
   ]
  },
  {
   "cell_type": "code",
   "outputs": [
    {
     "name": "stdout",
     "output_type": "stream",
     "text": [
      "MLP(\n",
      "  (hidden): Linear(in_features=784, out_features=256, bias=True)\n",
      "  (act): ReLU()\n",
      "  (output): Linear(in_features=256, out_features=10, bias=True)\n",
      ")\n"
     ]
    },
    {
     "data": {
      "text/plain": "tensor([[ 0.0611,  0.1468, -0.0908,  0.1905,  0.0187, -0.4276,  0.1566,  0.0192,\n          0.2118,  0.1051],\n        [-0.2361, -0.2599,  0.2703, -0.6321, -0.1396, -0.1107, -0.3178, -0.0979,\n          0.3192, -0.3336]], grad_fn=<AddmmBackward0>)"
     },
     "execution_count": 3,
     "metadata": {},
     "output_type": "execute_result"
    }
   ],
   "source": [
    "X = torch.randn(2, 784)\n",
    "net = MLP()\n",
    "print(net)\n",
    "net(X)"
   ],
   "metadata": {
    "collapsed": false,
    "ExecuteTime": {
     "end_time": "2024-03-14T13:44:55.170291Z",
     "start_time": "2024-03-14T13:44:55.154292Z"
    }
   },
   "id": "bb6ba930e21c4dbb",
   "execution_count": 3
  },
  {
   "cell_type": "code",
   "outputs": [],
   "source": [
    "from collections import OrderedDict\n",
    "\n",
    "\n",
    "class MySequential(nn.Module):\n",
    "\n",
    "    def __init__(self, *args):\n",
    "        super(MySequential, self).__init__()\n",
    "        # 如果传入的是一个OrderedDict\n",
    "        if len(args) == 1 and isinstance(args[0], OrderedDict):\n",
    "            for key, module in args[0].items():\n",
    "                # add_module 方法会将module添加\n",
    "                # 进self.modules(一个OrderedDict)\n",
    "                self.add_module(key, module)\n",
    "        # 传入的是一些Module\n",
    "        else:\n",
    "            for idx, module in enumerate(args):\n",
    "                self.add_module(str(idx), module)\n",
    "\n",
    "    def forward(self, input):\n",
    "        # self._module返回一个OrderedDict，保证会按照成员添加时的顺序遍历成员\n",
    "        for module in self._modules.values():\n",
    "            input = module(input)\n",
    "        return input\n"
   ],
   "metadata": {
    "collapsed": false,
    "ExecuteTime": {
     "end_time": "2024-03-15T02:08:55.744006Z",
     "start_time": "2024-03-15T02:08:55.725Z"
    }
   },
   "id": "11fac364589c4783",
   "execution_count": 5
  },
  {
   "cell_type": "code",
   "outputs": [
    {
     "name": "stdout",
     "output_type": "stream",
     "text": [
      "MySequential(\n",
      "  (0): Linear(in_features=784, out_features=256, bias=True)\n",
      "  (1): ReLU()\n",
      "  (2): Linear(in_features=256, out_features=10, bias=True)\n",
      ")\n"
     ]
    },
    {
     "data": {
      "text/plain": "tensor([[ 0.0344,  0.0582,  0.0482,  0.0724,  0.0931,  0.0834, -0.1007,  0.2421,\n          0.2931, -0.3046],\n        [ 0.0649,  0.0370,  0.2754,  0.0789,  0.4120,  0.1577,  0.0132,  0.1492,\n         -0.3027, -0.0986]], grad_fn=<AddmmBackward0>)"
     },
     "execution_count": 6,
     "metadata": {},
     "output_type": "execute_result"
    }
   ],
   "source": [
    "net = MySequential(nn.Linear(784, 256), nn.ReLU(), nn.Linear(256, 10))\n",
    "print(net)\n",
    "net(X)"
   ],
   "metadata": {
    "collapsed": false,
    "ExecuteTime": {
     "end_time": "2024-03-15T02:21:32.554576Z",
     "start_time": "2024-03-15T02:21:32.540577Z"
    }
   },
   "id": "2569b33017b4b33e",
   "execution_count": 6
  },
  {
   "cell_type": "code",
   "outputs": [],
   "source": [
    "class FancyMLP(nn.Module):\n",
    "    def __init__(self, **kwargs):\n",
    "        super(FancyMLP, self).__init__(**kwargs)\n",
    "        # 不可训练参数（常数参数）\n",
    "        self.rand_weight = torch.rand((20, 20), requires_grad=False)\n",
    "        self.linear = nn.Linear(20, 20)\n",
    "\n",
    "    def forward(self, x):\n",
    "        x = self.linear(x)\n",
    "        # 使用创建的常数参数，以及nn.functional中的relu函数和mm函数\n",
    "        x = nn.functional.relu(torch.mm(x, self.rand_weight) + 1)\n",
    "        # 复用全连接层，等价于两个全连接层共享参数\n",
    "        x = self.linear(x)\n",
    "        # 控制流，这里我们需要调用item函数来返回标量进行比较\n",
    "        while x.norm().item() > 1:\n",
    "            x /= 2\n",
    "        if x.norm().item() < 0.8:\n",
    "            x *= 10\n",
    "        return x.sum()"
   ],
   "metadata": {
    "collapsed": false,
    "ExecuteTime": {
     "end_time": "2024-03-15T02:39:58.170551Z",
     "start_time": "2024-03-15T02:39:58.161542Z"
    }
   },
   "id": "68ff25214ca0b3b4",
   "execution_count": 7
  },
  {
   "cell_type": "code",
   "outputs": [
    {
     "name": "stdout",
     "output_type": "stream",
     "text": [
      "FancyMLP(\n",
      "  (linear): Linear(in_features=20, out_features=20, bias=True)\n",
      ")\n"
     ]
    },
    {
     "data": {
      "text/plain": "tensor(0.6931, grad_fn=<SumBackward0>)"
     },
     "execution_count": 13,
     "metadata": {},
     "output_type": "execute_result"
    }
   ],
   "source": [
    "X = torch.rand(2, 20)\n",
    "net = FancyMLP()\n",
    "print(net)\n",
    "net(X)"
   ],
   "metadata": {
    "collapsed": false,
    "ExecuteTime": {
     "end_time": "2024-03-15T02:49:28.646139Z",
     "start_time": "2024-03-15T02:49:28.629628Z"
    }
   },
   "id": "dfa67dc3aff6cab5",
   "execution_count": 13
  },
  {
   "cell_type": "code",
   "outputs": [
    {
     "name": "stdout",
     "output_type": "stream",
     "text": [
      "Sequential(\n",
      "  (0): NestMLP(\n",
      "    (net): Sequential(\n",
      "      (0): Linear(in_features=40, out_features=30, bias=True)\n",
      "      (1): ReLU()\n",
      "    )\n",
      "  )\n",
      "  (1): Linear(in_features=30, out_features=20, bias=True)\n",
      "  (2): FancyMLP(\n",
      "    (linear): Linear(in_features=20, out_features=20, bias=True)\n",
      "  )\n",
      ")\n"
     ]
    },
    {
     "data": {
      "text/plain": "tensor(0.1661, grad_fn=<SumBackward0>)"
     },
     "execution_count": 14,
     "metadata": {},
     "output_type": "execute_result"
    }
   ],
   "source": [
    "class NestMLP(nn.Module):\n",
    "    def __init__(self, **kwargs):\n",
    "        super(NestMLP, self).__init__(**kwargs)\n",
    "        self.net = nn.Sequential(nn.Linear(40, 30), nn.ReLU())\n",
    "\n",
    "    def forward(self, x):\n",
    "        return self.net(x)\n",
    "\n",
    "\n",
    "net = nn.Sequential(NestMLP(), nn.Linear(30, 20), FancyMLP())\n",
    "X = torch.rand(2, 40)\n",
    "print(net)\n",
    "net(X)"
   ],
   "metadata": {
    "collapsed": false,
    "ExecuteTime": {
     "end_time": "2024-03-15T03:01:21.665168Z",
     "start_time": "2024-03-15T03:01:21.650154Z"
    }
   },
   "id": "8550c5c8b1094968",
   "execution_count": 14
  },
  {
   "cell_type": "code",
   "outputs": [
    {
     "name": "stdout",
     "output_type": "stream",
     "text": [
      "Sequential(\n",
      "  (0): Linear(in_features=20, out_features=256, bias=True)\n",
      "  (1): ReLU()\n",
      "  (2): Linear(in_features=256, out_features=10, bias=True)\n",
      ")\n"
     ]
    }
   ],
   "source": [
    "net = nn.Sequential(nn.Linear(20, 256), nn.ReLU(), nn.Linear(256, 10))\n",
    "# PyTorch默认已经初始化\n",
    "print(net)\n",
    "X = torch.rand(2, 20)\n",
    "# 前向计算\n",
    "Y = net(X)"
   ],
   "metadata": {
    "collapsed": false,
    "ExecuteTime": {
     "end_time": "2024-03-15T03:07:49.157637Z",
     "start_time": "2024-03-15T03:07:49.143639Z"
    }
   },
   "id": "4926e0cf58929f89",
   "execution_count": 15
  },
  {
   "cell_type": "code",
   "outputs": [
    {
     "name": "stdout",
     "output_type": "stream",
     "text": [
      "weight torch.Size([256, 20]) <class 'torch.nn.parameter.Parameter'>\n",
      "bias torch.Size([256]) <class 'torch.nn.parameter.Parameter'>\n"
     ]
    }
   ],
   "source": [
    "for name, param in net[0].named_parameters():\n",
    "    print(name, param.size(), type(param))"
   ],
   "metadata": {
    "collapsed": false,
    "ExecuteTime": {
     "end_time": "2024-03-15T03:42:37.803155Z",
     "start_time": "2024-03-15T03:42:37.799096Z"
    }
   },
   "id": "1435971157ff7131",
   "execution_count": 29
  },
  {
   "cell_type": "code",
   "outputs": [
    {
     "data": {
      "text/plain": "(torch.Tensor, torch.Size([256, 20]))"
     },
     "execution_count": 20,
     "metadata": {},
     "output_type": "execute_result"
    }
   ],
   "source": [
    "weight_0 = list(net[0].parameters())[0]\n",
    "type(weight_0.data[0][0]), weight_0.data.size()"
   ],
   "metadata": {
    "collapsed": false,
    "ExecuteTime": {
     "end_time": "2024-03-15T03:26:27.203529Z",
     "start_time": "2024-03-15T03:26:27.182949Z"
    }
   },
   "id": "5d91c2a06d2931cd",
   "execution_count": 20
  },
  {
   "cell_type": "code",
   "outputs": [
    {
     "data": {
      "text/plain": "(torch.nn.parameter.Parameter, torch.Size([256, 20]))"
     },
     "execution_count": 21,
     "metadata": {},
     "output_type": "execute_result"
    }
   ],
   "source": [
    "param = dict(net[0].named_parameters())\n",
    "type(param['weight']), param['weight'].size()"
   ],
   "metadata": {
    "collapsed": false,
    "ExecuteTime": {
     "end_time": "2024-03-15T03:29:28.607450Z",
     "start_time": "2024-03-15T03:29:28.591936Z"
    }
   },
   "id": "4da2e6cfee3fa14f",
   "execution_count": 21
  },
  {
   "cell_type": "code",
   "outputs": [
    {
     "data": {
      "text/plain": "tensor([[ 0.0611, -0.0914, -0.1549,  ..., -0.1124, -0.2068,  0.0363],\n        [-0.1203, -0.2004, -0.2225,  ..., -0.0670,  0.0646, -0.1968],\n        [-0.1329,  0.1754,  0.2053,  ..., -0.1082, -0.2073, -0.1707],\n        ...,\n        [-0.1243,  0.0929, -0.1023,  ..., -0.0711, -0.1922, -0.1919],\n        [-0.0549, -0.1159, -0.1828,  ...,  0.1021,  0.1844,  0.1189],\n        [ 0.1791,  0.1569, -0.0976,  ..., -0.0738, -0.1164,  0.1089]])"
     },
     "execution_count": 22,
     "metadata": {},
     "output_type": "execute_result"
    }
   ],
   "source": [
    "weight_0.data"
   ],
   "metadata": {
    "collapsed": false,
    "ExecuteTime": {
     "end_time": "2024-03-15T03:30:49.576558Z",
     "start_time": "2024-03-15T03:30:49.568269Z"
    }
   },
   "id": "5062ca9e1fc2cc4f",
   "execution_count": 22
  },
  {
   "cell_type": "code",
   "outputs": [
    {
     "name": "stdout",
     "output_type": "stream",
     "text": [
      "None\n"
     ]
    }
   ],
   "source": [
    "print(weight_0.grad)"
   ],
   "metadata": {
    "collapsed": false,
    "ExecuteTime": {
     "end_time": "2024-03-15T03:37:55.178745Z",
     "start_time": "2024-03-15T03:37:55.171239Z"
    }
   },
   "id": "2151218d217bbb45",
   "execution_count": 24
  },
  {
   "cell_type": "code",
   "outputs": [
    {
     "data": {
      "text/plain": "tensor([-0.0337,  0.0343, -0.0257, -0.0213,  0.0356, -0.0034,  0.0427,  0.0229,\n         0.0011, -0.0318])"
     },
     "execution_count": 30,
     "metadata": {},
     "output_type": "execute_result"
    }
   ],
   "source": [
    "bias_1 = list(net[2].parameters())[1]\n",
    "bias_1.data"
   ],
   "metadata": {
    "collapsed": false,
    "ExecuteTime": {
     "end_time": "2024-03-15T03:42:56.493652Z",
     "start_time": "2024-03-15T03:42:56.475659Z"
    }
   },
   "id": "b2616c1d7ec1fda7",
   "execution_count": 30
  },
  {
   "cell_type": "code",
   "outputs": [
    {
     "name": "stdout",
     "output_type": "stream",
     "text": [
      "Sequential(\n",
      "  (0): Linear(in_features=20, out_features=256, bias=True)\n",
      "  (1): ReLU()\n",
      "  (2): Linear(in_features=256, out_features=10, bias=True)\n",
      ")\n"
     ]
    }
   ],
   "source": [
    "print(net)"
   ],
   "metadata": {
    "collapsed": false,
    "ExecuteTime": {
     "end_time": "2024-03-15T03:43:10.496158Z",
     "start_time": "2024-03-15T03:43:10.488159Z"
    }
   },
   "id": "772696529ac5cc34",
   "execution_count": 31
  },
  {
   "cell_type": "code",
   "outputs": [
    {
     "name": "stdout",
     "output_type": "stream",
     "text": [
      "0.weight tensor([[ 0.0039,  0.0105,  0.0061,  ...,  0.0088,  0.0106,  0.0171],\n",
      "        [ 0.0233,  0.0053,  0.0232,  ..., -0.0074,  0.0054,  0.0060],\n",
      "        [-0.0140,  0.0014,  0.0180,  ...,  0.0044,  0.0041,  0.0028],\n",
      "        ...,\n",
      "        [ 0.0002,  0.0093,  0.0056,  ...,  0.0187,  0.0051,  0.0024],\n",
      "        [ 0.0021,  0.0161,  0.0175,  ..., -0.0157,  0.0053,  0.0109],\n",
      "        [ 0.0170,  0.0060,  0.0047,  ..., -0.0010,  0.0004,  0.0074]])\n",
      "2.weight tensor([[-3.8328e-03, -1.9209e-03, -2.3917e-05,  ...,  7.1773e-03,\n",
      "          8.6600e-03, -9.1975e-03],\n",
      "        [ 1.0817e-03, -1.2275e-02,  1.3321e-02,  ...,  1.6718e-02,\n",
      "         -7.4219e-03, -1.6690e-02],\n",
      "        [ 2.1717e-03, -5.5297e-05,  1.6444e-02,  ..., -3.5544e-03,\n",
      "         -7.7311e-03,  6.8603e-03],\n",
      "        ...,\n",
      "        [ 3.9138e-03,  5.9141e-03,  2.0731e-02,  ...,  2.7182e-02,\n",
      "         -1.7534e-03,  4.5096e-03],\n",
      "        [ 1.6116e-03, -5.4110e-04,  3.3411e-03,  ...,  6.3330e-03,\n",
      "         -9.1691e-03, -5.8241e-03],\n",
      "        [ 2.0270e-02, -4.3858e-03,  3.7450e-03,  ..., -1.5940e-02,\n",
      "         -3.9525e-03,  2.6917e-04]])\n"
     ]
    }
   ],
   "source": [
    "from torch.nn import init\n",
    "\n",
    "for name, param in net.named_parameters():\n",
    "    if 'weight' in name:\n",
    "        init.normal_(param, mean=0, std=0.01)\n",
    "        print(name, param.data)"
   ],
   "metadata": {
    "collapsed": false,
    "ExecuteTime": {
     "end_time": "2024-03-15T03:46:48.958294Z",
     "start_time": "2024-03-15T03:46:48.943297Z"
    }
   },
   "id": "5e919215c857fbee",
   "execution_count": 32
  },
  {
   "cell_type": "code",
   "outputs": [
    {
     "name": "stdout",
     "output_type": "stream",
     "text": [
      "0.bias tensor([0., 0., 0., 0., 0., 0., 0., 0., 0., 0., 0., 0., 0., 0., 0., 0., 0., 0., 0., 0., 0., 0., 0., 0.,\n",
      "        0., 0., 0., 0., 0., 0., 0., 0., 0., 0., 0., 0., 0., 0., 0., 0., 0., 0., 0., 0., 0., 0., 0., 0.,\n",
      "        0., 0., 0., 0., 0., 0., 0., 0., 0., 0., 0., 0., 0., 0., 0., 0., 0., 0., 0., 0., 0., 0., 0., 0.,\n",
      "        0., 0., 0., 0., 0., 0., 0., 0., 0., 0., 0., 0., 0., 0., 0., 0., 0., 0., 0., 0., 0., 0., 0., 0.,\n",
      "        0., 0., 0., 0., 0., 0., 0., 0., 0., 0., 0., 0., 0., 0., 0., 0., 0., 0., 0., 0., 0., 0., 0., 0.,\n",
      "        0., 0., 0., 0., 0., 0., 0., 0., 0., 0., 0., 0., 0., 0., 0., 0., 0., 0., 0., 0., 0., 0., 0., 0.,\n",
      "        0., 0., 0., 0., 0., 0., 0., 0., 0., 0., 0., 0., 0., 0., 0., 0., 0., 0., 0., 0., 0., 0., 0., 0.,\n",
      "        0., 0., 0., 0., 0., 0., 0., 0., 0., 0., 0., 0., 0., 0., 0., 0., 0., 0., 0., 0., 0., 0., 0., 0.,\n",
      "        0., 0., 0., 0., 0., 0., 0., 0., 0., 0., 0., 0., 0., 0., 0., 0., 0., 0., 0., 0., 0., 0., 0., 0.,\n",
      "        0., 0., 0., 0., 0., 0., 0., 0., 0., 0., 0., 0., 0., 0., 0., 0., 0., 0., 0., 0., 0., 0., 0., 0.,\n",
      "        0., 0., 0., 0., 0., 0., 0., 0., 0., 0., 0., 0., 0., 0., 0., 0.])\n",
      "2.bias tensor([0., 0., 0., 0., 0., 0., 0., 0., 0., 0.])\n"
     ]
    }
   ],
   "source": [
    "for name, param in net.named_parameters():\n",
    "    if 'bias' in name:\n",
    "        init.constant_(param, val=0)\n",
    "        print(name, param.data)"
   ],
   "metadata": {
    "collapsed": false,
    "ExecuteTime": {
     "end_time": "2024-03-15T03:49:58.675581Z",
     "start_time": "2024-03-15T03:49:58.660581Z"
    }
   },
   "id": "fb6c31c50073a03b",
   "execution_count": 33
  },
  {
   "cell_type": "code",
   "outputs": [
    {
     "name": "stdout",
     "output_type": "stream",
     "text": [
      "tensor([ 0.0051,  0.0073, -0.1241, -0.0274,  0.1227,  0.0636,  0.1328, -0.1228,\n",
      "        -0.1235, -0.0788,  0.0281, -0.0256, -0.1021, -0.0204, -0.0384, -0.0510,\n",
      "         0.1079, -0.0707, -0.0189, -0.0210])\n",
      "tensor([[42., 42., 42.,  ..., 42., 42., 42.],\n",
      "        [42., 42., 42.,  ..., 42., 42., 42.],\n",
      "        [42., 42., 42.,  ..., 42., 42., 42.],\n",
      "        ...,\n",
      "        [42., 42., 42.,  ..., 42., 42., 42.],\n",
      "        [42., 42., 42.,  ..., 42., 42., 42.],\n",
      "        [42., 42., 42.,  ..., 42., 42., 42.]])\n"
     ]
    }
   ],
   "source": [
    "def xavier(m):\n",
    "    if type(m) == nn.Linear:\n",
    "        torch.nn.init.xavier_uniform_(m.weight)\n",
    "\n",
    "\n",
    "def init_42(m):\n",
    "    if type(m) == nn.Linear:\n",
    "        torch.nn.init.constant_(m.weight, 42)\n",
    "\n",
    "\n",
    "net[0].apply(xavier)\n",
    "net[2].apply(init_42)\n",
    "print(net[0].weight.data[0])\n",
    "print(net[2].weight.data)"
   ],
   "metadata": {
    "collapsed": false,
    "ExecuteTime": {
     "end_time": "2024-03-15T09:20:58.478196Z",
     "start_time": "2024-03-15T09:20:58.466198Z"
    }
   },
   "id": "bf7514922e088088",
   "execution_count": 34
  },
  {
   "cell_type": "code",
   "outputs": [],
   "source": [
    "def normal_(tensor, mean=0, std=1):\n",
    "    with torch.no_grad():\n",
    "        return tensor.normal_(mean, std)"
   ],
   "metadata": {
    "collapsed": false,
    "ExecuteTime": {
     "end_time": "2024-03-15T09:43:50.263118Z",
     "start_time": "2024-03-15T09:43:50.247986Z"
    }
   },
   "id": "4dc0c736a59342b8",
   "execution_count": 35
  },
  {
   "cell_type": "code",
   "outputs": [
    {
     "name": "stdout",
     "output_type": "stream",
     "text": [
      "0.weight tensor([[-0.0000,  5.1854,  9.7246,  ..., -8.5708,  0.0000, -8.2214],\n",
      "        [-0.0000, -7.7485, -7.1613,  ...,  7.3610,  0.0000,  6.6981],\n",
      "        [ 6.4790, -9.3837, -0.0000,  ..., -7.0435,  8.5091, -6.9319],\n",
      "        ...,\n",
      "        [ 8.8448,  8.5809,  6.0294,  ..., -0.0000,  0.0000,  5.0400],\n",
      "        [ 5.9072,  0.0000,  0.0000,  ..., -0.0000,  7.3593, -7.7892],\n",
      "        [-0.0000, -5.4473, -0.0000,  ..., -9.6593,  0.0000,  0.0000]])\n",
      "2.weight tensor([[-5.7760, -0.0000,  6.2989,  ...,  0.0000, -0.0000, -0.0000],\n",
      "        [-8.2869, -7.0773, -5.8406,  ..., -7.3828,  0.0000, -7.2289],\n",
      "        [ 0.0000,  7.5993,  5.4324,  ...,  5.6188, -0.0000,  9.1456],\n",
      "        ...,\n",
      "        [-6.3275,  0.0000,  0.0000,  ..., -0.0000, -9.3381,  7.4939],\n",
      "        [-0.0000,  6.8807, -8.2158,  ..., -0.0000, -0.0000,  0.0000],\n",
      "        [ 0.0000, -8.8062, -6.0158,  ...,  0.0000,  6.8106,  0.0000]])\n"
     ]
    }
   ],
   "source": [
    "def init_weight(tensor):\n",
    "    with torch.no_grad():\n",
    "        tensor.uniform_(-10, 10)\n",
    "        tensor *= (tensor.abs() >= 5).float()\n",
    "\n",
    "\n",
    "for name, param in net.named_parameters():\n",
    "    if 'weight' in name:\n",
    "        init_weight(param)\n",
    "        print(name, param.data)"
   ],
   "metadata": {
    "collapsed": false,
    "ExecuteTime": {
     "end_time": "2024-03-15T09:46:17.550397Z",
     "start_time": "2024-03-15T09:46:17.538392Z"
    }
   },
   "id": "63ffcca303acf22a",
   "execution_count": 36
  },
  {
   "cell_type": "code",
   "outputs": [
    {
     "name": "stdout",
     "output_type": "stream",
     "text": [
      "0.bias tensor([1., 1., 1., 1., 1., 1., 1., 1., 1., 1., 1., 1., 1., 1., 1., 1., 1., 1.,\n",
      "        1., 1., 1., 1., 1., 1., 1., 1., 1., 1., 1., 1., 1., 1., 1., 1., 1., 1.,\n",
      "        1., 1., 1., 1., 1., 1., 1., 1., 1., 1., 1., 1., 1., 1., 1., 1., 1., 1.,\n",
      "        1., 1., 1., 1., 1., 1., 1., 1., 1., 1., 1., 1., 1., 1., 1., 1., 1., 1.,\n",
      "        1., 1., 1., 1., 1., 1., 1., 1., 1., 1., 1., 1., 1., 1., 1., 1., 1., 1.,\n",
      "        1., 1., 1., 1., 1., 1., 1., 1., 1., 1., 1., 1., 1., 1., 1., 1., 1., 1.,\n",
      "        1., 1., 1., 1., 1., 1., 1., 1., 1., 1., 1., 1., 1., 1., 1., 1., 1., 1.,\n",
      "        1., 1., 1., 1., 1., 1., 1., 1., 1., 1., 1., 1., 1., 1., 1., 1., 1., 1.,\n",
      "        1., 1., 1., 1., 1., 1., 1., 1., 1., 1., 1., 1., 1., 1., 1., 1., 1., 1.,\n",
      "        1., 1., 1., 1., 1., 1., 1., 1., 1., 1., 1., 1., 1., 1., 1., 1., 1., 1.,\n",
      "        1., 1., 1., 1., 1., 1., 1., 1., 1., 1., 1., 1., 1., 1., 1., 1., 1., 1.,\n",
      "        1., 1., 1., 1., 1., 1., 1., 1., 1., 1., 1., 1., 1., 1., 1., 1., 1., 1.,\n",
      "        1., 1., 1., 1., 1., 1., 1., 1., 1., 1., 1., 1., 1., 1., 1., 1., 1., 1.,\n",
      "        1., 1., 1., 1., 1., 1., 1., 1., 1., 1., 1., 1., 1., 1., 1., 1., 1., 1.,\n",
      "        1., 1., 1., 1.])\n",
      "2.bias tensor([1., 1., 1., 1., 1., 1., 1., 1., 1., 1.])\n"
     ]
    }
   ],
   "source": [
    "for name, param in net.named_parameters():\n",
    "    if 'bias' in name:\n",
    "        param.data += 1\n",
    "        print(name, param.data)"
   ],
   "metadata": {
    "collapsed": false,
    "ExecuteTime": {
     "end_time": "2024-03-15T09:59:38.446209Z",
     "start_time": "2024-03-15T09:59:38.434686Z"
    }
   },
   "id": "547ae9d6d06b73f1",
   "execution_count": 37
  },
  {
   "cell_type": "code",
   "outputs": [
    {
     "name": "stdout",
     "output_type": "stream",
     "text": [
      "Sequential(\n",
      "  (0): Linear(in_features=1, out_features=1, bias=False)\n",
      "  (1): Linear(in_features=1, out_features=1, bias=False)\n",
      ")\n",
      "0.weight tensor([[3.]])\n"
     ]
    }
   ],
   "source": [
    "linear = nn.Linear(1, 1, bias=False)\n",
    "net = nn.Sequential(linear, linear)\n",
    "print(net)\n",
    "for name, param in net.named_parameters():\n",
    "    init.constant_(param, val=3)\n",
    "    print(name, param.data)"
   ],
   "metadata": {
    "collapsed": false,
    "ExecuteTime": {
     "end_time": "2024-03-15T10:02:12.285730Z",
     "start_time": "2024-03-15T10:02:12.265731Z"
    }
   },
   "id": "5a6476ac2331bdfe",
   "execution_count": 38
  },
  {
   "cell_type": "code",
   "outputs": [
    {
     "name": "stdout",
     "output_type": "stream",
     "text": [
      "True\n",
      "True\n"
     ]
    }
   ],
   "source": [
    "print(id(net[0]) == id(net[1]))\n",
    "print(id(net[0].weight) == id(net[1].weight))"
   ],
   "metadata": {
    "collapsed": false,
    "ExecuteTime": {
     "end_time": "2024-03-15T10:04:56.140879Z",
     "start_time": "2024-03-15T10:04:56.130881Z"
    }
   },
   "id": "a49084347896637a",
   "execution_count": 39
  },
  {
   "cell_type": "code",
   "outputs": [
    {
     "name": "stdout",
     "output_type": "stream",
     "text": [
      "tensor(9., grad_fn=<SumBackward0>)\n",
      "tensor([[6.]])\n"
     ]
    }
   ],
   "source": [
    "x = torch.ones(1, 1)\n",
    "y = net(x).sum()\n",
    "print(y)\n",
    "y.backward()\n",
    "# 单次梯度是3，两次所以就是6\n",
    "print(net[0].weight.grad)"
   ],
   "metadata": {
    "collapsed": false,
    "ExecuteTime": {
     "end_time": "2024-03-15T10:12:51.787268Z",
     "start_time": "2024-03-15T10:12:51.728927Z"
    }
   },
   "id": "3a34bc9dfded908a",
   "execution_count": 40
  },
  {
   "cell_type": "code",
   "outputs": [],
   "source": [
    "class CenteredLayer(nn.Module):\n",
    "    def __init__(self, **kwargs):\n",
    "        super(CenteredLayer, self).__init__(**kwargs)\n",
    "\n",
    "    def forward(self, x):\n",
    "        return x - x.mean()"
   ],
   "metadata": {
    "collapsed": false,
    "ExecuteTime": {
     "end_time": "2024-03-16T09:03:48.278258Z",
     "start_time": "2024-03-16T09:03:48.275257Z"
    }
   },
   "id": "cc01234eeeab4cf7",
   "execution_count": 41
  },
  {
   "cell_type": "code",
   "outputs": [
    {
     "data": {
      "text/plain": "tensor([-2., -1.,  0.,  1.,  2.])"
     },
     "execution_count": 42,
     "metadata": {},
     "output_type": "execute_result"
    }
   ],
   "source": [
    "layer = CenteredLayer()\n",
    "layer(torch.tensor([1, 2, 3, 4, 5], dtype=torch.float))"
   ],
   "metadata": {
    "collapsed": false,
    "ExecuteTime": {
     "end_time": "2024-03-16T09:04:22.055895Z",
     "start_time": "2024-03-16T09:04:22.044386Z"
    }
   },
   "id": "cbf4217a34570820",
   "execution_count": 42
  },
  {
   "cell_type": "code",
   "outputs": [],
   "source": [
    "net = nn.Sequential(nn.Linear(8, 128), CenteredLayer())"
   ],
   "metadata": {
    "collapsed": false,
    "ExecuteTime": {
     "end_time": "2024-03-16T09:05:06.945514Z",
     "start_time": "2024-03-16T09:05:06.941514Z"
    }
   },
   "id": "53beea2846524fb5",
   "execution_count": 43
  },
  {
   "cell_type": "code",
   "outputs": [
    {
     "data": {
      "text/plain": "-3.259629011154175e-09"
     },
     "execution_count": 46,
     "metadata": {},
     "output_type": "execute_result"
    }
   ],
   "source": [
    "y = net(torch.rand(4, 8))\n",
    "y.mean().item()"
   ],
   "metadata": {
    "collapsed": false,
    "ExecuteTime": {
     "end_time": "2024-03-16T09:07:37.010154Z",
     "start_time": "2024-03-16T09:07:36.996155Z"
    }
   },
   "id": "272b7759faefc151",
   "execution_count": 46
  },
  {
   "cell_type": "code",
   "outputs": [
    {
     "name": "stdout",
     "output_type": "stream",
     "text": [
      "MyDense(\n",
      "  (params): ParameterList(\n",
      "      (0): Parameter containing: [torch.float32 of size 4x4]\n",
      "      (1): Parameter containing: [torch.float32 of size 4x4]\n",
      "      (2): Parameter containing: [torch.float32 of size 4x4]\n",
      "      (3): Parameter containing: [torch.float32 of size 4x1]\n",
      "  )\n",
      ")\n"
     ]
    }
   ],
   "source": [
    "class MyDense(nn.Module):\n",
    "    def __init__(self):\n",
    "        super(MyDense, self).__init__()\n",
    "        self.params = nn.ParameterList([nn.Parameter(torch.randn(4, 4)) for i in range(3)])\n",
    "        self.params.append(nn.Parameter(torch.randn(4, 1)))\n",
    "\n",
    "    def forward(self, x):\n",
    "        for i in range(len(self.params)):\n",
    "            x = torch.mm(x, self.params[i])\n",
    "        return x\n",
    "\n",
    "\n",
    "net = MyDense()\n",
    "print(net)\n"
   ],
   "metadata": {
    "collapsed": false,
    "ExecuteTime": {
     "end_time": "2024-03-16T09:24:40.251302Z",
     "start_time": "2024-03-16T09:24:40.231547Z"
    }
   },
   "id": "565e2770c4c540e8",
   "execution_count": 47
  },
  {
   "cell_type": "code",
   "outputs": [
    {
     "name": "stdout",
     "output_type": "stream",
     "text": [
      "MyDictDense(\n",
      "  (params): ParameterDict(\n",
      "      (linear1): Parameter containing: [torch.FloatTensor of size 4x4]\n",
      "      (linear2): Parameter containing: [torch.FloatTensor of size 4x1]\n",
      "      (linear3): Parameter containing: [torch.FloatTensor of size 4x2]\n",
      "  )\n",
      ")\n"
     ]
    }
   ],
   "source": [
    "class MyDictDense(nn.Module):\n",
    "    def __init__(self):\n",
    "        super(MyDictDense, self).__init__()\n",
    "        self.params = nn.ParameterDict({\n",
    "            'linear1': nn.Parameter(torch.randn(4, 4)),\n",
    "            'linear2': nn.Parameter(torch.randn(4, 1))\n",
    "        })\n",
    "        # 新增\n",
    "        self.params.update({\n",
    "            'linear3': nn.Parameter(torch.randn(4, 2))\n",
    "        })\n",
    "\n",
    "    def forward(self, x, choice='linear1'):\n",
    "        return torch.mm(x, self.params[choice])\n",
    "\n",
    "\n",
    "net = MyDictDense()\n",
    "print(net)\n"
   ],
   "metadata": {
    "collapsed": false,
    "ExecuteTime": {
     "end_time": "2024-03-16T09:39:10.837120Z",
     "start_time": "2024-03-16T09:39:10.822911Z"
    }
   },
   "id": "85a5df9eba64d855",
   "execution_count": 48
  },
  {
   "cell_type": "code",
   "outputs": [
    {
     "name": "stdout",
     "output_type": "stream",
     "text": [
      "tensor([[ 1.7706, -0.2898,  1.3765,  0.5986]], grad_fn=<MmBackward0>)\n",
      "tensor([[-3.5328]], grad_fn=<MmBackward0>)\n",
      "tensor([[ 0.3834, -2.2809]], grad_fn=<MmBackward0>)\n"
     ]
    }
   ],
   "source": [
    "x = torch.ones(1, 4)\n",
    "print(net(x, choice='linear1'))\n",
    "print(net(x, choice='linear2'))\n",
    "print(net(x, choice='linear3'))"
   ],
   "metadata": {
    "collapsed": false,
    "ExecuteTime": {
     "end_time": "2024-03-16T09:43:08.258690Z",
     "start_time": "2024-03-16T09:43:08.251688Z"
    }
   },
   "id": "a1dc43884e917612",
   "execution_count": 49
  },
  {
   "cell_type": "code",
   "outputs": [
    {
     "name": "stdout",
     "output_type": "stream",
     "text": [
      "Sequential(\n",
      "  (0): MyDictDense(\n",
      "    (params): ParameterDict(\n",
      "        (linear1): Parameter containing: [torch.FloatTensor of size 4x4]\n",
      "        (linear2): Parameter containing: [torch.FloatTensor of size 4x1]\n",
      "        (linear3): Parameter containing: [torch.FloatTensor of size 4x2]\n",
      "    )\n",
      "  )\n",
      "  (1): MyDense(\n",
      "    (params): ParameterList(\n",
      "        (0): Parameter containing: [torch.float32 of size 4x4]\n",
      "        (1): Parameter containing: [torch.float32 of size 4x4]\n",
      "        (2): Parameter containing: [torch.float32 of size 4x4]\n",
      "        (3): Parameter containing: [torch.float32 of size 4x1]\n",
      "    )\n",
      "  )\n",
      ")\n",
      "tensor([[-1.3459]], grad_fn=<MmBackward0>)\n"
     ]
    }
   ],
   "source": [
    "net = nn.Sequential(MyDictDense(), MyDense())\n",
    "print(net)\n",
    "print(net(x))"
   ],
   "metadata": {
    "collapsed": false,
    "ExecuteTime": {
     "end_time": "2024-03-16T09:49:30.357409Z",
     "start_time": "2024-03-16T09:49:18.185119Z"
    }
   },
   "id": "8bdb7ba979ddd6a8",
   "execution_count": 51
  },
  {
   "cell_type": "code",
   "outputs": [],
   "source": [
    "x = torch.ones(3)\n",
    "torch.save(x, 'x.pt')"
   ],
   "metadata": {
    "collapsed": false,
    "ExecuteTime": {
     "end_time": "2024-03-16T11:01:27.807055Z",
     "start_time": "2024-03-16T11:01:27.790951Z"
    }
   },
   "id": "46bb42724505b1bd",
   "execution_count": 52
  },
  {
   "cell_type": "code",
   "outputs": [
    {
     "data": {
      "text/plain": "tensor([1., 1., 1.])"
     },
     "execution_count": 53,
     "metadata": {},
     "output_type": "execute_result"
    }
   ],
   "source": [
    "x2 = torch.load('x.pt')\n",
    "x2"
   ],
   "metadata": {
    "collapsed": false,
    "ExecuteTime": {
     "end_time": "2024-03-16T11:02:01.311213Z",
     "start_time": "2024-03-16T11:02:01.297207Z"
    }
   },
   "id": "1f668e6a1d6d582a",
   "execution_count": 53
  },
  {
   "cell_type": "code",
   "outputs": [
    {
     "data": {
      "text/plain": "[tensor([1., 1., 1.]), tensor([0., 0., 0., 0.])]"
     },
     "execution_count": 54,
     "metadata": {},
     "output_type": "execute_result"
    }
   ],
   "source": [
    "y = torch.zeros(4)\n",
    "torch.save([x, y], 'xy.pt')\n",
    "xy_list = torch.load('xy.pt')\n",
    "xy_list"
   ],
   "metadata": {
    "collapsed": false,
    "ExecuteTime": {
     "end_time": "2024-03-16T11:08:46.873338Z",
     "start_time": "2024-03-16T11:08:46.858338Z"
    }
   },
   "id": "7c45a6521adbdd02",
   "execution_count": 54
  },
  {
   "cell_type": "code",
   "outputs": [
    {
     "data": {
      "text/plain": "{'x': tensor([1., 1., 1.]), 'y': tensor([0., 0., 0., 0.])}"
     },
     "execution_count": 55,
     "metadata": {},
     "output_type": "execute_result"
    }
   ],
   "source": [
    "torch.save({'x': x, 'y': y}, 'xy_dict.pt')\n",
    "xy = torch.load('xy_dict.pt')\n",
    "xy"
   ],
   "metadata": {
    "collapsed": false,
    "ExecuteTime": {
     "end_time": "2024-03-16T11:15:50.801149Z",
     "start_time": "2024-03-16T11:15:50.783058Z"
    }
   },
   "id": "f06b6a064c45501e",
   "execution_count": 55
  },
  {
   "cell_type": "code",
   "outputs": [],
   "source": [
    "class MLP(nn.Module):\n",
    "    def __init__(self):\n",
    "        super(MLP, self).__init__()\n",
    "        self.hidden = nn.Linear(3, 2)\n",
    "        self.act = nn.ReLU()\n",
    "        self.output = nn.Linear(2, 1)\n",
    "\n",
    "    def forward(self, x):\n",
    "        a = self.act(self.hidden(x))\n",
    "        return self.output(a)\n",
    "\n",
    "\n",
    "net = MLP()"
   ],
   "metadata": {
    "collapsed": false,
    "ExecuteTime": {
     "end_time": "2024-03-16T11:48:50.508869Z",
     "start_time": "2024-03-16T11:48:50.492357Z"
    }
   },
   "id": "4dbed294fdbb6ad6",
   "execution_count": 56
  },
  {
   "cell_type": "code",
   "outputs": [],
   "source": [
    "torch.save(net, 'model.bin')"
   ],
   "metadata": {
    "collapsed": false,
    "ExecuteTime": {
     "end_time": "2024-03-16T11:49:03.111018Z",
     "start_time": "2024-03-16T11:49:03.102507Z"
    }
   },
   "id": "a89f3476927e87aa",
   "execution_count": 57
  },
  {
   "cell_type": "code",
   "outputs": [],
   "source": [
    "net2 = torch.load('model.bin')"
   ],
   "metadata": {
    "collapsed": false,
    "ExecuteTime": {
     "end_time": "2024-03-16T11:49:13.896616Z",
     "start_time": "2024-03-16T11:49:13.879615Z"
    }
   },
   "id": "8be0c60d30889404",
   "execution_count": 58
  },
  {
   "cell_type": "code",
   "outputs": [
    {
     "data": {
      "text/plain": "tensor([True])"
     },
     "execution_count": 59,
     "metadata": {},
     "output_type": "execute_result"
    }
   ],
   "source": [
    "Y2 = net2(x)\n",
    "y = net(x)\n",
    "Y2 == y"
   ],
   "metadata": {
    "collapsed": false,
    "ExecuteTime": {
     "end_time": "2024-03-16T11:49:38.297798Z",
     "start_time": "2024-03-16T11:49:38.286799Z"
    }
   },
   "id": "69ac12165f8b755",
   "execution_count": 59
  },
  {
   "cell_type": "code",
   "outputs": [
    {
     "name": "stdout",
     "output_type": "stream",
     "text": [
      "<class 'torch.cuda.device'>\n"
     ]
    }
   ],
   "source": [
    "torch.device('cpu'), torch.cuda.device('cuda')\n",
    "torch.cuda.device('cuda:1')"
   ],
   "metadata": {
    "collapsed": false,
    "ExecuteTime": {
     "end_time": "2024-03-16T11:55:40.528995Z",
     "start_time": "2024-03-16T11:55:40.511992Z"
    }
   },
   "id": "b2a7db04f171f969",
   "execution_count": 63
  },
  {
   "cell_type": "code",
   "outputs": [
    {
     "data": {
      "text/plain": "device(type='cpu')"
     },
     "execution_count": 64,
     "metadata": {},
     "output_type": "execute_result"
    }
   ],
   "source": [
    "x.device"
   ],
   "metadata": {
    "collapsed": false,
    "ExecuteTime": {
     "end_time": "2024-03-16T11:56:13.682079Z",
     "start_time": "2024-03-16T11:56:13.663005Z"
    }
   },
   "id": "ae8f9e59fcb83f93",
   "execution_count": 64
  },
  {
   "cell_type": "code",
   "outputs": [
    {
     "data": {
      "text/plain": "1"
     },
     "execution_count": 65,
     "metadata": {},
     "output_type": "execute_result"
    }
   ],
   "source": [
    "torch.cuda.device_count()"
   ],
   "metadata": {
    "collapsed": false,
    "ExecuteTime": {
     "end_time": "2024-03-16T11:57:07.377190Z",
     "start_time": "2024-03-16T11:57:07.363190Z"
    }
   },
   "id": "3199d61672120771",
   "execution_count": 65
  },
  {
   "cell_type": "code",
   "outputs": [
    {
     "data": {
      "text/plain": "tensor([1, 2, 3], device='cuda:0')"
     },
     "execution_count": 67,
     "metadata": {},
     "output_type": "execute_result"
    }
   ],
   "source": [
    "a = torch.tensor([1, 2, 3], device=torch.device('cuda'))\n",
    "a"
   ],
   "metadata": {
    "collapsed": false,
    "ExecuteTime": {
     "end_time": "2024-03-16T11:58:16.810188Z",
     "start_time": "2024-03-16T11:58:16.716329Z"
    }
   },
   "id": "244a842864908191",
   "execution_count": 67
  },
  {
   "cell_type": "code",
   "outputs": [
    {
     "name": "stdout",
     "output_type": "stream",
     "text": [
      "tensor([1., 1., 1.])\n",
      "tensor([1., 1., 1.], device='cuda:0')\n"
     ]
    }
   ],
   "source": [
    "z = x.cuda(0)\n",
    "print(x)\n",
    "print(z)"
   ],
   "metadata": {
    "collapsed": false,
    "ExecuteTime": {
     "end_time": "2024-03-16T11:59:04.268733Z",
     "start_time": "2024-03-16T11:59:02.707473Z"
    }
   },
   "id": "9bc95a28f7f7b4a6",
   "execution_count": 68
  },
  {
   "cell_type": "code",
   "outputs": [
    {
     "data": {
      "text/plain": "tensor([20.0855, 20.0855, 20.0855], device='cuda:0')"
     },
     "execution_count": 69,
     "metadata": {},
     "output_type": "execute_result"
    }
   ],
   "source": [
    "torch.exp((z + 2).float()) * x.float().cuda()"
   ],
   "metadata": {
    "collapsed": false,
    "ExecuteTime": {
     "end_time": "2024-03-16T12:06:18.174103Z",
     "start_time": "2024-03-16T12:06:18.163103Z"
    }
   },
   "id": "e1a7d6a44e3150f3",
   "execution_count": 69
  },
  {
   "cell_type": "code",
   "outputs": [
    {
     "data": {
      "text/plain": "device(type='cuda', index=0)"
     },
     "execution_count": 72,
     "metadata": {},
     "output_type": "execute_result"
    }
   ],
   "source": [
    "net = nn.Linear(3, 1)\n",
    "net.cuda()\n",
    "net.weight.data.device"
   ],
   "metadata": {
    "collapsed": false,
    "ExecuteTime": {
     "end_time": "2024-03-16T12:09:51.972656Z",
     "start_time": "2024-03-16T12:09:51.951054Z"
    }
   },
   "id": "c67a979bf5b022f",
   "execution_count": 72
  },
  {
   "cell_type": "code",
   "outputs": [
    {
     "data": {
      "text/plain": "tensor([[0.4232]], device='cuda:0', grad_fn=<AddmmBackward0>)"
     },
     "execution_count": 73,
     "metadata": {},
     "output_type": "execute_result"
    }
   ],
   "source": [
    "net(z.view(1, 3).float().cuda())"
   ],
   "metadata": {
    "collapsed": false,
    "ExecuteTime": {
     "end_time": "2024-03-16T12:12:42.571760Z",
     "start_time": "2024-03-16T12:12:40.835637Z"
    }
   },
   "id": "58d797a1cd5443e3",
   "execution_count": 73
  },
  {
   "cell_type": "code",
   "outputs": [
    {
     "data": {
      "text/plain": "tensor([[ 0.4400,  0.1284, -0.3436]], device='cuda:0')"
     },
     "execution_count": 74,
     "metadata": {},
     "output_type": "execute_result"
    }
   ],
   "source": [
    "net.weight.data"
   ],
   "metadata": {
    "collapsed": false,
    "ExecuteTime": {
     "end_time": "2024-03-16T12:13:42.631139Z",
     "start_time": "2024-03-16T12:13:42.612147Z"
    }
   },
   "id": "b8cb31f670e6ffba",
   "execution_count": 74
  }
 ],
 "metadata": {
  "kernelspec": {
   "name": "py3.7_kernel",
   "language": "python",
   "display_name": "py3.7_kernel"
  },
  "language_info": {
   "codemirror_mode": {
    "name": "ipython",
    "version": 2
   },
   "file_extension": ".py",
   "mimetype": "text/x-python",
   "name": "python",
   "nbconvert_exporter": "python",
   "pygments_lexer": "ipython2",
   "version": "2.7.6"
  }
 },
 "nbformat": 4,
 "nbformat_minor": 5
}
