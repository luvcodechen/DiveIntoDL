{
 "cells": [
  {
   "cell_type": "code",
   "execution_count": 1,
   "id": "920d82ee671ccf85",
   "metadata": {
    "collapsed": false,
    "ExecuteTime": {
     "end_time": "2024-03-08T12:56:15.740840Z",
     "start_time": "2024-03-08T12:56:15.729839Z"
    }
   },
   "outputs": [],
   "source": [
    "# 线性回归"
   ]
  },
  {
   "cell_type": "code",
   "outputs": [],
   "source": [
    "import torch\n",
    "\n",
    "a = torch.ones(1000)\n",
    "b = torch.ones(1000)"
   ],
   "metadata": {
    "collapsed": true,
    "ExecuteTime": {
     "end_time": "2024-03-08T12:56:16.793147Z",
     "start_time": "2024-03-08T12:56:15.742841Z"
    }
   },
   "id": "initial_id",
   "execution_count": 2
  },
  {
   "cell_type": "code",
   "outputs": [
    {
     "data": {
      "text/plain": "0.007001161575317383"
     },
     "execution_count": 3,
     "metadata": {},
     "output_type": "execute_result"
    }
   ],
   "source": [
    "from time import time\n",
    "\n",
    "start = time()\n",
    "c = torch.zeros(1000)\n",
    "for i in range(1000):\n",
    "    c[i] = a[i] + b[i]\n",
    "time() - start"
   ],
   "metadata": {
    "collapsed": false,
    "ExecuteTime": {
     "end_time": "2024-03-08T12:56:16.808147Z",
     "start_time": "2024-03-08T12:56:16.794147Z"
    }
   },
   "id": "41b92df997d484",
   "execution_count": 3
  },
  {
   "cell_type": "code",
   "outputs": [
    {
     "data": {
      "text/plain": "0.0010027885437011719"
     },
     "execution_count": 4,
     "metadata": {},
     "output_type": "execute_result"
    }
   ],
   "source": [
    "start = time()\n",
    "d = a + b\n",
    "time() - start"
   ],
   "metadata": {
    "collapsed": false,
    "ExecuteTime": {
     "end_time": "2024-03-08T12:56:16.824148Z",
     "start_time": "2024-03-08T12:56:16.809147Z"
    }
   },
   "id": "f43c6d9e1271a173",
   "execution_count": 4
  },
  {
   "cell_type": "code",
   "outputs": [
    {
     "data": {
      "text/plain": "tensor([11., 11., 11.])"
     },
     "execution_count": 5,
     "metadata": {},
     "output_type": "execute_result"
    }
   ],
   "source": [
    "a = torch.ones(3)\n",
    "b = 10\n",
    "a + b"
   ],
   "metadata": {
    "collapsed": false,
    "ExecuteTime": {
     "end_time": "2024-03-08T12:56:16.839498Z",
     "start_time": "2024-03-08T12:56:16.826492Z"
    }
   },
   "id": "5177d05bb1b3aedd",
   "execution_count": 5
  },
  {
   "cell_type": "code",
   "outputs": [
    {
     "data": {
      "text/plain": "0.0"
     },
     "execution_count": 6,
     "metadata": {},
     "output_type": "execute_result"
    }
   ],
   "source": [
    "import numpy as np\n",
    "\n",
    "a = np.ones(1000)\n",
    "b = np.ones(1000)\n",
    "start = time()\n",
    "d = a + b\n",
    "time() - start"
   ],
   "metadata": {
    "collapsed": false,
    "ExecuteTime": {
     "end_time": "2024-03-08T12:56:16.855133Z",
     "start_time": "2024-03-08T12:56:16.841135Z"
    }
   },
   "id": "105f67301c6d8bfb",
   "execution_count": 6
  },
  {
   "cell_type": "code",
   "outputs": [],
   "source": [
    "import matplotlib.pyplot as plt\n",
    "import random"
   ],
   "metadata": {
    "collapsed": false,
    "ExecuteTime": {
     "end_time": "2024-03-08T12:56:17.409693Z",
     "start_time": "2024-03-08T12:56:16.857135Z"
    }
   },
   "id": "12f93984631c85a5",
   "execution_count": 7
  },
  {
   "cell_type": "code",
   "outputs": [],
   "source": [
    "num_inputs = 2\n",
    "num_examples = 1000\n",
    "true_w = [2, -3.4]\n",
    "true_b = 4.2\n",
    "features = torch.randn(num_examples, num_inputs, dtype=torch.float32)\n",
    "labels = true_w[0] * features[:, 0] + true_w[1] * features[:, 1] + true_b\n",
    "labels += torch.tensor(np.random.normal(0, 0.01, size=labels.size()), dtype=torch.float32)"
   ],
   "metadata": {
    "collapsed": false,
    "ExecuteTime": {
     "end_time": "2024-03-08T12:56:17.425693Z",
     "start_time": "2024-03-08T12:56:17.411695Z"
    }
   },
   "id": "e75e148c65dbcd1c",
   "execution_count": 8
  },
  {
   "cell_type": "code",
   "outputs": [
    {
     "data": {
      "text/plain": "(tensor([-0.9053, -1.6199]), tensor(7.9210))"
     },
     "execution_count": 9,
     "metadata": {},
     "output_type": "execute_result"
    }
   ],
   "source": [
    "features[0], labels[0]"
   ],
   "metadata": {
    "collapsed": false,
    "ExecuteTime": {
     "end_time": "2024-03-08T12:56:17.441693Z",
     "start_time": "2024-03-08T12:56:17.426693Z"
    }
   },
   "id": "bd3a30e40491b0f6",
   "execution_count": 9
  },
  {
   "cell_type": "code",
   "outputs": [
    {
     "name": "stderr",
     "output_type": "stream",
     "text": [
      "E:\\python_tools\\anaconda3\\envs\\py3.7\\lib\\site-packages\\ipykernel_launcher.py:6: DeprecationWarning: `set_matplotlib_formats` is deprecated since IPython 7.23, directly use `matplotlib_inline.backend_inline.set_matplotlib_formats()`\n",
      "  \n"
     ]
    },
    {
     "data": {
      "text/plain": "<matplotlib.collections.PathCollection at 0x245f0af7a20>"
     },
     "execution_count": 10,
     "metadata": {},
     "output_type": "execute_result"
    },
    {
     "data": {
      "text/plain": "<Figure size 350x250 with 1 Axes>",
      "image/svg+xml": "<?xml version=\"1.0\" encoding=\"utf-8\" standalone=\"no\"?>\n<!DOCTYPE svg PUBLIC \"-//W3C//DTD SVG 1.1//EN\"\n  \"http://www.w3.org/Graphics/SVG/1.1/DTD/svg11.dtd\">\n<svg xmlns:xlink=\"http://www.w3.org/1999/xlink\" width=\"231.442187pt\" height=\"169.678125pt\" viewBox=\"0 0 231.442187 169.678125\" xmlns=\"http://www.w3.org/2000/svg\" version=\"1.1\">\n <metadata>\n  <rdf:RDF xmlns:dc=\"http://purl.org/dc/elements/1.1/\" xmlns:cc=\"http://creativecommons.org/ns#\" xmlns:rdf=\"http://www.w3.org/1999/02/22-rdf-syntax-ns#\">\n   <cc:Work>\n    <dc:type rdf:resource=\"http://purl.org/dc/dcmitype/StillImage\"/>\n    <dc:date>2024-03-08T20:56:17.522018</dc:date>\n    <dc:format>image/svg+xml</dc:format>\n    <dc:creator>\n     <cc:Agent>\n      <dc:title>Matplotlib v3.5.3, https://matplotlib.org/</dc:title>\n     </cc:Agent>\n    </dc:creator>\n   </cc:Work>\n  </rdf:RDF>\n </metadata>\n <defs>\n  <style type=\"text/css\">*{stroke-linejoin: round; stroke-linecap: butt}</style>\n </defs>\n <g id=\"figure_1\">\n  <g id=\"patch_1\">\n   <path d=\"M 0 169.678125 \nL 231.442187 169.678125 \nL 231.442187 0 \nL 0 0 \nz\n\" style=\"fill: #ffffff\"/>\n  </g>\n  <g id=\"axes_1\">\n   <g id=\"patch_2\">\n    <path d=\"M 28.942188 145.8 \nL 224.242188 145.8 \nL 224.242188 7.2 \nL 28.942188 7.2 \nz\n\" style=\"fill: #ffffff\"/>\n   </g>\n   <g id=\"PathCollection_1\">\n    <defs>\n     <path id=\"mb52989f7c4\" d=\"M 0 0.5 \nC 0.132602 0.5 0.25979 0.447317 0.353553 0.353553 \nC 0.447317 0.25979 0.5 0.132602 0.5 0 \nC 0.5 -0.132602 0.447317 -0.25979 0.353553 -0.353553 \nC 0.25979 -0.447317 0.132602 -0.5 0 -0.5 \nC -0.132602 -0.5 -0.25979 -0.447317 -0.353553 -0.353553 \nC -0.447317 -0.25979 -0.5 -0.132602 -0.5 0 \nC -0.5 0.132602 -0.447317 0.25979 -0.353553 0.353553 \nC -0.25979 0.447317 -0.132602 0.5 0 0.5 \nz\n\" style=\"stroke: #1f77b4\"/>\n    </defs>\n    <g clip-path=\"url(#p219902f5ea)\">\n     <use xlink:href=\"#mb52989f7c4\" x=\"68.711433\" y=\"51.74904\" style=\"fill: #1f77b4; stroke: #1f77b4\"/>\n     <use xlink:href=\"#mb52989f7c4\" x=\"162.910527\" y=\"92.954841\" style=\"fill: #1f77b4; stroke: #1f77b4\"/>\n     <use xlink:href=\"#mb52989f7c4\" x=\"65.345608\" y=\"52.447903\" style=\"fill: #1f77b4; stroke: #1f77b4\"/>\n     <use xlink:href=\"#mb52989f7c4\" x=\"171.34247\" y=\"111.098998\" style=\"fill: #1f77b4; stroke: #1f77b4\"/>\n     <use xlink:href=\"#mb52989f7c4\" x=\"99.983994\" y=\"52.97057\" style=\"fill: #1f77b4; stroke: #1f77b4\"/>\n     <use xlink:href=\"#mb52989f7c4\" x=\"101.790849\" y=\"72.210013\" style=\"fill: #1f77b4; stroke: #1f77b4\"/>\n     <use xlink:href=\"#mb52989f7c4\" x=\"162.527329\" y=\"96.680431\" style=\"fill: #1f77b4; stroke: #1f77b4\"/>\n     <use xlink:href=\"#mb52989f7c4\" x=\"100.338518\" y=\"60.699042\" style=\"fill: #1f77b4; stroke: #1f77b4\"/>\n     <use xlink:href=\"#mb52989f7c4\" x=\"145.399717\" y=\"107.451651\" style=\"fill: #1f77b4; stroke: #1f77b4\"/>\n     <use xlink:href=\"#mb52989f7c4\" x=\"127.61715\" y=\"65.217718\" style=\"fill: #1f77b4; stroke: #1f77b4\"/>\n     <use xlink:href=\"#mb52989f7c4\" x=\"113.080182\" y=\"63.921094\" style=\"fill: #1f77b4; stroke: #1f77b4\"/>\n     <use xlink:href=\"#mb52989f7c4\" x=\"127.45935\" y=\"98.775201\" style=\"fill: #1f77b4; stroke: #1f77b4\"/>\n     <use xlink:href=\"#mb52989f7c4\" x=\"69.238909\" y=\"34.865342\" style=\"fill: #1f77b4; stroke: #1f77b4\"/>\n     <use xlink:href=\"#mb52989f7c4\" x=\"58.616317\" y=\"39.209338\" style=\"fill: #1f77b4; stroke: #1f77b4\"/>\n     <use xlink:href=\"#mb52989f7c4\" x=\"82.670301\" y=\"76.977755\" style=\"fill: #1f77b4; stroke: #1f77b4\"/>\n     <use xlink:href=\"#mb52989f7c4\" x=\"127.294083\" y=\"63.580059\" style=\"fill: #1f77b4; stroke: #1f77b4\"/>\n     <use xlink:href=\"#mb52989f7c4\" x=\"109.464381\" y=\"69.397006\" style=\"fill: #1f77b4; stroke: #1f77b4\"/>\n     <use xlink:href=\"#mb52989f7c4\" x=\"90.598591\" y=\"56.938338\" style=\"fill: #1f77b4; stroke: #1f77b4\"/>\n     <use xlink:href=\"#mb52989f7c4\" x=\"110.67905\" y=\"58.737331\" style=\"fill: #1f77b4; stroke: #1f77b4\"/>\n     <use xlink:href=\"#mb52989f7c4\" x=\"112.380431\" y=\"74.200444\" style=\"fill: #1f77b4; stroke: #1f77b4\"/>\n     <use xlink:href=\"#mb52989f7c4\" x=\"84.441456\" y=\"50.300104\" style=\"fill: #1f77b4; stroke: #1f77b4\"/>\n     <use xlink:href=\"#mb52989f7c4\" x=\"149.940638\" y=\"108.140035\" style=\"fill: #1f77b4; stroke: #1f77b4\"/>\n     <use xlink:href=\"#mb52989f7c4\" x=\"72.890014\" y=\"21.859896\" style=\"fill: #1f77b4; stroke: #1f77b4\"/>\n     <use xlink:href=\"#mb52989f7c4\" x=\"76.661655\" y=\"48.097613\" style=\"fill: #1f77b4; stroke: #1f77b4\"/>\n     <use xlink:href=\"#mb52989f7c4\" x=\"128.520943\" y=\"75.242776\" style=\"fill: #1f77b4; stroke: #1f77b4\"/>\n     <use xlink:href=\"#mb52989f7c4\" x=\"89.443446\" y=\"60.073221\" style=\"fill: #1f77b4; stroke: #1f77b4\"/>\n     <use xlink:href=\"#mb52989f7c4\" x=\"143.421381\" y=\"87.184398\" style=\"fill: #1f77b4; stroke: #1f77b4\"/>\n     <use xlink:href=\"#mb52989f7c4\" x=\"109.39796\" y=\"76.317065\" style=\"fill: #1f77b4; stroke: #1f77b4\"/>\n     <use xlink:href=\"#mb52989f7c4\" x=\"147.85793\" y=\"82.360466\" style=\"fill: #1f77b4; stroke: #1f77b4\"/>\n     <use xlink:href=\"#mb52989f7c4\" x=\"95.47676\" y=\"64.79579\" style=\"fill: #1f77b4; stroke: #1f77b4\"/>\n     <use xlink:href=\"#mb52989f7c4\" x=\"97.153182\" y=\"59.108073\" style=\"fill: #1f77b4; stroke: #1f77b4\"/>\n     <use xlink:href=\"#mb52989f7c4\" x=\"98.417575\" y=\"60.728118\" style=\"fill: #1f77b4; stroke: #1f77b4\"/>\n     <use xlink:href=\"#mb52989f7c4\" x=\"129.922317\" y=\"105.289643\" style=\"fill: #1f77b4; stroke: #1f77b4\"/>\n     <use xlink:href=\"#mb52989f7c4\" x=\"124.128596\" y=\"89.634211\" style=\"fill: #1f77b4; stroke: #1f77b4\"/>\n     <use xlink:href=\"#mb52989f7c4\" x=\"125.586745\" y=\"81.248071\" style=\"fill: #1f77b4; stroke: #1f77b4\"/>\n     <use xlink:href=\"#mb52989f7c4\" x=\"109.031906\" y=\"65.499655\" style=\"fill: #1f77b4; stroke: #1f77b4\"/>\n     <use xlink:href=\"#mb52989f7c4\" x=\"67.213285\" y=\"20.057299\" style=\"fill: #1f77b4; stroke: #1f77b4\"/>\n     <use xlink:href=\"#mb52989f7c4\" x=\"158.235091\" y=\"90.021949\" style=\"fill: #1f77b4; stroke: #1f77b4\"/>\n     <use xlink:href=\"#mb52989f7c4\" x=\"70.028498\" y=\"25.573973\" style=\"fill: #1f77b4; stroke: #1f77b4\"/>\n     <use xlink:href=\"#mb52989f7c4\" x=\"139.508251\" y=\"62.864703\" style=\"fill: #1f77b4; stroke: #1f77b4\"/>\n     <use xlink:href=\"#mb52989f7c4\" x=\"73.252293\" y=\"30.89632\" style=\"fill: #1f77b4; stroke: #1f77b4\"/>\n     <use xlink:href=\"#mb52989f7c4\" x=\"105.782944\" y=\"78.467441\" style=\"fill: #1f77b4; stroke: #1f77b4\"/>\n     <use xlink:href=\"#mb52989f7c4\" x=\"124.887899\" y=\"62.270661\" style=\"fill: #1f77b4; stroke: #1f77b4\"/>\n     <use xlink:href=\"#mb52989f7c4\" x=\"142.063956\" y=\"56.019968\" style=\"fill: #1f77b4; stroke: #1f77b4\"/>\n     <use xlink:href=\"#mb52989f7c4\" x=\"55.353636\" y=\"35.119135\" style=\"fill: #1f77b4; stroke: #1f77b4\"/>\n     <use xlink:href=\"#mb52989f7c4\" x=\"158.637229\" y=\"96.170171\" style=\"fill: #1f77b4; stroke: #1f77b4\"/>\n     <use xlink:href=\"#mb52989f7c4\" x=\"171.271932\" y=\"95.310589\" style=\"fill: #1f77b4; stroke: #1f77b4\"/>\n     <use xlink:href=\"#mb52989f7c4\" x=\"79.920893\" y=\"52.993077\" style=\"fill: #1f77b4; stroke: #1f77b4\"/>\n     <use xlink:href=\"#mb52989f7c4\" x=\"108.886171\" y=\"61.01653\" style=\"fill: #1f77b4; stroke: #1f77b4\"/>\n     <use xlink:href=\"#mb52989f7c4\" x=\"121.910834\" y=\"78.489265\" style=\"fill: #1f77b4; stroke: #1f77b4\"/>\n     <use xlink:href=\"#mb52989f7c4\" x=\"131.138744\" y=\"103.472282\" style=\"fill: #1f77b4; stroke: #1f77b4\"/>\n     <use xlink:href=\"#mb52989f7c4\" x=\"131.526713\" y=\"75.566312\" style=\"fill: #1f77b4; stroke: #1f77b4\"/>\n     <use xlink:href=\"#mb52989f7c4\" x=\"135.72737\" y=\"82.313421\" style=\"fill: #1f77b4; stroke: #1f77b4\"/>\n     <use xlink:href=\"#mb52989f7c4\" x=\"129.813937\" y=\"78.669669\" style=\"fill: #1f77b4; stroke: #1f77b4\"/>\n     <use xlink:href=\"#mb52989f7c4\" x=\"141.619446\" y=\"83.843401\" style=\"fill: #1f77b4; stroke: #1f77b4\"/>\n     <use xlink:href=\"#mb52989f7c4\" x=\"83.577986\" y=\"56.926739\" style=\"fill: #1f77b4; stroke: #1f77b4\"/>\n     <use xlink:href=\"#mb52989f7c4\" x=\"138.996652\" y=\"70.170397\" style=\"fill: #1f77b4; stroke: #1f77b4\"/>\n     <use xlink:href=\"#mb52989f7c4\" x=\"74.86272\" y=\"47.700824\" style=\"fill: #1f77b4; stroke: #1f77b4\"/>\n     <use xlink:href=\"#mb52989f7c4\" x=\"108.340406\" y=\"48.740251\" style=\"fill: #1f77b4; stroke: #1f77b4\"/>\n     <use xlink:href=\"#mb52989f7c4\" x=\"130.038345\" y=\"92.318702\" style=\"fill: #1f77b4; stroke: #1f77b4\"/>\n     <use xlink:href=\"#mb52989f7c4\" x=\"87.770796\" y=\"56.961256\" style=\"fill: #1f77b4; stroke: #1f77b4\"/>\n     <use xlink:href=\"#mb52989f7c4\" x=\"139.483369\" y=\"89.954561\" style=\"fill: #1f77b4; stroke: #1f77b4\"/>\n     <use xlink:href=\"#mb52989f7c4\" x=\"101.153735\" y=\"50.578859\" style=\"fill: #1f77b4; stroke: #1f77b4\"/>\n     <use xlink:href=\"#mb52989f7c4\" x=\"96.799085\" y=\"58.326825\" style=\"fill: #1f77b4; stroke: #1f77b4\"/>\n     <use xlink:href=\"#mb52989f7c4\" x=\"106.766176\" y=\"68.44242\" style=\"fill: #1f77b4; stroke: #1f77b4\"/>\n     <use xlink:href=\"#mb52989f7c4\" x=\"130.103545\" y=\"67.768223\" style=\"fill: #1f77b4; stroke: #1f77b4\"/>\n     <use xlink:href=\"#mb52989f7c4\" x=\"114.437153\" y=\"61.807864\" style=\"fill: #1f77b4; stroke: #1f77b4\"/>\n     <use xlink:href=\"#mb52989f7c4\" x=\"98.303946\" y=\"77.314095\" style=\"fill: #1f77b4; stroke: #1f77b4\"/>\n     <use xlink:href=\"#mb52989f7c4\" x=\"104.70213\" y=\"64.044568\" style=\"fill: #1f77b4; stroke: #1f77b4\"/>\n     <use xlink:href=\"#mb52989f7c4\" x=\"125.090601\" y=\"87.815843\" style=\"fill: #1f77b4; stroke: #1f77b4\"/>\n     <use xlink:href=\"#mb52989f7c4\" x=\"83.356824\" y=\"47.734213\" style=\"fill: #1f77b4; stroke: #1f77b4\"/>\n     <use xlink:href=\"#mb52989f7c4\" x=\"131.464242\" y=\"68.366892\" style=\"fill: #1f77b4; stroke: #1f77b4\"/>\n     <use xlink:href=\"#mb52989f7c4\" x=\"106.943544\" y=\"78.316844\" style=\"fill: #1f77b4; stroke: #1f77b4\"/>\n     <use xlink:href=\"#mb52989f7c4\" x=\"131.832957\" y=\"77.211811\" style=\"fill: #1f77b4; stroke: #1f77b4\"/>\n     <use xlink:href=\"#mb52989f7c4\" x=\"111.619707\" y=\"65.937899\" style=\"fill: #1f77b4; stroke: #1f77b4\"/>\n     <use xlink:href=\"#mb52989f7c4\" x=\"180.217976\" y=\"106.261613\" style=\"fill: #1f77b4; stroke: #1f77b4\"/>\n     <use xlink:href=\"#mb52989f7c4\" x=\"96.471134\" y=\"62.279506\" style=\"fill: #1f77b4; stroke: #1f77b4\"/>\n     <use xlink:href=\"#mb52989f7c4\" x=\"163.272952\" y=\"105.153586\" style=\"fill: #1f77b4; stroke: #1f77b4\"/>\n     <use xlink:href=\"#mb52989f7c4\" x=\"96.706294\" y=\"55.067241\" style=\"fill: #1f77b4; stroke: #1f77b4\"/>\n     <use xlink:href=\"#mb52989f7c4\" x=\"153.012516\" y=\"96.282321\" style=\"fill: #1f77b4; stroke: #1f77b4\"/>\n     <use xlink:href=\"#mb52989f7c4\" x=\"171.531697\" y=\"90.868547\" style=\"fill: #1f77b4; stroke: #1f77b4\"/>\n     <use xlink:href=\"#mb52989f7c4\" x=\"139.314189\" y=\"80.985981\" style=\"fill: #1f77b4; stroke: #1f77b4\"/>\n     <use xlink:href=\"#mb52989f7c4\" x=\"97.057477\" y=\"51.215863\" style=\"fill: #1f77b4; stroke: #1f77b4\"/>\n     <use xlink:href=\"#mb52989f7c4\" x=\"87.46926\" y=\"44.075188\" style=\"fill: #1f77b4; stroke: #1f77b4\"/>\n     <use xlink:href=\"#mb52989f7c4\" x=\"131.539307\" y=\"80.711517\" style=\"fill: #1f77b4; stroke: #1f77b4\"/>\n     <use xlink:href=\"#mb52989f7c4\" x=\"111.696773\" y=\"60.127263\" style=\"fill: #1f77b4; stroke: #1f77b4\"/>\n     <use xlink:href=\"#mb52989f7c4\" x=\"131.816407\" y=\"57.745919\" style=\"fill: #1f77b4; stroke: #1f77b4\"/>\n     <use xlink:href=\"#mb52989f7c4\" x=\"108.97363\" y=\"81.871965\" style=\"fill: #1f77b4; stroke: #1f77b4\"/>\n     <use xlink:href=\"#mb52989f7c4\" x=\"107.226755\" y=\"66.063581\" style=\"fill: #1f77b4; stroke: #1f77b4\"/>\n     <use xlink:href=\"#mb52989f7c4\" x=\"97.931822\" y=\"60.474755\" style=\"fill: #1f77b4; stroke: #1f77b4\"/>\n     <use xlink:href=\"#mb52989f7c4\" x=\"132.384737\" y=\"75.634553\" style=\"fill: #1f77b4; stroke: #1f77b4\"/>\n     <use xlink:href=\"#mb52989f7c4\" x=\"97.661996\" y=\"27.718211\" style=\"fill: #1f77b4; stroke: #1f77b4\"/>\n     <use xlink:href=\"#mb52989f7c4\" x=\"136.532793\" y=\"96.823136\" style=\"fill: #1f77b4; stroke: #1f77b4\"/>\n     <use xlink:href=\"#mb52989f7c4\" x=\"94.659999\" y=\"43.123658\" style=\"fill: #1f77b4; stroke: #1f77b4\"/>\n     <use xlink:href=\"#mb52989f7c4\" x=\"130.587836\" y=\"103.076122\" style=\"fill: #1f77b4; stroke: #1f77b4\"/>\n     <use xlink:href=\"#mb52989f7c4\" x=\"113.577182\" y=\"66.771001\" style=\"fill: #1f77b4; stroke: #1f77b4\"/>\n     <use xlink:href=\"#mb52989f7c4\" x=\"137.462425\" y=\"82.33767\" style=\"fill: #1f77b4; stroke: #1f77b4\"/>\n     <use xlink:href=\"#mb52989f7c4\" x=\"199.454878\" y=\"104.928728\" style=\"fill: #1f77b4; stroke: #1f77b4\"/>\n     <use xlink:href=\"#mb52989f7c4\" x=\"107.507777\" y=\"65.764984\" style=\"fill: #1f77b4; stroke: #1f77b4\"/>\n     <use xlink:href=\"#mb52989f7c4\" x=\"128.0428\" y=\"92.908603\" style=\"fill: #1f77b4; stroke: #1f77b4\"/>\n     <use xlink:href=\"#mb52989f7c4\" x=\"133.779834\" y=\"98.331757\" style=\"fill: #1f77b4; stroke: #1f77b4\"/>\n     <use xlink:href=\"#mb52989f7c4\" x=\"92.607207\" y=\"36.865003\" style=\"fill: #1f77b4; stroke: #1f77b4\"/>\n     <use xlink:href=\"#mb52989f7c4\" x=\"66.694314\" y=\"52.039143\" style=\"fill: #1f77b4; stroke: #1f77b4\"/>\n     <use xlink:href=\"#mb52989f7c4\" x=\"92.167355\" y=\"38.48172\" style=\"fill: #1f77b4; stroke: #1f77b4\"/>\n     <use xlink:href=\"#mb52989f7c4\" x=\"127.716322\" y=\"77.225015\" style=\"fill: #1f77b4; stroke: #1f77b4\"/>\n     <use xlink:href=\"#mb52989f7c4\" x=\"67.730747\" y=\"74.470153\" style=\"fill: #1f77b4; stroke: #1f77b4\"/>\n     <use xlink:href=\"#mb52989f7c4\" x=\"174.394178\" y=\"88.187476\" style=\"fill: #1f77b4; stroke: #1f77b4\"/>\n     <use xlink:href=\"#mb52989f7c4\" x=\"171.468635\" y=\"113.284506\" style=\"fill: #1f77b4; stroke: #1f77b4\"/>\n     <use xlink:href=\"#mb52989f7c4\" x=\"158.466375\" y=\"109.48388\" style=\"fill: #1f77b4; stroke: #1f77b4\"/>\n     <use xlink:href=\"#mb52989f7c4\" x=\"93.147103\" y=\"47.102818\" style=\"fill: #1f77b4; stroke: #1f77b4\"/>\n     <use xlink:href=\"#mb52989f7c4\" x=\"100.970745\" y=\"58.790268\" style=\"fill: #1f77b4; stroke: #1f77b4\"/>\n     <use xlink:href=\"#mb52989f7c4\" x=\"61.104018\" y=\"33.327881\" style=\"fill: #1f77b4; stroke: #1f77b4\"/>\n     <use xlink:href=\"#mb52989f7c4\" x=\"114.631093\" y=\"70.237538\" style=\"fill: #1f77b4; stroke: #1f77b4\"/>\n     <use xlink:href=\"#mb52989f7c4\" x=\"166.558941\" y=\"105.133781\" style=\"fill: #1f77b4; stroke: #1f77b4\"/>\n     <use xlink:href=\"#mb52989f7c4\" x=\"130.28872\" y=\"93.177383\" style=\"fill: #1f77b4; stroke: #1f77b4\"/>\n     <use xlink:href=\"#mb52989f7c4\" x=\"60.667112\" y=\"35.498999\" style=\"fill: #1f77b4; stroke: #1f77b4\"/>\n     <use xlink:href=\"#mb52989f7c4\" x=\"148.598937\" y=\"87.675594\" style=\"fill: #1f77b4; stroke: #1f77b4\"/>\n     <use xlink:href=\"#mb52989f7c4\" x=\"120.22129\" y=\"76.291962\" style=\"fill: #1f77b4; stroke: #1f77b4\"/>\n     <use xlink:href=\"#mb52989f7c4\" x=\"55.365733\" y=\"44.011956\" style=\"fill: #1f77b4; stroke: #1f77b4\"/>\n     <use xlink:href=\"#mb52989f7c4\" x=\"109.166321\" y=\"63.567505\" style=\"fill: #1f77b4; stroke: #1f77b4\"/>\n     <use xlink:href=\"#mb52989f7c4\" x=\"137.847532\" y=\"81.227299\" style=\"fill: #1f77b4; stroke: #1f77b4\"/>\n     <use xlink:href=\"#mb52989f7c4\" x=\"116.79687\" y=\"56.094705\" style=\"fill: #1f77b4; stroke: #1f77b4\"/>\n     <use xlink:href=\"#mb52989f7c4\" x=\"131.437234\" y=\"112.196723\" style=\"fill: #1f77b4; stroke: #1f77b4\"/>\n     <use xlink:href=\"#mb52989f7c4\" x=\"99.25397\" y=\"74.780671\" style=\"fill: #1f77b4; stroke: #1f77b4\"/>\n     <use xlink:href=\"#mb52989f7c4\" x=\"110.564805\" y=\"87.073999\" style=\"fill: #1f77b4; stroke: #1f77b4\"/>\n     <use xlink:href=\"#mb52989f7c4\" x=\"69.004576\" y=\"61.931627\" style=\"fill: #1f77b4; stroke: #1f77b4\"/>\n     <use xlink:href=\"#mb52989f7c4\" x=\"128.296366\" y=\"81.200891\" style=\"fill: #1f77b4; stroke: #1f77b4\"/>\n     <use xlink:href=\"#mb52989f7c4\" x=\"83.768246\" y=\"44.97031\" style=\"fill: #1f77b4; stroke: #1f77b4\"/>\n     <use xlink:href=\"#mb52989f7c4\" x=\"160.304521\" y=\"103.927065\" style=\"fill: #1f77b4; stroke: #1f77b4\"/>\n     <use xlink:href=\"#mb52989f7c4\" x=\"152.794145\" y=\"76.08663\" style=\"fill: #1f77b4; stroke: #1f77b4\"/>\n     <use xlink:href=\"#mb52989f7c4\" x=\"153.602946\" y=\"79.246512\" style=\"fill: #1f77b4; stroke: #1f77b4\"/>\n     <use xlink:href=\"#mb52989f7c4\" x=\"125.787136\" y=\"99.041178\" style=\"fill: #1f77b4; stroke: #1f77b4\"/>\n     <use xlink:href=\"#mb52989f7c4\" x=\"152.114312\" y=\"92.836737\" style=\"fill: #1f77b4; stroke: #1f77b4\"/>\n     <use xlink:href=\"#mb52989f7c4\" x=\"153.49521\" y=\"96.853359\" style=\"fill: #1f77b4; stroke: #1f77b4\"/>\n     <use xlink:href=\"#mb52989f7c4\" x=\"131.117358\" y=\"66.194392\" style=\"fill: #1f77b4; stroke: #1f77b4\"/>\n     <use xlink:href=\"#mb52989f7c4\" x=\"101.830106\" y=\"51.221639\" style=\"fill: #1f77b4; stroke: #1f77b4\"/>\n     <use xlink:href=\"#mb52989f7c4\" x=\"144.897604\" y=\"90.330523\" style=\"fill: #1f77b4; stroke: #1f77b4\"/>\n     <use xlink:href=\"#mb52989f7c4\" x=\"97.281591\" y=\"57.690552\" style=\"fill: #1f77b4; stroke: #1f77b4\"/>\n     <use xlink:href=\"#mb52989f7c4\" x=\"84.577426\" y=\"42.459487\" style=\"fill: #1f77b4; stroke: #1f77b4\"/>\n     <use xlink:href=\"#mb52989f7c4\" x=\"90.220601\" y=\"51.411935\" style=\"fill: #1f77b4; stroke: #1f77b4\"/>\n     <use xlink:href=\"#mb52989f7c4\" x=\"183.668609\" y=\"110.448081\" style=\"fill: #1f77b4; stroke: #1f77b4\"/>\n     <use xlink:href=\"#mb52989f7c4\" x=\"89.919018\" y=\"49.382303\" style=\"fill: #1f77b4; stroke: #1f77b4\"/>\n     <use xlink:href=\"#mb52989f7c4\" x=\"168.928289\" y=\"102.937169\" style=\"fill: #1f77b4; stroke: #1f77b4\"/>\n     <use xlink:href=\"#mb52989f7c4\" x=\"114.994869\" y=\"58.752936\" style=\"fill: #1f77b4; stroke: #1f77b4\"/>\n     <use xlink:href=\"#mb52989f7c4\" x=\"108.237001\" y=\"43.747454\" style=\"fill: #1f77b4; stroke: #1f77b4\"/>\n     <use xlink:href=\"#mb52989f7c4\" x=\"90.942202\" y=\"69.829888\" style=\"fill: #1f77b4; stroke: #1f77b4\"/>\n     <use xlink:href=\"#mb52989f7c4\" x=\"125.67679\" y=\"66.410614\" style=\"fill: #1f77b4; stroke: #1f77b4\"/>\n     <use xlink:href=\"#mb52989f7c4\" x=\"111.268024\" y=\"64.563473\" style=\"fill: #1f77b4; stroke: #1f77b4\"/>\n     <use xlink:href=\"#mb52989f7c4\" x=\"83.712164\" y=\"41.680236\" style=\"fill: #1f77b4; stroke: #1f77b4\"/>\n     <use xlink:href=\"#mb52989f7c4\" x=\"126.003325\" y=\"68.860527\" style=\"fill: #1f77b4; stroke: #1f77b4\"/>\n     <use xlink:href=\"#mb52989f7c4\" x=\"118.670039\" y=\"66.030784\" style=\"fill: #1f77b4; stroke: #1f77b4\"/>\n     <use xlink:href=\"#mb52989f7c4\" x=\"80.514312\" y=\"41.095919\" style=\"fill: #1f77b4; stroke: #1f77b4\"/>\n     <use xlink:href=\"#mb52989f7c4\" x=\"133.556974\" y=\"89.189048\" style=\"fill: #1f77b4; stroke: #1f77b4\"/>\n     <use xlink:href=\"#mb52989f7c4\" x=\"187.014619\" y=\"111.699429\" style=\"fill: #1f77b4; stroke: #1f77b4\"/>\n     <use xlink:href=\"#mb52989f7c4\" x=\"133.550126\" y=\"87.578431\" style=\"fill: #1f77b4; stroke: #1f77b4\"/>\n     <use xlink:href=\"#mb52989f7c4\" x=\"101.998518\" y=\"62.971559\" style=\"fill: #1f77b4; stroke: #1f77b4\"/>\n     <use xlink:href=\"#mb52989f7c4\" x=\"151.449539\" y=\"92.548248\" style=\"fill: #1f77b4; stroke: #1f77b4\"/>\n     <use xlink:href=\"#mb52989f7c4\" x=\"121.431056\" y=\"84.677681\" style=\"fill: #1f77b4; stroke: #1f77b4\"/>\n     <use xlink:href=\"#mb52989f7c4\" x=\"131.040837\" y=\"80.266035\" style=\"fill: #1f77b4; stroke: #1f77b4\"/>\n     <use xlink:href=\"#mb52989f7c4\" x=\"139.757674\" y=\"104.034754\" style=\"fill: #1f77b4; stroke: #1f77b4\"/>\n     <use xlink:href=\"#mb52989f7c4\" x=\"157.337904\" y=\"106.433886\" style=\"fill: #1f77b4; stroke: #1f77b4\"/>\n     <use xlink:href=\"#mb52989f7c4\" x=\"123.52662\" y=\"65.475687\" style=\"fill: #1f77b4; stroke: #1f77b4\"/>\n     <use xlink:href=\"#mb52989f7c4\" x=\"125.278526\" y=\"70.637747\" style=\"fill: #1f77b4; stroke: #1f77b4\"/>\n     <use xlink:href=\"#mb52989f7c4\" x=\"151.12332\" y=\"85.913643\" style=\"fill: #1f77b4; stroke: #1f77b4\"/>\n     <use xlink:href=\"#mb52989f7c4\" x=\"175.191471\" y=\"93.156543\" style=\"fill: #1f77b4; stroke: #1f77b4\"/>\n     <use xlink:href=\"#mb52989f7c4\" x=\"129.230567\" y=\"82.61672\" style=\"fill: #1f77b4; stroke: #1f77b4\"/>\n     <use xlink:href=\"#mb52989f7c4\" x=\"90.683498\" y=\"61.94454\" style=\"fill: #1f77b4; stroke: #1f77b4\"/>\n     <use xlink:href=\"#mb52989f7c4\" x=\"146.384932\" y=\"83.472008\" style=\"fill: #1f77b4; stroke: #1f77b4\"/>\n     <use xlink:href=\"#mb52989f7c4\" x=\"133.398593\" y=\"73.383134\" style=\"fill: #1f77b4; stroke: #1f77b4\"/>\n     <use xlink:href=\"#mb52989f7c4\" x=\"144.157825\" y=\"80.052749\" style=\"fill: #1f77b4; stroke: #1f77b4\"/>\n     <use xlink:href=\"#mb52989f7c4\" x=\"178.218093\" y=\"106.607837\" style=\"fill: #1f77b4; stroke: #1f77b4\"/>\n     <use xlink:href=\"#mb52989f7c4\" x=\"113.820033\" y=\"56.907078\" style=\"fill: #1f77b4; stroke: #1f77b4\"/>\n     <use xlink:href=\"#mb52989f7c4\" x=\"84.869038\" y=\"36.733831\" style=\"fill: #1f77b4; stroke: #1f77b4\"/>\n     <use xlink:href=\"#mb52989f7c4\" x=\"132.652636\" y=\"75.724581\" style=\"fill: #1f77b4; stroke: #1f77b4\"/>\n     <use xlink:href=\"#mb52989f7c4\" x=\"129.781847\" y=\"88.043797\" style=\"fill: #1f77b4; stroke: #1f77b4\"/>\n     <use xlink:href=\"#mb52989f7c4\" x=\"92.704324\" y=\"43.249625\" style=\"fill: #1f77b4; stroke: #1f77b4\"/>\n     <use xlink:href=\"#mb52989f7c4\" x=\"142.061935\" y=\"92.765774\" style=\"fill: #1f77b4; stroke: #1f77b4\"/>\n     <use xlink:href=\"#mb52989f7c4\" x=\"172.1953\" y=\"111.153035\" style=\"fill: #1f77b4; stroke: #1f77b4\"/>\n     <use xlink:href=\"#mb52989f7c4\" x=\"166.80167\" y=\"109.789463\" style=\"fill: #1f77b4; stroke: #1f77b4\"/>\n     <use xlink:href=\"#mb52989f7c4\" x=\"92.76569\" y=\"74.695165\" style=\"fill: #1f77b4; stroke: #1f77b4\"/>\n     <use xlink:href=\"#mb52989f7c4\" x=\"144.037045\" y=\"75.495757\" style=\"fill: #1f77b4; stroke: #1f77b4\"/>\n     <use xlink:href=\"#mb52989f7c4\" x=\"185.173608\" y=\"119.381379\" style=\"fill: #1f77b4; stroke: #1f77b4\"/>\n     <use xlink:href=\"#mb52989f7c4\" x=\"137.750628\" y=\"66.305866\" style=\"fill: #1f77b4; stroke: #1f77b4\"/>\n     <use xlink:href=\"#mb52989f7c4\" x=\"116.667439\" y=\"62.362786\" style=\"fill: #1f77b4; stroke: #1f77b4\"/>\n     <use xlink:href=\"#mb52989f7c4\" x=\"103.584851\" y=\"71.664556\" style=\"fill: #1f77b4; stroke: #1f77b4\"/>\n     <use xlink:href=\"#mb52989f7c4\" x=\"134.128909\" y=\"73.959822\" style=\"fill: #1f77b4; stroke: #1f77b4\"/>\n     <use xlink:href=\"#mb52989f7c4\" x=\"68.173698\" y=\"27.530604\" style=\"fill: #1f77b4; stroke: #1f77b4\"/>\n     <use xlink:href=\"#mb52989f7c4\" x=\"130.651759\" y=\"93.976944\" style=\"fill: #1f77b4; stroke: #1f77b4\"/>\n     <use xlink:href=\"#mb52989f7c4\" x=\"105.739619\" y=\"50.105752\" style=\"fill: #1f77b4; stroke: #1f77b4\"/>\n     <use xlink:href=\"#mb52989f7c4\" x=\"166.12998\" y=\"107.366602\" style=\"fill: #1f77b4; stroke: #1f77b4\"/>\n     <use xlink:href=\"#mb52989f7c4\" x=\"133.861076\" y=\"57.47009\" style=\"fill: #1f77b4; stroke: #1f77b4\"/>\n     <use xlink:href=\"#mb52989f7c4\" x=\"65.555705\" y=\"26.436816\" style=\"fill: #1f77b4; stroke: #1f77b4\"/>\n     <use xlink:href=\"#mb52989f7c4\" x=\"114.742617\" y=\"66.107328\" style=\"fill: #1f77b4; stroke: #1f77b4\"/>\n     <use xlink:href=\"#mb52989f7c4\" x=\"126.754235\" y=\"76.11285\" style=\"fill: #1f77b4; stroke: #1f77b4\"/>\n     <use xlink:href=\"#mb52989f7c4\" x=\"137.045542\" y=\"82.072323\" style=\"fill: #1f77b4; stroke: #1f77b4\"/>\n     <use xlink:href=\"#mb52989f7c4\" x=\"108.1871\" y=\"48.608802\" style=\"fill: #1f77b4; stroke: #1f77b4\"/>\n     <use xlink:href=\"#mb52989f7c4\" x=\"120.865859\" y=\"83.842584\" style=\"fill: #1f77b4; stroke: #1f77b4\"/>\n     <use xlink:href=\"#mb52989f7c4\" x=\"189.325593\" y=\"109.343957\" style=\"fill: #1f77b4; stroke: #1f77b4\"/>\n     <use xlink:href=\"#mb52989f7c4\" x=\"74.94022\" y=\"67.702339\" style=\"fill: #1f77b4; stroke: #1f77b4\"/>\n     <use xlink:href=\"#mb52989f7c4\" x=\"135.234219\" y=\"87.255683\" style=\"fill: #1f77b4; stroke: #1f77b4\"/>\n     <use xlink:href=\"#mb52989f7c4\" x=\"108.707399\" y=\"63.870854\" style=\"fill: #1f77b4; stroke: #1f77b4\"/>\n     <use xlink:href=\"#mb52989f7c4\" x=\"167.811844\" y=\"101.532203\" style=\"fill: #1f77b4; stroke: #1f77b4\"/>\n     <use xlink:href=\"#mb52989f7c4\" x=\"136.920089\" y=\"79.477221\" style=\"fill: #1f77b4; stroke: #1f77b4\"/>\n     <use xlink:href=\"#mb52989f7c4\" x=\"119.075904\" y=\"69.033427\" style=\"fill: #1f77b4; stroke: #1f77b4\"/>\n     <use xlink:href=\"#mb52989f7c4\" x=\"187.290309\" y=\"123.868166\" style=\"fill: #1f77b4; stroke: #1f77b4\"/>\n     <use xlink:href=\"#mb52989f7c4\" x=\"92.185233\" y=\"45.335381\" style=\"fill: #1f77b4; stroke: #1f77b4\"/>\n     <use xlink:href=\"#mb52989f7c4\" x=\"88.246915\" y=\"60.878846\" style=\"fill: #1f77b4; stroke: #1f77b4\"/>\n     <use xlink:href=\"#mb52989f7c4\" x=\"145.085818\" y=\"107.486362\" style=\"fill: #1f77b4; stroke: #1f77b4\"/>\n     <use xlink:href=\"#mb52989f7c4\" x=\"115.900424\" y=\"74.381606\" style=\"fill: #1f77b4; stroke: #1f77b4\"/>\n     <use xlink:href=\"#mb52989f7c4\" x=\"106.693384\" y=\"87.033064\" style=\"fill: #1f77b4; stroke: #1f77b4\"/>\n     <use xlink:href=\"#mb52989f7c4\" x=\"93.258879\" y=\"33.598829\" style=\"fill: #1f77b4; stroke: #1f77b4\"/>\n     <use xlink:href=\"#mb52989f7c4\" x=\"128.797248\" y=\"73.748811\" style=\"fill: #1f77b4; stroke: #1f77b4\"/>\n     <use xlink:href=\"#mb52989f7c4\" x=\"105.534151\" y=\"83.133596\" style=\"fill: #1f77b4; stroke: #1f77b4\"/>\n     <use xlink:href=\"#mb52989f7c4\" x=\"142.548411\" y=\"89.382758\" style=\"fill: #1f77b4; stroke: #1f77b4\"/>\n     <use xlink:href=\"#mb52989f7c4\" x=\"124.220121\" y=\"77.816633\" style=\"fill: #1f77b4; stroke: #1f77b4\"/>\n     <use xlink:href=\"#mb52989f7c4\" x=\"121.34417\" y=\"80.417355\" style=\"fill: #1f77b4; stroke: #1f77b4\"/>\n     <use xlink:href=\"#mb52989f7c4\" x=\"104.018121\" y=\"45.421518\" style=\"fill: #1f77b4; stroke: #1f77b4\"/>\n     <use xlink:href=\"#mb52989f7c4\" x=\"132.652676\" y=\"63.912085\" style=\"fill: #1f77b4; stroke: #1f77b4\"/>\n     <use xlink:href=\"#mb52989f7c4\" x=\"103.85935\" y=\"70.007548\" style=\"fill: #1f77b4; stroke: #1f77b4\"/>\n     <use xlink:href=\"#mb52989f7c4\" x=\"135.880922\" y=\"88.29086\" style=\"fill: #1f77b4; stroke: #1f77b4\"/>\n     <use xlink:href=\"#mb52989f7c4\" x=\"102.543669\" y=\"57.883427\" style=\"fill: #1f77b4; stroke: #1f77b4\"/>\n     <use xlink:href=\"#mb52989f7c4\" x=\"147.524612\" y=\"94.399026\" style=\"fill: #1f77b4; stroke: #1f77b4\"/>\n     <use xlink:href=\"#mb52989f7c4\" x=\"128.969015\" y=\"57.949966\" style=\"fill: #1f77b4; stroke: #1f77b4\"/>\n     <use xlink:href=\"#mb52989f7c4\" x=\"153.446247\" y=\"93.972953\" style=\"fill: #1f77b4; stroke: #1f77b4\"/>\n     <use xlink:href=\"#mb52989f7c4\" x=\"91.18338\" y=\"60.943045\" style=\"fill: #1f77b4; stroke: #1f77b4\"/>\n     <use xlink:href=\"#mb52989f7c4\" x=\"128.070123\" y=\"84.315101\" style=\"fill: #1f77b4; stroke: #1f77b4\"/>\n     <use xlink:href=\"#mb52989f7c4\" x=\"112.347519\" y=\"70.274762\" style=\"fill: #1f77b4; stroke: #1f77b4\"/>\n     <use xlink:href=\"#mb52989f7c4\" x=\"136.239659\" y=\"75.035815\" style=\"fill: #1f77b4; stroke: #1f77b4\"/>\n     <use xlink:href=\"#mb52989f7c4\" x=\"155.020203\" y=\"88.717364\" style=\"fill: #1f77b4; stroke: #1f77b4\"/>\n     <use xlink:href=\"#mb52989f7c4\" x=\"115.809879\" y=\"77.017655\" style=\"fill: #1f77b4; stroke: #1f77b4\"/>\n     <use xlink:href=\"#mb52989f7c4\" x=\"178.351495\" y=\"83.576985\" style=\"fill: #1f77b4; stroke: #1f77b4\"/>\n     <use xlink:href=\"#mb52989f7c4\" x=\"140.048311\" y=\"96.002866\" style=\"fill: #1f77b4; stroke: #1f77b4\"/>\n     <use xlink:href=\"#mb52989f7c4\" x=\"104.666097\" y=\"80.214851\" style=\"fill: #1f77b4; stroke: #1f77b4\"/>\n     <use xlink:href=\"#mb52989f7c4\" x=\"55.002149\" y=\"27.307236\" style=\"fill: #1f77b4; stroke: #1f77b4\"/>\n     <use xlink:href=\"#mb52989f7c4\" x=\"89.53535\" y=\"49.194109\" style=\"fill: #1f77b4; stroke: #1f77b4\"/>\n     <use xlink:href=\"#mb52989f7c4\" x=\"82.069798\" y=\"44.406771\" style=\"fill: #1f77b4; stroke: #1f77b4\"/>\n     <use xlink:href=\"#mb52989f7c4\" x=\"121.480081\" y=\"69.639613\" style=\"fill: #1f77b4; stroke: #1f77b4\"/>\n     <use xlink:href=\"#mb52989f7c4\" x=\"103.491825\" y=\"61.913901\" style=\"fill: #1f77b4; stroke: #1f77b4\"/>\n     <use xlink:href=\"#mb52989f7c4\" x=\"110.382234\" y=\"57.762443\" style=\"fill: #1f77b4; stroke: #1f77b4\"/>\n     <use xlink:href=\"#mb52989f7c4\" x=\"116.142003\" y=\"69.014272\" style=\"fill: #1f77b4; stroke: #1f77b4\"/>\n     <use xlink:href=\"#mb52989f7c4\" x=\"148.501028\" y=\"80.966236\" style=\"fill: #1f77b4; stroke: #1f77b4\"/>\n     <use xlink:href=\"#mb52989f7c4\" x=\"142.53751\" y=\"83.085846\" style=\"fill: #1f77b4; stroke: #1f77b4\"/>\n     <use xlink:href=\"#mb52989f7c4\" x=\"151.460101\" y=\"89.857098\" style=\"fill: #1f77b4; stroke: #1f77b4\"/>\n     <use xlink:href=\"#mb52989f7c4\" x=\"117.733593\" y=\"71.125197\" style=\"fill: #1f77b4; stroke: #1f77b4\"/>\n     <use xlink:href=\"#mb52989f7c4\" x=\"106.850577\" y=\"53.475325\" style=\"fill: #1f77b4; stroke: #1f77b4\"/>\n     <use xlink:href=\"#mb52989f7c4\" x=\"126.337004\" y=\"60.838883\" style=\"fill: #1f77b4; stroke: #1f77b4\"/>\n     <use xlink:href=\"#mb52989f7c4\" x=\"54.448488\" y=\"41.290092\" style=\"fill: #1f77b4; stroke: #1f77b4\"/>\n     <use xlink:href=\"#mb52989f7c4\" x=\"97.811398\" y=\"63.174517\" style=\"fill: #1f77b4; stroke: #1f77b4\"/>\n     <use xlink:href=\"#mb52989f7c4\" x=\"81.909401\" y=\"53.289517\" style=\"fill: #1f77b4; stroke: #1f77b4\"/>\n     <use xlink:href=\"#mb52989f7c4\" x=\"165.629599\" y=\"62.243855\" style=\"fill: #1f77b4; stroke: #1f77b4\"/>\n     <use xlink:href=\"#mb52989f7c4\" x=\"70.30452\" y=\"35.61399\" style=\"fill: #1f77b4; stroke: #1f77b4\"/>\n     <use xlink:href=\"#mb52989f7c4\" x=\"171.265925\" y=\"96.019917\" style=\"fill: #1f77b4; stroke: #1f77b4\"/>\n     <use xlink:href=\"#mb52989f7c4\" x=\"121.273893\" y=\"65.623084\" style=\"fill: #1f77b4; stroke: #1f77b4\"/>\n     <use xlink:href=\"#mb52989f7c4\" x=\"73.851373\" y=\"42.114923\" style=\"fill: #1f77b4; stroke: #1f77b4\"/>\n     <use xlink:href=\"#mb52989f7c4\" x=\"138.709546\" y=\"94.63629\" style=\"fill: #1f77b4; stroke: #1f77b4\"/>\n     <use xlink:href=\"#mb52989f7c4\" x=\"97.637766\" y=\"62.222872\" style=\"fill: #1f77b4; stroke: #1f77b4\"/>\n     <use xlink:href=\"#mb52989f7c4\" x=\"161.554323\" y=\"95.225755\" style=\"fill: #1f77b4; stroke: #1f77b4\"/>\n     <use xlink:href=\"#mb52989f7c4\" x=\"137.896706\" y=\"89.700701\" style=\"fill: #1f77b4; stroke: #1f77b4\"/>\n     <use xlink:href=\"#mb52989f7c4\" x=\"115.351386\" y=\"78.961714\" style=\"fill: #1f77b4; stroke: #1f77b4\"/>\n     <use xlink:href=\"#mb52989f7c4\" x=\"137.807496\" y=\"107.082629\" style=\"fill: #1f77b4; stroke: #1f77b4\"/>\n     <use xlink:href=\"#mb52989f7c4\" x=\"183.903401\" y=\"113.420945\" style=\"fill: #1f77b4; stroke: #1f77b4\"/>\n     <use xlink:href=\"#mb52989f7c4\" x=\"82.405751\" y=\"64.76464\" style=\"fill: #1f77b4; stroke: #1f77b4\"/>\n     <use xlink:href=\"#mb52989f7c4\" x=\"107.92455\" y=\"64.693215\" style=\"fill: #1f77b4; stroke: #1f77b4\"/>\n     <use xlink:href=\"#mb52989f7c4\" x=\"155.962634\" y=\"88.903791\" style=\"fill: #1f77b4; stroke: #1f77b4\"/>\n     <use xlink:href=\"#mb52989f7c4\" x=\"115.013698\" y=\"74.616219\" style=\"fill: #1f77b4; stroke: #1f77b4\"/>\n     <use xlink:href=\"#mb52989f7c4\" x=\"120.923313\" y=\"103.592191\" style=\"fill: #1f77b4; stroke: #1f77b4\"/>\n     <use xlink:href=\"#mb52989f7c4\" x=\"168.287084\" y=\"116.513386\" style=\"fill: #1f77b4; stroke: #1f77b4\"/>\n     <use xlink:href=\"#mb52989f7c4\" x=\"192.648191\" y=\"103.717056\" style=\"fill: #1f77b4; stroke: #1f77b4\"/>\n     <use xlink:href=\"#mb52989f7c4\" x=\"145.107795\" y=\"74.948046\" style=\"fill: #1f77b4; stroke: #1f77b4\"/>\n     <use xlink:href=\"#mb52989f7c4\" x=\"148.012203\" y=\"81.311142\" style=\"fill: #1f77b4; stroke: #1f77b4\"/>\n     <use xlink:href=\"#mb52989f7c4\" x=\"123.655371\" y=\"77.789126\" style=\"fill: #1f77b4; stroke: #1f77b4\"/>\n     <use xlink:href=\"#mb52989f7c4\" x=\"136.69164\" y=\"73.614094\" style=\"fill: #1f77b4; stroke: #1f77b4\"/>\n     <use xlink:href=\"#mb52989f7c4\" x=\"99.472139\" y=\"66.871251\" style=\"fill: #1f77b4; stroke: #1f77b4\"/>\n     <use xlink:href=\"#mb52989f7c4\" x=\"135.132336\" y=\"77.454077\" style=\"fill: #1f77b4; stroke: #1f77b4\"/>\n     <use xlink:href=\"#mb52989f7c4\" x=\"62.850736\" y=\"23.119051\" style=\"fill: #1f77b4; stroke: #1f77b4\"/>\n     <use xlink:href=\"#mb52989f7c4\" x=\"139.462439\" y=\"89.867832\" style=\"fill: #1f77b4; stroke: #1f77b4\"/>\n     <use xlink:href=\"#mb52989f7c4\" x=\"140.15239\" y=\"80.90621\" style=\"fill: #1f77b4; stroke: #1f77b4\"/>\n     <use xlink:href=\"#mb52989f7c4\" x=\"115.498723\" y=\"60.877757\" style=\"fill: #1f77b4; stroke: #1f77b4\"/>\n     <use xlink:href=\"#mb52989f7c4\" x=\"158.899782\" y=\"107.630318\" style=\"fill: #1f77b4; stroke: #1f77b4\"/>\n     <use xlink:href=\"#mb52989f7c4\" x=\"150.741486\" y=\"84.223675\" style=\"fill: #1f77b4; stroke: #1f77b4\"/>\n     <use xlink:href=\"#mb52989f7c4\" x=\"108.240418\" y=\"64.242769\" style=\"fill: #1f77b4; stroke: #1f77b4\"/>\n     <use xlink:href=\"#mb52989f7c4\" x=\"136.237775\" y=\"63.225399\" style=\"fill: #1f77b4; stroke: #1f77b4\"/>\n     <use xlink:href=\"#mb52989f7c4\" x=\"194.011345\" y=\"105.977942\" style=\"fill: #1f77b4; stroke: #1f77b4\"/>\n     <use xlink:href=\"#mb52989f7c4\" x=\"159.425804\" y=\"91.485813\" style=\"fill: #1f77b4; stroke: #1f77b4\"/>\n     <use xlink:href=\"#mb52989f7c4\" x=\"90.200859\" y=\"43.047004\" style=\"fill: #1f77b4; stroke: #1f77b4\"/>\n     <use xlink:href=\"#mb52989f7c4\" x=\"135.956162\" y=\"84.857925\" style=\"fill: #1f77b4; stroke: #1f77b4\"/>\n     <use xlink:href=\"#mb52989f7c4\" x=\"172.650896\" y=\"98.399264\" style=\"fill: #1f77b4; stroke: #1f77b4\"/>\n     <use xlink:href=\"#mb52989f7c4\" x=\"124.941101\" y=\"57.593855\" style=\"fill: #1f77b4; stroke: #1f77b4\"/>\n     <use xlink:href=\"#mb52989f7c4\" x=\"102.835378\" y=\"64.07139\" style=\"fill: #1f77b4; stroke: #1f77b4\"/>\n     <use xlink:href=\"#mb52989f7c4\" x=\"110.971919\" y=\"50.705952\" style=\"fill: #1f77b4; stroke: #1f77b4\"/>\n     <use xlink:href=\"#mb52989f7c4\" x=\"116.752469\" y=\"92.917036\" style=\"fill: #1f77b4; stroke: #1f77b4\"/>\n     <use xlink:href=\"#mb52989f7c4\" x=\"149.244877\" y=\"82.656546\" style=\"fill: #1f77b4; stroke: #1f77b4\"/>\n     <use xlink:href=\"#mb52989f7c4\" x=\"123.161119\" y=\"70.038031\" style=\"fill: #1f77b4; stroke: #1f77b4\"/>\n     <use xlink:href=\"#mb52989f7c4\" x=\"144.396416\" y=\"87.736523\" style=\"fill: #1f77b4; stroke: #1f77b4\"/>\n     <use xlink:href=\"#mb52989f7c4\" x=\"103.100145\" y=\"75.328227\" style=\"fill: #1f77b4; stroke: #1f77b4\"/>\n     <use xlink:href=\"#mb52989f7c4\" x=\"112.021545\" y=\"68.607075\" style=\"fill: #1f77b4; stroke: #1f77b4\"/>\n     <use xlink:href=\"#mb52989f7c4\" x=\"157.448003\" y=\"81.603177\" style=\"fill: #1f77b4; stroke: #1f77b4\"/>\n     <use xlink:href=\"#mb52989f7c4\" x=\"68.517179\" y=\"43.788614\" style=\"fill: #1f77b4; stroke: #1f77b4\"/>\n     <use xlink:href=\"#mb52989f7c4\" x=\"85.681543\" y=\"60.318214\" style=\"fill: #1f77b4; stroke: #1f77b4\"/>\n     <use xlink:href=\"#mb52989f7c4\" x=\"107.441023\" y=\"62.356657\" style=\"fill: #1f77b4; stroke: #1f77b4\"/>\n     <use xlink:href=\"#mb52989f7c4\" x=\"111.466067\" y=\"77.714428\" style=\"fill: #1f77b4; stroke: #1f77b4\"/>\n     <use xlink:href=\"#mb52989f7c4\" x=\"116.05094\" y=\"53.218163\" style=\"fill: #1f77b4; stroke: #1f77b4\"/>\n     <use xlink:href=\"#mb52989f7c4\" x=\"57.273056\" y=\"46.932115\" style=\"fill: #1f77b4; stroke: #1f77b4\"/>\n     <use xlink:href=\"#mb52989f7c4\" x=\"105.973599\" y=\"63.583387\" style=\"fill: #1f77b4; stroke: #1f77b4\"/>\n     <use xlink:href=\"#mb52989f7c4\" x=\"112.398307\" y=\"67.877098\" style=\"fill: #1f77b4; stroke: #1f77b4\"/>\n     <use xlink:href=\"#mb52989f7c4\" x=\"192.440605\" y=\"139.5\" style=\"fill: #1f77b4; stroke: #1f77b4\"/>\n     <use xlink:href=\"#mb52989f7c4\" x=\"107.358847\" y=\"57.785811\" style=\"fill: #1f77b4; stroke: #1f77b4\"/>\n     <use xlink:href=\"#mb52989f7c4\" x=\"97.114889\" y=\"68.453985\" style=\"fill: #1f77b4; stroke: #1f77b4\"/>\n     <use xlink:href=\"#mb52989f7c4\" x=\"146.113394\" y=\"87.632481\" style=\"fill: #1f77b4; stroke: #1f77b4\"/>\n     <use xlink:href=\"#mb52989f7c4\" x=\"141.848485\" y=\"97.687643\" style=\"fill: #1f77b4; stroke: #1f77b4\"/>\n     <use xlink:href=\"#mb52989f7c4\" x=\"152.188927\" y=\"97.033865\" style=\"fill: #1f77b4; stroke: #1f77b4\"/>\n     <use xlink:href=\"#mb52989f7c4\" x=\"160.048221\" y=\"70.615203\" style=\"fill: #1f77b4; stroke: #1f77b4\"/>\n     <use xlink:href=\"#mb52989f7c4\" x=\"117.344313\" y=\"87.887237\" style=\"fill: #1f77b4; stroke: #1f77b4\"/>\n     <use xlink:href=\"#mb52989f7c4\" x=\"87.18287\" y=\"66.984883\" style=\"fill: #1f77b4; stroke: #1f77b4\"/>\n     <use xlink:href=\"#mb52989f7c4\" x=\"60.27065\" y=\"53.004516\" style=\"fill: #1f77b4; stroke: #1f77b4\"/>\n     <use xlink:href=\"#mb52989f7c4\" x=\"71.116041\" y=\"33.523218\" style=\"fill: #1f77b4; stroke: #1f77b4\"/>\n     <use xlink:href=\"#mb52989f7c4\" x=\"85.446468\" y=\"66.570525\" style=\"fill: #1f77b4; stroke: #1f77b4\"/>\n     <use xlink:href=\"#mb52989f7c4\" x=\"91.196409\" y=\"53.745796\" style=\"fill: #1f77b4; stroke: #1f77b4\"/>\n     <use xlink:href=\"#mb52989f7c4\" x=\"108.818597\" y=\"54.658908\" style=\"fill: #1f77b4; stroke: #1f77b4\"/>\n     <use xlink:href=\"#mb52989f7c4\" x=\"94.315397\" y=\"63.363258\" style=\"fill: #1f77b4; stroke: #1f77b4\"/>\n     <use xlink:href=\"#mb52989f7c4\" x=\"122.153531\" y=\"50.542962\" style=\"fill: #1f77b4; stroke: #1f77b4\"/>\n     <use xlink:href=\"#mb52989f7c4\" x=\"68.619108\" y=\"18.082953\" style=\"fill: #1f77b4; stroke: #1f77b4\"/>\n     <use xlink:href=\"#mb52989f7c4\" x=\"128.676995\" y=\"76.518739\" style=\"fill: #1f77b4; stroke: #1f77b4\"/>\n     <use xlink:href=\"#mb52989f7c4\" x=\"88.127565\" y=\"47.237661\" style=\"fill: #1f77b4; stroke: #1f77b4\"/>\n     <use xlink:href=\"#mb52989f7c4\" x=\"147.782266\" y=\"87.602543\" style=\"fill: #1f77b4; stroke: #1f77b4\"/>\n     <use xlink:href=\"#mb52989f7c4\" x=\"128.037858\" y=\"56.411458\" style=\"fill: #1f77b4; stroke: #1f77b4\"/>\n     <use xlink:href=\"#mb52989f7c4\" x=\"176.755174\" y=\"112.450859\" style=\"fill: #1f77b4; stroke: #1f77b4\"/>\n     <use xlink:href=\"#mb52989f7c4\" x=\"152.667264\" y=\"89.770426\" style=\"fill: #1f77b4; stroke: #1f77b4\"/>\n     <use xlink:href=\"#mb52989f7c4\" x=\"113.724987\" y=\"69.13851\" style=\"fill: #1f77b4; stroke: #1f77b4\"/>\n     <use xlink:href=\"#mb52989f7c4\" x=\"69.825206\" y=\"49.26064\" style=\"fill: #1f77b4; stroke: #1f77b4\"/>\n     <use xlink:href=\"#mb52989f7c4\" x=\"121.738716\" y=\"78.210754\" style=\"fill: #1f77b4; stroke: #1f77b4\"/>\n     <use xlink:href=\"#mb52989f7c4\" x=\"96.637068\" y=\"66.906273\" style=\"fill: #1f77b4; stroke: #1f77b4\"/>\n     <use xlink:href=\"#mb52989f7c4\" x=\"144.096138\" y=\"69.819745\" style=\"fill: #1f77b4; stroke: #1f77b4\"/>\n     <use xlink:href=\"#mb52989f7c4\" x=\"66.648895\" y=\"59.853247\" style=\"fill: #1f77b4; stroke: #1f77b4\"/>\n     <use xlink:href=\"#mb52989f7c4\" x=\"136.632693\" y=\"62.871474\" style=\"fill: #1f77b4; stroke: #1f77b4\"/>\n     <use xlink:href=\"#mb52989f7c4\" x=\"137.585866\" y=\"91.116255\" style=\"fill: #1f77b4; stroke: #1f77b4\"/>\n     <use xlink:href=\"#mb52989f7c4\" x=\"155.514353\" y=\"86.746487\" style=\"fill: #1f77b4; stroke: #1f77b4\"/>\n     <use xlink:href=\"#mb52989f7c4\" x=\"116.832711\" y=\"90.067442\" style=\"fill: #1f77b4; stroke: #1f77b4\"/>\n     <use xlink:href=\"#mb52989f7c4\" x=\"107.165787\" y=\"60.676849\" style=\"fill: #1f77b4; stroke: #1f77b4\"/>\n     <use xlink:href=\"#mb52989f7c4\" x=\"100.185486\" y=\"46.511384\" style=\"fill: #1f77b4; stroke: #1f77b4\"/>\n     <use xlink:href=\"#mb52989f7c4\" x=\"72.87429\" y=\"43.297655\" style=\"fill: #1f77b4; stroke: #1f77b4\"/>\n     <use xlink:href=\"#mb52989f7c4\" x=\"100.085256\" y=\"45.977788\" style=\"fill: #1f77b4; stroke: #1f77b4\"/>\n     <use xlink:href=\"#mb52989f7c4\" x=\"86.743065\" y=\"40.324711\" style=\"fill: #1f77b4; stroke: #1f77b4\"/>\n     <use xlink:href=\"#mb52989f7c4\" x=\"113.801253\" y=\"61.109192\" style=\"fill: #1f77b4; stroke: #1f77b4\"/>\n     <use xlink:href=\"#mb52989f7c4\" x=\"164.700603\" y=\"102.089161\" style=\"fill: #1f77b4; stroke: #1f77b4\"/>\n     <use xlink:href=\"#mb52989f7c4\" x=\"58.594753\" y=\"32.077906\" style=\"fill: #1f77b4; stroke: #1f77b4\"/>\n     <use xlink:href=\"#mb52989f7c4\" x=\"115.000829\" y=\"51.11576\" style=\"fill: #1f77b4; stroke: #1f77b4\"/>\n     <use xlink:href=\"#mb52989f7c4\" x=\"145.47393\" y=\"107.491921\" style=\"fill: #1f77b4; stroke: #1f77b4\"/>\n     <use xlink:href=\"#mb52989f7c4\" x=\"114.882261\" y=\"77.873731\" style=\"fill: #1f77b4; stroke: #1f77b4\"/>\n     <use xlink:href=\"#mb52989f7c4\" x=\"106.863995\" y=\"69.632481\" style=\"fill: #1f77b4; stroke: #1f77b4\"/>\n     <use xlink:href=\"#mb52989f7c4\" x=\"153.168965\" y=\"98.708149\" style=\"fill: #1f77b4; stroke: #1f77b4\"/>\n     <use xlink:href=\"#mb52989f7c4\" x=\"141.234738\" y=\"96.82172\" style=\"fill: #1f77b4; stroke: #1f77b4\"/>\n     <use xlink:href=\"#mb52989f7c4\" x=\"103.866471\" y=\"50.011304\" style=\"fill: #1f77b4; stroke: #1f77b4\"/>\n     <use xlink:href=\"#mb52989f7c4\" x=\"140.184113\" y=\"80.629475\" style=\"fill: #1f77b4; stroke: #1f77b4\"/>\n     <use xlink:href=\"#mb52989f7c4\" x=\"109.053249\" y=\"69.34659\" style=\"fill: #1f77b4; stroke: #1f77b4\"/>\n     <use xlink:href=\"#mb52989f7c4\" x=\"78.541359\" y=\"45.086793\" style=\"fill: #1f77b4; stroke: #1f77b4\"/>\n     <use xlink:href=\"#mb52989f7c4\" x=\"134.375946\" y=\"64.923996\" style=\"fill: #1f77b4; stroke: #1f77b4\"/>\n     <use xlink:href=\"#mb52989f7c4\" x=\"136.405016\" y=\"86.252653\" style=\"fill: #1f77b4; stroke: #1f77b4\"/>\n     <use xlink:href=\"#mb52989f7c4\" x=\"75.248479\" y=\"49.778678\" style=\"fill: #1f77b4; stroke: #1f77b4\"/>\n     <use xlink:href=\"#mb52989f7c4\" x=\"111.86092\" y=\"65.336914\" style=\"fill: #1f77b4; stroke: #1f77b4\"/>\n     <use xlink:href=\"#mb52989f7c4\" x=\"151.066609\" y=\"84.713763\" style=\"fill: #1f77b4; stroke: #1f77b4\"/>\n     <use xlink:href=\"#mb52989f7c4\" x=\"124.577524\" y=\"70.222501\" style=\"fill: #1f77b4; stroke: #1f77b4\"/>\n     <use xlink:href=\"#mb52989f7c4\" x=\"141.528716\" y=\"100.637183\" style=\"fill: #1f77b4; stroke: #1f77b4\"/>\n     <use xlink:href=\"#mb52989f7c4\" x=\"117.759106\" y=\"92.639453\" style=\"fill: #1f77b4; stroke: #1f77b4\"/>\n     <use xlink:href=\"#mb52989f7c4\" x=\"92.734964\" y=\"70.983916\" style=\"fill: #1f77b4; stroke: #1f77b4\"/>\n     <use xlink:href=\"#mb52989f7c4\" x=\"64.692828\" y=\"45.926239\" style=\"fill: #1f77b4; stroke: #1f77b4\"/>\n     <use xlink:href=\"#mb52989f7c4\" x=\"144.47429\" y=\"94.418301\" style=\"fill: #1f77b4; stroke: #1f77b4\"/>\n     <use xlink:href=\"#mb52989f7c4\" x=\"103.381377\" y=\"59.643866\" style=\"fill: #1f77b4; stroke: #1f77b4\"/>\n     <use xlink:href=\"#mb52989f7c4\" x=\"68.983918\" y=\"19.343669\" style=\"fill: #1f77b4; stroke: #1f77b4\"/>\n     <use xlink:href=\"#mb52989f7c4\" x=\"133.120618\" y=\"88.730902\" style=\"fill: #1f77b4; stroke: #1f77b4\"/>\n     <use xlink:href=\"#mb52989f7c4\" x=\"136.343953\" y=\"79.050347\" style=\"fill: #1f77b4; stroke: #1f77b4\"/>\n     <use xlink:href=\"#mb52989f7c4\" x=\"115.720037\" y=\"66.477721\" style=\"fill: #1f77b4; stroke: #1f77b4\"/>\n     <use xlink:href=\"#mb52989f7c4\" x=\"120.620036\" y=\"56.698417\" style=\"fill: #1f77b4; stroke: #1f77b4\"/>\n     <use xlink:href=\"#mb52989f7c4\" x=\"122.81879\" y=\"67.601133\" style=\"fill: #1f77b4; stroke: #1f77b4\"/>\n     <use xlink:href=\"#mb52989f7c4\" x=\"96.707019\" y=\"59.378906\" style=\"fill: #1f77b4; stroke: #1f77b4\"/>\n     <use xlink:href=\"#mb52989f7c4\" x=\"143.318535\" y=\"90.457341\" style=\"fill: #1f77b4; stroke: #1f77b4\"/>\n     <use xlink:href=\"#mb52989f7c4\" x=\"98.953515\" y=\"64.281929\" style=\"fill: #1f77b4; stroke: #1f77b4\"/>\n     <use xlink:href=\"#mb52989f7c4\" x=\"89.89534\" y=\"51.281907\" style=\"fill: #1f77b4; stroke: #1f77b4\"/>\n     <use xlink:href=\"#mb52989f7c4\" x=\"156.234567\" y=\"96.517038\" style=\"fill: #1f77b4; stroke: #1f77b4\"/>\n     <use xlink:href=\"#mb52989f7c4\" x=\"167.818101\" y=\"85.583395\" style=\"fill: #1f77b4; stroke: #1f77b4\"/>\n     <use xlink:href=\"#mb52989f7c4\" x=\"187.370466\" y=\"104.699298\" style=\"fill: #1f77b4; stroke: #1f77b4\"/>\n     <use xlink:href=\"#mb52989f7c4\" x=\"152.780326\" y=\"73.949452\" style=\"fill: #1f77b4; stroke: #1f77b4\"/>\n     <use xlink:href=\"#mb52989f7c4\" x=\"76.906409\" y=\"28.613935\" style=\"fill: #1f77b4; stroke: #1f77b4\"/>\n     <use xlink:href=\"#mb52989f7c4\" x=\"157.522804\" y=\"103.46903\" style=\"fill: #1f77b4; stroke: #1f77b4\"/>\n     <use xlink:href=\"#mb52989f7c4\" x=\"100.192828\" y=\"63.119119\" style=\"fill: #1f77b4; stroke: #1f77b4\"/>\n     <use xlink:href=\"#mb52989f7c4\" x=\"146.095375\" y=\"83.494323\" style=\"fill: #1f77b4; stroke: #1f77b4\"/>\n     <use xlink:href=\"#mb52989f7c4\" x=\"112.244918\" y=\"44.815232\" style=\"fill: #1f77b4; stroke: #1f77b4\"/>\n     <use xlink:href=\"#mb52989f7c4\" x=\"118.082477\" y=\"72.142287\" style=\"fill: #1f77b4; stroke: #1f77b4\"/>\n     <use xlink:href=\"#mb52989f7c4\" x=\"105.927114\" y=\"52.317545\" style=\"fill: #1f77b4; stroke: #1f77b4\"/>\n     <use xlink:href=\"#mb52989f7c4\" x=\"108.309238\" y=\"74.396436\" style=\"fill: #1f77b4; stroke: #1f77b4\"/>\n     <use xlink:href=\"#mb52989f7c4\" x=\"133.939086\" y=\"90.877993\" style=\"fill: #1f77b4; stroke: #1f77b4\"/>\n     <use xlink:href=\"#mb52989f7c4\" x=\"156.321734\" y=\"91.374985\" style=\"fill: #1f77b4; stroke: #1f77b4\"/>\n     <use xlink:href=\"#mb52989f7c4\" x=\"106.547516\" y=\"59.335083\" style=\"fill: #1f77b4; stroke: #1f77b4\"/>\n     <use xlink:href=\"#mb52989f7c4\" x=\"117.732143\" y=\"65.184863\" style=\"fill: #1f77b4; stroke: #1f77b4\"/>\n     <use xlink:href=\"#mb52989f7c4\" x=\"137.162839\" y=\"79.133971\" style=\"fill: #1f77b4; stroke: #1f77b4\"/>\n     <use xlink:href=\"#mb52989f7c4\" x=\"102.153907\" y=\"63.890499\" style=\"fill: #1f77b4; stroke: #1f77b4\"/>\n     <use xlink:href=\"#mb52989f7c4\" x=\"93.792057\" y=\"53.409763\" style=\"fill: #1f77b4; stroke: #1f77b4\"/>\n     <use xlink:href=\"#mb52989f7c4\" x=\"117.842679\" y=\"67.566506\" style=\"fill: #1f77b4; stroke: #1f77b4\"/>\n     <use xlink:href=\"#mb52989f7c4\" x=\"149.794073\" y=\"84.356028\" style=\"fill: #1f77b4; stroke: #1f77b4\"/>\n     <use xlink:href=\"#mb52989f7c4\" x=\"109.290602\" y=\"64.285236\" style=\"fill: #1f77b4; stroke: #1f77b4\"/>\n     <use xlink:href=\"#mb52989f7c4\" x=\"120.243078\" y=\"77.284334\" style=\"fill: #1f77b4; stroke: #1f77b4\"/>\n     <use xlink:href=\"#mb52989f7c4\" x=\"82.325232\" y=\"54.967712\" style=\"fill: #1f77b4; stroke: #1f77b4\"/>\n     <use xlink:href=\"#mb52989f7c4\" x=\"97.030522\" y=\"60.268144\" style=\"fill: #1f77b4; stroke: #1f77b4\"/>\n     <use xlink:href=\"#mb52989f7c4\" x=\"91.949251\" y=\"47.704568\" style=\"fill: #1f77b4; stroke: #1f77b4\"/>\n     <use xlink:href=\"#mb52989f7c4\" x=\"79.741807\" y=\"46.43229\" style=\"fill: #1f77b4; stroke: #1f77b4\"/>\n     <use xlink:href=\"#mb52989f7c4\" x=\"132.557965\" y=\"70.923752\" style=\"fill: #1f77b4; stroke: #1f77b4\"/>\n     <use xlink:href=\"#mb52989f7c4\" x=\"150.741356\" y=\"106.203897\" style=\"fill: #1f77b4; stroke: #1f77b4\"/>\n     <use xlink:href=\"#mb52989f7c4\" x=\"108.824257\" y=\"83.071112\" style=\"fill: #1f77b4; stroke: #1f77b4\"/>\n     <use xlink:href=\"#mb52989f7c4\" x=\"89.249359\" y=\"44.85978\" style=\"fill: #1f77b4; stroke: #1f77b4\"/>\n     <use xlink:href=\"#mb52989f7c4\" x=\"135.707913\" y=\"70.322245\" style=\"fill: #1f77b4; stroke: #1f77b4\"/>\n     <use xlink:href=\"#mb52989f7c4\" x=\"121.940125\" y=\"61.877569\" style=\"fill: #1f77b4; stroke: #1f77b4\"/>\n     <use xlink:href=\"#mb52989f7c4\" x=\"84.975901\" y=\"42.294853\" style=\"fill: #1f77b4; stroke: #1f77b4\"/>\n     <use xlink:href=\"#mb52989f7c4\" x=\"108.778817\" y=\"76.379868\" style=\"fill: #1f77b4; stroke: #1f77b4\"/>\n     <use xlink:href=\"#mb52989f7c4\" x=\"121.264632\" y=\"81.454868\" style=\"fill: #1f77b4; stroke: #1f77b4\"/>\n     <use xlink:href=\"#mb52989f7c4\" x=\"129.748177\" y=\"60.521382\" style=\"fill: #1f77b4; stroke: #1f77b4\"/>\n     <use xlink:href=\"#mb52989f7c4\" x=\"80.367578\" y=\"46.182273\" style=\"fill: #1f77b4; stroke: #1f77b4\"/>\n     <use xlink:href=\"#mb52989f7c4\" x=\"125.520022\" y=\"75.178224\" style=\"fill: #1f77b4; stroke: #1f77b4\"/>\n     <use xlink:href=\"#mb52989f7c4\" x=\"148.704467\" y=\"102.666708\" style=\"fill: #1f77b4; stroke: #1f77b4\"/>\n     <use xlink:href=\"#mb52989f7c4\" x=\"90.559736\" y=\"59.755335\" style=\"fill: #1f77b4; stroke: #1f77b4\"/>\n     <use xlink:href=\"#mb52989f7c4\" x=\"119.713093\" y=\"79.037671\" style=\"fill: #1f77b4; stroke: #1f77b4\"/>\n     <use xlink:href=\"#mb52989f7c4\" x=\"126.231873\" y=\"66.436719\" style=\"fill: #1f77b4; stroke: #1f77b4\"/>\n     <use xlink:href=\"#mb52989f7c4\" x=\"127.296679\" y=\"67.883837\" style=\"fill: #1f77b4; stroke: #1f77b4\"/>\n     <use xlink:href=\"#mb52989f7c4\" x=\"151.05816\" y=\"96.796529\" style=\"fill: #1f77b4; stroke: #1f77b4\"/>\n     <use xlink:href=\"#mb52989f7c4\" x=\"71.948135\" y=\"44.702509\" style=\"fill: #1f77b4; stroke: #1f77b4\"/>\n     <use xlink:href=\"#mb52989f7c4\" x=\"120.262444\" y=\"68.46224\" style=\"fill: #1f77b4; stroke: #1f77b4\"/>\n     <use xlink:href=\"#mb52989f7c4\" x=\"96.70012\" y=\"63.263511\" style=\"fill: #1f77b4; stroke: #1f77b4\"/>\n     <use xlink:href=\"#mb52989f7c4\" x=\"90.128842\" y=\"66.711495\" style=\"fill: #1f77b4; stroke: #1f77b4\"/>\n     <use xlink:href=\"#mb52989f7c4\" x=\"95.980844\" y=\"47.792873\" style=\"fill: #1f77b4; stroke: #1f77b4\"/>\n     <use xlink:href=\"#mb52989f7c4\" x=\"68.63103\" y=\"44.49848\" style=\"fill: #1f77b4; stroke: #1f77b4\"/>\n     <use xlink:href=\"#mb52989f7c4\" x=\"117.644895\" y=\"64.660918\" style=\"fill: #1f77b4; stroke: #1f77b4\"/>\n     <use xlink:href=\"#mb52989f7c4\" x=\"115.481438\" y=\"55.351791\" style=\"fill: #1f77b4; stroke: #1f77b4\"/>\n     <use xlink:href=\"#mb52989f7c4\" x=\"141.504467\" y=\"78.853936\" style=\"fill: #1f77b4; stroke: #1f77b4\"/>\n     <use xlink:href=\"#mb52989f7c4\" x=\"133.007632\" y=\"67.805094\" style=\"fill: #1f77b4; stroke: #1f77b4\"/>\n     <use xlink:href=\"#mb52989f7c4\" x=\"78.795105\" y=\"57.308834\" style=\"fill: #1f77b4; stroke: #1f77b4\"/>\n     <use xlink:href=\"#mb52989f7c4\" x=\"92.045202\" y=\"63.062613\" style=\"fill: #1f77b4; stroke: #1f77b4\"/>\n     <use xlink:href=\"#mb52989f7c4\" x=\"101.110522\" y=\"70.941415\" style=\"fill: #1f77b4; stroke: #1f77b4\"/>\n     <use xlink:href=\"#mb52989f7c4\" x=\"100.6937\" y=\"61.417768\" style=\"fill: #1f77b4; stroke: #1f77b4\"/>\n     <use xlink:href=\"#mb52989f7c4\" x=\"113.684584\" y=\"77.961352\" style=\"fill: #1f77b4; stroke: #1f77b4\"/>\n     <use xlink:href=\"#mb52989f7c4\" x=\"122.356729\" y=\"69.406976\" style=\"fill: #1f77b4; stroke: #1f77b4\"/>\n     <use xlink:href=\"#mb52989f7c4\" x=\"105.504424\" y=\"80.061159\" style=\"fill: #1f77b4; stroke: #1f77b4\"/>\n     <use xlink:href=\"#mb52989f7c4\" x=\"91.075094\" y=\"62.513428\" style=\"fill: #1f77b4; stroke: #1f77b4\"/>\n     <use xlink:href=\"#mb52989f7c4\" x=\"126.025622\" y=\"62.438607\" style=\"fill: #1f77b4; stroke: #1f77b4\"/>\n     <use xlink:href=\"#mb52989f7c4\" x=\"100.752843\" y=\"65.390665\" style=\"fill: #1f77b4; stroke: #1f77b4\"/>\n     <use xlink:href=\"#mb52989f7c4\" x=\"117.980436\" y=\"72.875623\" style=\"fill: #1f77b4; stroke: #1f77b4\"/>\n     <use xlink:href=\"#mb52989f7c4\" x=\"114.965649\" y=\"73.466984\" style=\"fill: #1f77b4; stroke: #1f77b4\"/>\n     <use xlink:href=\"#mb52989f7c4\" x=\"132.579258\" y=\"86.728286\" style=\"fill: #1f77b4; stroke: #1f77b4\"/>\n     <use xlink:href=\"#mb52989f7c4\" x=\"69.424514\" y=\"55.217943\" style=\"fill: #1f77b4; stroke: #1f77b4\"/>\n     <use xlink:href=\"#mb52989f7c4\" x=\"116.157215\" y=\"71.84219\" style=\"fill: #1f77b4; stroke: #1f77b4\"/>\n     <use xlink:href=\"#mb52989f7c4\" x=\"73.412991\" y=\"40.295465\" style=\"fill: #1f77b4; stroke: #1f77b4\"/>\n     <use xlink:href=\"#mb52989f7c4\" x=\"119.232102\" y=\"65.807937\" style=\"fill: #1f77b4; stroke: #1f77b4\"/>\n     <use xlink:href=\"#mb52989f7c4\" x=\"174.622332\" y=\"104.947955\" style=\"fill: #1f77b4; stroke: #1f77b4\"/>\n     <use xlink:href=\"#mb52989f7c4\" x=\"72.80146\" y=\"53.125956\" style=\"fill: #1f77b4; stroke: #1f77b4\"/>\n     <use xlink:href=\"#mb52989f7c4\" x=\"143.243746\" y=\"92.938913\" style=\"fill: #1f77b4; stroke: #1f77b4\"/>\n     <use xlink:href=\"#mb52989f7c4\" x=\"157.823106\" y=\"82.888987\" style=\"fill: #1f77b4; stroke: #1f77b4\"/>\n     <use xlink:href=\"#mb52989f7c4\" x=\"126.271752\" y=\"55.319733\" style=\"fill: #1f77b4; stroke: #1f77b4\"/>\n     <use xlink:href=\"#mb52989f7c4\" x=\"169.64043\" y=\"128.757425\" style=\"fill: #1f77b4; stroke: #1f77b4\"/>\n     <use xlink:href=\"#mb52989f7c4\" x=\"209.703787\" y=\"107.456013\" style=\"fill: #1f77b4; stroke: #1f77b4\"/>\n     <use xlink:href=\"#mb52989f7c4\" x=\"92.256586\" y=\"56.595881\" style=\"fill: #1f77b4; stroke: #1f77b4\"/>\n     <use xlink:href=\"#mb52989f7c4\" x=\"87.682052\" y=\"77.155792\" style=\"fill: #1f77b4; stroke: #1f77b4\"/>\n     <use xlink:href=\"#mb52989f7c4\" x=\"103.324358\" y=\"71.370818\" style=\"fill: #1f77b4; stroke: #1f77b4\"/>\n     <use xlink:href=\"#mb52989f7c4\" x=\"175.261558\" y=\"98.248172\" style=\"fill: #1f77b4; stroke: #1f77b4\"/>\n     <use xlink:href=\"#mb52989f7c4\" x=\"184.178644\" y=\"89.197399\" style=\"fill: #1f77b4; stroke: #1f77b4\"/>\n     <use xlink:href=\"#mb52989f7c4\" x=\"105.700013\" y=\"98.994736\" style=\"fill: #1f77b4; stroke: #1f77b4\"/>\n     <use xlink:href=\"#mb52989f7c4\" x=\"77.69362\" y=\"45.247002\" style=\"fill: #1f77b4; stroke: #1f77b4\"/>\n     <use xlink:href=\"#mb52989f7c4\" x=\"158.194595\" y=\"122.787124\" style=\"fill: #1f77b4; stroke: #1f77b4\"/>\n     <use xlink:href=\"#mb52989f7c4\" x=\"159.609937\" y=\"98.698691\" style=\"fill: #1f77b4; stroke: #1f77b4\"/>\n     <use xlink:href=\"#mb52989f7c4\" x=\"140.726485\" y=\"71.667203\" style=\"fill: #1f77b4; stroke: #1f77b4\"/>\n     <use xlink:href=\"#mb52989f7c4\" x=\"113.783844\" y=\"67.194007\" style=\"fill: #1f77b4; stroke: #1f77b4\"/>\n     <use xlink:href=\"#mb52989f7c4\" x=\"140.056186\" y=\"78.76888\" style=\"fill: #1f77b4; stroke: #1f77b4\"/>\n     <use xlink:href=\"#mb52989f7c4\" x=\"129.969829\" y=\"71.1569\" style=\"fill: #1f77b4; stroke: #1f77b4\"/>\n     <use xlink:href=\"#mb52989f7c4\" x=\"108.242811\" y=\"89.156153\" style=\"fill: #1f77b4; stroke: #1f77b4\"/>\n     <use xlink:href=\"#mb52989f7c4\" x=\"147.914902\" y=\"83.169413\" style=\"fill: #1f77b4; stroke: #1f77b4\"/>\n     <use xlink:href=\"#mb52989f7c4\" x=\"87.568264\" y=\"54.425046\" style=\"fill: #1f77b4; stroke: #1f77b4\"/>\n     <use xlink:href=\"#mb52989f7c4\" x=\"173.998622\" y=\"114.168486\" style=\"fill: #1f77b4; stroke: #1f77b4\"/>\n     <use xlink:href=\"#mb52989f7c4\" x=\"142.131923\" y=\"74.284474\" style=\"fill: #1f77b4; stroke: #1f77b4\"/>\n     <use xlink:href=\"#mb52989f7c4\" x=\"150.714992\" y=\"89.667963\" style=\"fill: #1f77b4; stroke: #1f77b4\"/>\n     <use xlink:href=\"#mb52989f7c4\" x=\"78.208055\" y=\"32.074806\" style=\"fill: #1f77b4; stroke: #1f77b4\"/>\n     <use xlink:href=\"#mb52989f7c4\" x=\"79.394956\" y=\"46.218044\" style=\"fill: #1f77b4; stroke: #1f77b4\"/>\n     <use xlink:href=\"#mb52989f7c4\" x=\"182.740609\" y=\"88.196193\" style=\"fill: #1f77b4; stroke: #1f77b4\"/>\n     <use xlink:href=\"#mb52989f7c4\" x=\"91.874787\" y=\"42.429659\" style=\"fill: #1f77b4; stroke: #1f77b4\"/>\n     <use xlink:href=\"#mb52989f7c4\" x=\"131.238377\" y=\"76.640527\" style=\"fill: #1f77b4; stroke: #1f77b4\"/>\n     <use xlink:href=\"#mb52989f7c4\" x=\"120.07753\" y=\"69.663584\" style=\"fill: #1f77b4; stroke: #1f77b4\"/>\n     <use xlink:href=\"#mb52989f7c4\" x=\"168.448431\" y=\"97.140363\" style=\"fill: #1f77b4; stroke: #1f77b4\"/>\n     <use xlink:href=\"#mb52989f7c4\" x=\"99.646603\" y=\"57.802678\" style=\"fill: #1f77b4; stroke: #1f77b4\"/>\n     <use xlink:href=\"#mb52989f7c4\" x=\"131.805223\" y=\"67.938277\" style=\"fill: #1f77b4; stroke: #1f77b4\"/>\n     <use xlink:href=\"#mb52989f7c4\" x=\"117.781759\" y=\"88.600145\" style=\"fill: #1f77b4; stroke: #1f77b4\"/>\n     <use xlink:href=\"#mb52989f7c4\" x=\"100.217289\" y=\"46.566583\" style=\"fill: #1f77b4; stroke: #1f77b4\"/>\n     <use xlink:href=\"#mb52989f7c4\" x=\"143.147629\" y=\"90.175845\" style=\"fill: #1f77b4; stroke: #1f77b4\"/>\n     <use xlink:href=\"#mb52989f7c4\" x=\"114.164841\" y=\"56.16901\" style=\"fill: #1f77b4; stroke: #1f77b4\"/>\n     <use xlink:href=\"#mb52989f7c4\" x=\"92.777955\" y=\"56.078862\" style=\"fill: #1f77b4; stroke: #1f77b4\"/>\n     <use xlink:href=\"#mb52989f7c4\" x=\"86.420048\" y=\"57.326526\" style=\"fill: #1f77b4; stroke: #1f77b4\"/>\n     <use xlink:href=\"#mb52989f7c4\" x=\"131.758143\" y=\"97.04724\" style=\"fill: #1f77b4; stroke: #1f77b4\"/>\n     <use xlink:href=\"#mb52989f7c4\" x=\"135.895709\" y=\"111.93442\" style=\"fill: #1f77b4; stroke: #1f77b4\"/>\n     <use xlink:href=\"#mb52989f7c4\" x=\"118.239827\" y=\"67.814431\" style=\"fill: #1f77b4; stroke: #1f77b4\"/>\n     <use xlink:href=\"#mb52989f7c4\" x=\"103.40406\" y=\"71.068778\" style=\"fill: #1f77b4; stroke: #1f77b4\"/>\n     <use xlink:href=\"#mb52989f7c4\" x=\"85.280832\" y=\"60.132945\" style=\"fill: #1f77b4; stroke: #1f77b4\"/>\n     <use xlink:href=\"#mb52989f7c4\" x=\"48.655937\" y=\"36.762292\" style=\"fill: #1f77b4; stroke: #1f77b4\"/>\n     <use xlink:href=\"#mb52989f7c4\" x=\"108.973851\" y=\"59.007829\" style=\"fill: #1f77b4; stroke: #1f77b4\"/>\n     <use xlink:href=\"#mb52989f7c4\" x=\"123.562173\" y=\"98.461939\" style=\"fill: #1f77b4; stroke: #1f77b4\"/>\n     <use xlink:href=\"#mb52989f7c4\" x=\"129.739893\" y=\"70.305902\" style=\"fill: #1f77b4; stroke: #1f77b4\"/>\n     <use xlink:href=\"#mb52989f7c4\" x=\"193.834216\" y=\"107.430114\" style=\"fill: #1f77b4; stroke: #1f77b4\"/>\n     <use xlink:href=\"#mb52989f7c4\" x=\"137.650775\" y=\"96.231163\" style=\"fill: #1f77b4; stroke: #1f77b4\"/>\n     <use xlink:href=\"#mb52989f7c4\" x=\"164.097991\" y=\"100.744351\" style=\"fill: #1f77b4; stroke: #1f77b4\"/>\n     <use xlink:href=\"#mb52989f7c4\" x=\"91.88617\" y=\"49.622197\" style=\"fill: #1f77b4; stroke: #1f77b4\"/>\n     <use xlink:href=\"#mb52989f7c4\" x=\"114.143077\" y=\"77.910244\" style=\"fill: #1f77b4; stroke: #1f77b4\"/>\n     <use xlink:href=\"#mb52989f7c4\" x=\"41.328519\" y=\"13.5\" style=\"fill: #1f77b4; stroke: #1f77b4\"/>\n     <use xlink:href=\"#mb52989f7c4\" x=\"121.741828\" y=\"66.468159\" style=\"fill: #1f77b4; stroke: #1f77b4\"/>\n     <use xlink:href=\"#mb52989f7c4\" x=\"67.935448\" y=\"40.981158\" style=\"fill: #1f77b4; stroke: #1f77b4\"/>\n     <use xlink:href=\"#mb52989f7c4\" x=\"107.266889\" y=\"62.842\" style=\"fill: #1f77b4; stroke: #1f77b4\"/>\n     <use xlink:href=\"#mb52989f7c4\" x=\"37.81946\" y=\"28.044583\" style=\"fill: #1f77b4; stroke: #1f77b4\"/>\n     <use xlink:href=\"#mb52989f7c4\" x=\"56.669124\" y=\"38.867722\" style=\"fill: #1f77b4; stroke: #1f77b4\"/>\n     <use xlink:href=\"#mb52989f7c4\" x=\"146.726677\" y=\"70.84906\" style=\"fill: #1f77b4; stroke: #1f77b4\"/>\n     <use xlink:href=\"#mb52989f7c4\" x=\"138.639044\" y=\"84.152437\" style=\"fill: #1f77b4; stroke: #1f77b4\"/>\n     <use xlink:href=\"#mb52989f7c4\" x=\"136.461977\" y=\"60.826402\" style=\"fill: #1f77b4; stroke: #1f77b4\"/>\n     <use xlink:href=\"#mb52989f7c4\" x=\"147.960236\" y=\"76.523526\" style=\"fill: #1f77b4; stroke: #1f77b4\"/>\n     <use xlink:href=\"#mb52989f7c4\" x=\"125.875944\" y=\"76.036655\" style=\"fill: #1f77b4; stroke: #1f77b4\"/>\n     <use xlink:href=\"#mb52989f7c4\" x=\"135.404566\" y=\"98.425777\" style=\"fill: #1f77b4; stroke: #1f77b4\"/>\n     <use xlink:href=\"#mb52989f7c4\" x=\"104.548325\" y=\"70.056558\" style=\"fill: #1f77b4; stroke: #1f77b4\"/>\n     <use xlink:href=\"#mb52989f7c4\" x=\"84.460351\" y=\"42.564439\" style=\"fill: #1f77b4; stroke: #1f77b4\"/>\n     <use xlink:href=\"#mb52989f7c4\" x=\"172.874895\" y=\"82.204513\" style=\"fill: #1f77b4; stroke: #1f77b4\"/>\n     <use xlink:href=\"#mb52989f7c4\" x=\"83.028761\" y=\"64.053942\" style=\"fill: #1f77b4; stroke: #1f77b4\"/>\n     <use xlink:href=\"#mb52989f7c4\" x=\"93.898412\" y=\"58.327202\" style=\"fill: #1f77b4; stroke: #1f77b4\"/>\n     <use xlink:href=\"#mb52989f7c4\" x=\"95.524665\" y=\"76.481081\" style=\"fill: #1f77b4; stroke: #1f77b4\"/>\n     <use xlink:href=\"#mb52989f7c4\" x=\"116.950519\" y=\"68.837583\" style=\"fill: #1f77b4; stroke: #1f77b4\"/>\n     <use xlink:href=\"#mb52989f7c4\" x=\"86.757473\" y=\"63.477697\" style=\"fill: #1f77b4; stroke: #1f77b4\"/>\n     <use xlink:href=\"#mb52989f7c4\" x=\"132.662945\" y=\"59.786249\" style=\"fill: #1f77b4; stroke: #1f77b4\"/>\n     <use xlink:href=\"#mb52989f7c4\" x=\"121.849506\" y=\"87.610618\" style=\"fill: #1f77b4; stroke: #1f77b4\"/>\n     <use xlink:href=\"#mb52989f7c4\" x=\"121.960351\" y=\"66.884607\" style=\"fill: #1f77b4; stroke: #1f77b4\"/>\n     <use xlink:href=\"#mb52989f7c4\" x=\"160.05181\" y=\"94.843329\" style=\"fill: #1f77b4; stroke: #1f77b4\"/>\n     <use xlink:href=\"#mb52989f7c4\" x=\"105.240195\" y=\"60.205043\" style=\"fill: #1f77b4; stroke: #1f77b4\"/>\n     <use xlink:href=\"#mb52989f7c4\" x=\"167.929512\" y=\"100.263745\" style=\"fill: #1f77b4; stroke: #1f77b4\"/>\n     <use xlink:href=\"#mb52989f7c4\" x=\"98.165476\" y=\"56.887967\" style=\"fill: #1f77b4; stroke: #1f77b4\"/>\n     <use xlink:href=\"#mb52989f7c4\" x=\"118.503579\" y=\"75.229274\" style=\"fill: #1f77b4; stroke: #1f77b4\"/>\n     <use xlink:href=\"#mb52989f7c4\" x=\"100.220944\" y=\"57.587011\" style=\"fill: #1f77b4; stroke: #1f77b4\"/>\n     <use xlink:href=\"#mb52989f7c4\" x=\"144.491963\" y=\"83.111954\" style=\"fill: #1f77b4; stroke: #1f77b4\"/>\n     <use xlink:href=\"#mb52989f7c4\" x=\"171.255572\" y=\"110.89719\" style=\"fill: #1f77b4; stroke: #1f77b4\"/>\n     <use xlink:href=\"#mb52989f7c4\" x=\"129.188706\" y=\"82.815461\" style=\"fill: #1f77b4; stroke: #1f77b4\"/>\n     <use xlink:href=\"#mb52989f7c4\" x=\"97.504244\" y=\"47.982989\" style=\"fill: #1f77b4; stroke: #1f77b4\"/>\n     <use xlink:href=\"#mb52989f7c4\" x=\"142.543354\" y=\"98.830225\" style=\"fill: #1f77b4; stroke: #1f77b4\"/>\n     <use xlink:href=\"#mb52989f7c4\" x=\"133.924771\" y=\"86.565302\" style=\"fill: #1f77b4; stroke: #1f77b4\"/>\n     <use xlink:href=\"#mb52989f7c4\" x=\"92.315047\" y=\"66.199895\" style=\"fill: #1f77b4; stroke: #1f77b4\"/>\n     <use xlink:href=\"#mb52989f7c4\" x=\"91.682517\" y=\"62.833836\" style=\"fill: #1f77b4; stroke: #1f77b4\"/>\n     <use xlink:href=\"#mb52989f7c4\" x=\"119.170614\" y=\"71.171366\" style=\"fill: #1f77b4; stroke: #1f77b4\"/>\n     <use xlink:href=\"#mb52989f7c4\" x=\"167.886839\" y=\"89.912661\" style=\"fill: #1f77b4; stroke: #1f77b4\"/>\n     <use xlink:href=\"#mb52989f7c4\" x=\"86.785443\" y=\"85.424736\" style=\"fill: #1f77b4; stroke: #1f77b4\"/>\n     <use xlink:href=\"#mb52989f7c4\" x=\"134.281904\" y=\"78.093038\" style=\"fill: #1f77b4; stroke: #1f77b4\"/>\n     <use xlink:href=\"#mb52989f7c4\" x=\"88.872869\" y=\"54.064911\" style=\"fill: #1f77b4; stroke: #1f77b4\"/>\n     <use xlink:href=\"#mb52989f7c4\" x=\"65.131486\" y=\"32.110546\" style=\"fill: #1f77b4; stroke: #1f77b4\"/>\n     <use xlink:href=\"#mb52989f7c4\" x=\"127.839021\" y=\"96.843686\" style=\"fill: #1f77b4; stroke: #1f77b4\"/>\n     <use xlink:href=\"#mb52989f7c4\" x=\"154.578009\" y=\"77.567059\" style=\"fill: #1f77b4; stroke: #1f77b4\"/>\n     <use xlink:href=\"#mb52989f7c4\" x=\"121.372017\" y=\"80.56796\" style=\"fill: #1f77b4; stroke: #1f77b4\"/>\n     <use xlink:href=\"#mb52989f7c4\" x=\"81.133993\" y=\"52.012955\" style=\"fill: #1f77b4; stroke: #1f77b4\"/>\n     <use xlink:href=\"#mb52989f7c4\" x=\"46.541024\" y=\"17.212087\" style=\"fill: #1f77b4; stroke: #1f77b4\"/>\n     <use xlink:href=\"#mb52989f7c4\" x=\"81.86162\" y=\"68.961107\" style=\"fill: #1f77b4; stroke: #1f77b4\"/>\n     <use xlink:href=\"#mb52989f7c4\" x=\"106.6053\" y=\"73.426381\" style=\"fill: #1f77b4; stroke: #1f77b4\"/>\n     <use xlink:href=\"#mb52989f7c4\" x=\"110.488677\" y=\"45.607769\" style=\"fill: #1f77b4; stroke: #1f77b4\"/>\n     <use xlink:href=\"#mb52989f7c4\" x=\"137.721184\" y=\"86.282596\" style=\"fill: #1f77b4; stroke: #1f77b4\"/>\n     <use xlink:href=\"#mb52989f7c4\" x=\"200.508532\" y=\"125.368903\" style=\"fill: #1f77b4; stroke: #1f77b4\"/>\n     <use xlink:href=\"#mb52989f7c4\" x=\"110.016079\" y=\"57.826256\" style=\"fill: #1f77b4; stroke: #1f77b4\"/>\n     <use xlink:href=\"#mb52989f7c4\" x=\"110.48084\" y=\"90.585468\" style=\"fill: #1f77b4; stroke: #1f77b4\"/>\n     <use xlink:href=\"#mb52989f7c4\" x=\"171.701906\" y=\"93.837385\" style=\"fill: #1f77b4; stroke: #1f77b4\"/>\n     <use xlink:href=\"#mb52989f7c4\" x=\"119.837258\" y=\"64.812414\" style=\"fill: #1f77b4; stroke: #1f77b4\"/>\n     <use xlink:href=\"#mb52989f7c4\" x=\"114.375307\" y=\"63.709137\" style=\"fill: #1f77b4; stroke: #1f77b4\"/>\n     <use xlink:href=\"#mb52989f7c4\" x=\"167.527362\" y=\"92.478556\" style=\"fill: #1f77b4; stroke: #1f77b4\"/>\n     <use xlink:href=\"#mb52989f7c4\" x=\"134.270269\" y=\"58.984492\" style=\"fill: #1f77b4; stroke: #1f77b4\"/>\n     <use xlink:href=\"#mb52989f7c4\" x=\"140.32199\" y=\"103.57119\" style=\"fill: #1f77b4; stroke: #1f77b4\"/>\n     <use xlink:href=\"#mb52989f7c4\" x=\"105.169953\" y=\"73.15092\" style=\"fill: #1f77b4; stroke: #1f77b4\"/>\n     <use xlink:href=\"#mb52989f7c4\" x=\"204.745661\" y=\"111.769669\" style=\"fill: #1f77b4; stroke: #1f77b4\"/>\n     <use xlink:href=\"#mb52989f7c4\" x=\"122.938304\" y=\"64.760912\" style=\"fill: #1f77b4; stroke: #1f77b4\"/>\n     <use xlink:href=\"#mb52989f7c4\" x=\"108.992772\" y=\"65.912198\" style=\"fill: #1f77b4; stroke: #1f77b4\"/>\n     <use xlink:href=\"#mb52989f7c4\" x=\"150.992154\" y=\"92.69455\" style=\"fill: #1f77b4; stroke: #1f77b4\"/>\n     <use xlink:href=\"#mb52989f7c4\" x=\"111.911579\" y=\"42.422401\" style=\"fill: #1f77b4; stroke: #1f77b4\"/>\n     <use xlink:href=\"#mb52989f7c4\" x=\"66.058782\" y=\"48.075499\" style=\"fill: #1f77b4; stroke: #1f77b4\"/>\n     <use xlink:href=\"#mb52989f7c4\" x=\"94.034999\" y=\"63.430143\" style=\"fill: #1f77b4; stroke: #1f77b4\"/>\n     <use xlink:href=\"#mb52989f7c4\" x=\"88.966061\" y=\"21.431624\" style=\"fill: #1f77b4; stroke: #1f77b4\"/>\n     <use xlink:href=\"#mb52989f7c4\" x=\"106.764997\" y=\"59.065371\" style=\"fill: #1f77b4; stroke: #1f77b4\"/>\n     <use xlink:href=\"#mb52989f7c4\" x=\"169.82893\" y=\"91.774667\" style=\"fill: #1f77b4; stroke: #1f77b4\"/>\n     <use xlink:href=\"#mb52989f7c4\" x=\"159.064136\" y=\"96.898338\" style=\"fill: #1f77b4; stroke: #1f77b4\"/>\n     <use xlink:href=\"#mb52989f7c4\" x=\"79.524744\" y=\"29.412765\" style=\"fill: #1f77b4; stroke: #1f77b4\"/>\n     <use xlink:href=\"#mb52989f7c4\" x=\"92.783282\" y=\"71.133571\" style=\"fill: #1f77b4; stroke: #1f77b4\"/>\n     <use xlink:href=\"#mb52989f7c4\" x=\"122.384955\" y=\"82.071541\" style=\"fill: #1f77b4; stroke: #1f77b4\"/>\n     <use xlink:href=\"#mb52989f7c4\" x=\"170.098091\" y=\"102.616319\" style=\"fill: #1f77b4; stroke: #1f77b4\"/>\n     <use xlink:href=\"#mb52989f7c4\" x=\"165.710024\" y=\"92.168277\" style=\"fill: #1f77b4; stroke: #1f77b4\"/>\n     <use xlink:href=\"#mb52989f7c4\" x=\"107.476735\" y=\"71.111009\" style=\"fill: #1f77b4; stroke: #1f77b4\"/>\n     <use xlink:href=\"#mb52989f7c4\" x=\"133.992661\" y=\"94.077178\" style=\"fill: #1f77b4; stroke: #1f77b4\"/>\n     <use xlink:href=\"#mb52989f7c4\" x=\"99.40096\" y=\"50.1929\" style=\"fill: #1f77b4; stroke: #1f77b4\"/>\n     <use xlink:href=\"#mb52989f7c4\" x=\"160.884124\" y=\"98.61461\" style=\"fill: #1f77b4; stroke: #1f77b4\"/>\n     <use xlink:href=\"#mb52989f7c4\" x=\"108.630584\" y=\"62.604249\" style=\"fill: #1f77b4; stroke: #1f77b4\"/>\n     <use xlink:href=\"#mb52989f7c4\" x=\"174.257884\" y=\"102.160785\" style=\"fill: #1f77b4; stroke: #1f77b4\"/>\n     <use xlink:href=\"#mb52989f7c4\" x=\"88.108843\" y=\"64.040565\" style=\"fill: #1f77b4; stroke: #1f77b4\"/>\n     <use xlink:href=\"#mb52989f7c4\" x=\"157.711629\" y=\"86.626149\" style=\"fill: #1f77b4; stroke: #1f77b4\"/>\n     <use xlink:href=\"#mb52989f7c4\" x=\"123.418188\" y=\"75.331943\" style=\"fill: #1f77b4; stroke: #1f77b4\"/>\n     <use xlink:href=\"#mb52989f7c4\" x=\"117.837448\" y=\"47.871381\" style=\"fill: #1f77b4; stroke: #1f77b4\"/>\n     <use xlink:href=\"#mb52989f7c4\" x=\"156.351355\" y=\"71.777539\" style=\"fill: #1f77b4; stroke: #1f77b4\"/>\n     <use xlink:href=\"#mb52989f7c4\" x=\"91.888246\" y=\"35.818585\" style=\"fill: #1f77b4; stroke: #1f77b4\"/>\n     <use xlink:href=\"#mb52989f7c4\" x=\"159.581549\" y=\"99.570469\" style=\"fill: #1f77b4; stroke: #1f77b4\"/>\n     <use xlink:href=\"#mb52989f7c4\" x=\"149.864162\" y=\"90.500662\" style=\"fill: #1f77b4; stroke: #1f77b4\"/>\n     <use xlink:href=\"#mb52989f7c4\" x=\"172.933481\" y=\"121.658015\" style=\"fill: #1f77b4; stroke: #1f77b4\"/>\n     <use xlink:href=\"#mb52989f7c4\" x=\"123.889464\" y=\"59.23182\" style=\"fill: #1f77b4; stroke: #1f77b4\"/>\n     <use xlink:href=\"#mb52989f7c4\" x=\"75.025148\" y=\"33.272337\" style=\"fill: #1f77b4; stroke: #1f77b4\"/>\n     <use xlink:href=\"#mb52989f7c4\" x=\"130.409253\" y=\"84.870833\" style=\"fill: #1f77b4; stroke: #1f77b4\"/>\n     <use xlink:href=\"#mb52989f7c4\" x=\"103.751004\" y=\"66.071255\" style=\"fill: #1f77b4; stroke: #1f77b4\"/>\n     <use xlink:href=\"#mb52989f7c4\" x=\"113.857833\" y=\"54.668659\" style=\"fill: #1f77b4; stroke: #1f77b4\"/>\n     <use xlink:href=\"#mb52989f7c4\" x=\"130.801153\" y=\"72.406951\" style=\"fill: #1f77b4; stroke: #1f77b4\"/>\n     <use xlink:href=\"#mb52989f7c4\" x=\"128.535474\" y=\"95.719782\" style=\"fill: #1f77b4; stroke: #1f77b4\"/>\n     <use xlink:href=\"#mb52989f7c4\" x=\"54.459751\" y=\"41.698449\" style=\"fill: #1f77b4; stroke: #1f77b4\"/>\n     <use xlink:href=\"#mb52989f7c4\" x=\"112.150622\" y=\"59.36429\" style=\"fill: #1f77b4; stroke: #1f77b4\"/>\n     <use xlink:href=\"#mb52989f7c4\" x=\"128.914476\" y=\"90.770252\" style=\"fill: #1f77b4; stroke: #1f77b4\"/>\n     <use xlink:href=\"#mb52989f7c4\" x=\"147.098698\" y=\"108.831646\" style=\"fill: #1f77b4; stroke: #1f77b4\"/>\n     <use xlink:href=\"#mb52989f7c4\" x=\"128.376996\" y=\"69.383951\" style=\"fill: #1f77b4; stroke: #1f77b4\"/>\n     <use xlink:href=\"#mb52989f7c4\" x=\"124.471863\" y=\"69.189628\" style=\"fill: #1f77b4; stroke: #1f77b4\"/>\n     <use xlink:href=\"#mb52989f7c4\" x=\"121.045064\" y=\"75.841108\" style=\"fill: #1f77b4; stroke: #1f77b4\"/>\n     <use xlink:href=\"#mb52989f7c4\" x=\"160.190937\" y=\"78.776682\" style=\"fill: #1f77b4; stroke: #1f77b4\"/>\n     <use xlink:href=\"#mb52989f7c4\" x=\"64.849039\" y=\"32.078136\" style=\"fill: #1f77b4; stroke: #1f77b4\"/>\n     <use xlink:href=\"#mb52989f7c4\" x=\"134.773951\" y=\"79.915178\" style=\"fill: #1f77b4; stroke: #1f77b4\"/>\n     <use xlink:href=\"#mb52989f7c4\" x=\"117.493018\" y=\"86.83682\" style=\"fill: #1f77b4; stroke: #1f77b4\"/>\n     <use xlink:href=\"#mb52989f7c4\" x=\"75.142413\" y=\"47.956293\" style=\"fill: #1f77b4; stroke: #1f77b4\"/>\n     <use xlink:href=\"#mb52989f7c4\" x=\"137.688586\" y=\"91.822066\" style=\"fill: #1f77b4; stroke: #1f77b4\"/>\n     <use xlink:href=\"#mb52989f7c4\" x=\"125.943818\" y=\"87.634397\" style=\"fill: #1f77b4; stroke: #1f77b4\"/>\n     <use xlink:href=\"#mb52989f7c4\" x=\"119.852937\" y=\"65.184915\" style=\"fill: #1f77b4; stroke: #1f77b4\"/>\n     <use xlink:href=\"#mb52989f7c4\" x=\"48.457735\" y=\"28.697883\" style=\"fill: #1f77b4; stroke: #1f77b4\"/>\n     <use xlink:href=\"#mb52989f7c4\" x=\"101.486324\" y=\"77.851096\" style=\"fill: #1f77b4; stroke: #1f77b4\"/>\n     <use xlink:href=\"#mb52989f7c4\" x=\"154.828766\" y=\"85.223251\" style=\"fill: #1f77b4; stroke: #1f77b4\"/>\n     <use xlink:href=\"#mb52989f7c4\" x=\"128.449074\" y=\"110.125017\" style=\"fill: #1f77b4; stroke: #1f77b4\"/>\n     <use xlink:href=\"#mb52989f7c4\" x=\"144.402135\" y=\"93.336546\" style=\"fill: #1f77b4; stroke: #1f77b4\"/>\n     <use xlink:href=\"#mb52989f7c4\" x=\"69.878548\" y=\"30.025204\" style=\"fill: #1f77b4; stroke: #1f77b4\"/>\n     <use xlink:href=\"#mb52989f7c4\" x=\"135.134945\" y=\"80.268131\" style=\"fill: #1f77b4; stroke: #1f77b4\"/>\n     <use xlink:href=\"#mb52989f7c4\" x=\"124.805634\" y=\"89.410562\" style=\"fill: #1f77b4; stroke: #1f77b4\"/>\n     <use xlink:href=\"#mb52989f7c4\" x=\"116.168359\" y=\"85.926988\" style=\"fill: #1f77b4; stroke: #1f77b4\"/>\n     <use xlink:href=\"#mb52989f7c4\" x=\"121.16005\" y=\"68.997999\" style=\"fill: #1f77b4; stroke: #1f77b4\"/>\n     <use xlink:href=\"#mb52989f7c4\" x=\"129.886851\" y=\"90.776894\" style=\"fill: #1f77b4; stroke: #1f77b4\"/>\n     <use xlink:href=\"#mb52989f7c4\" x=\"162.996386\" y=\"116.647721\" style=\"fill: #1f77b4; stroke: #1f77b4\"/>\n     <use xlink:href=\"#mb52989f7c4\" x=\"67.035421\" y=\"44.900736\" style=\"fill: #1f77b4; stroke: #1f77b4\"/>\n     <use xlink:href=\"#mb52989f7c4\" x=\"86.986368\" y=\"47.21961\" style=\"fill: #1f77b4; stroke: #1f77b4\"/>\n     <use xlink:href=\"#mb52989f7c4\" x=\"128.09104\" y=\"81.402765\" style=\"fill: #1f77b4; stroke: #1f77b4\"/>\n     <use xlink:href=\"#mb52989f7c4\" x=\"154.151698\" y=\"89.522787\" style=\"fill: #1f77b4; stroke: #1f77b4\"/>\n     <use xlink:href=\"#mb52989f7c4\" x=\"106.660175\" y=\"54.015116\" style=\"fill: #1f77b4; stroke: #1f77b4\"/>\n     <use xlink:href=\"#mb52989f7c4\" x=\"128.395642\" y=\"83.772721\" style=\"fill: #1f77b4; stroke: #1f77b4\"/>\n     <use xlink:href=\"#mb52989f7c4\" x=\"155.591402\" y=\"93.960327\" style=\"fill: #1f77b4; stroke: #1f77b4\"/>\n     <use xlink:href=\"#mb52989f7c4\" x=\"115.977538\" y=\"88.469142\" style=\"fill: #1f77b4; stroke: #1f77b4\"/>\n     <use xlink:href=\"#mb52989f7c4\" x=\"86.043301\" y=\"52.918028\" style=\"fill: #1f77b4; stroke: #1f77b4\"/>\n     <use xlink:href=\"#mb52989f7c4\" x=\"129.041318\" y=\"85.927874\" style=\"fill: #1f77b4; stroke: #1f77b4\"/>\n     <use xlink:href=\"#mb52989f7c4\" x=\"140.35886\" y=\"97.840933\" style=\"fill: #1f77b4; stroke: #1f77b4\"/>\n     <use xlink:href=\"#mb52989f7c4\" x=\"82.420293\" y=\"40.871205\" style=\"fill: #1f77b4; stroke: #1f77b4\"/>\n     <use xlink:href=\"#mb52989f7c4\" x=\"119.765508\" y=\"63.131601\" style=\"fill: #1f77b4; stroke: #1f77b4\"/>\n     <use xlink:href=\"#mb52989f7c4\" x=\"62.887054\" y=\"37.263164\" style=\"fill: #1f77b4; stroke: #1f77b4\"/>\n     <use xlink:href=\"#mb52989f7c4\" x=\"58.351408\" y=\"38.383743\" style=\"fill: #1f77b4; stroke: #1f77b4\"/>\n     <use xlink:href=\"#mb52989f7c4\" x=\"180.192924\" y=\"113.268513\" style=\"fill: #1f77b4; stroke: #1f77b4\"/>\n     <use xlink:href=\"#mb52989f7c4\" x=\"42.740272\" y=\"50.496267\" style=\"fill: #1f77b4; stroke: #1f77b4\"/>\n     <use xlink:href=\"#mb52989f7c4\" x=\"86.124043\" y=\"54.190097\" style=\"fill: #1f77b4; stroke: #1f77b4\"/>\n     <use xlink:href=\"#mb52989f7c4\" x=\"123.158931\" y=\"81.324775\" style=\"fill: #1f77b4; stroke: #1f77b4\"/>\n     <use xlink:href=\"#mb52989f7c4\" x=\"94.754174\" y=\"46.783594\" style=\"fill: #1f77b4; stroke: #1f77b4\"/>\n     <use xlink:href=\"#mb52989f7c4\" x=\"108.495618\" y=\"69.758419\" style=\"fill: #1f77b4; stroke: #1f77b4\"/>\n     <use xlink:href=\"#mb52989f7c4\" x=\"112.059894\" y=\"70.236993\" style=\"fill: #1f77b4; stroke: #1f77b4\"/>\n     <use xlink:href=\"#mb52989f7c4\" x=\"47.714706\" y=\"39.628435\" style=\"fill: #1f77b4; stroke: #1f77b4\"/>\n     <use xlink:href=\"#mb52989f7c4\" x=\"135.945844\" y=\"74.388332\" style=\"fill: #1f77b4; stroke: #1f77b4\"/>\n     <use xlink:href=\"#mb52989f7c4\" x=\"82.086513\" y=\"53.629308\" style=\"fill: #1f77b4; stroke: #1f77b4\"/>\n     <use xlink:href=\"#mb52989f7c4\" x=\"204.68393\" y=\"119.277547\" style=\"fill: #1f77b4; stroke: #1f77b4\"/>\n     <use xlink:href=\"#mb52989f7c4\" x=\"104.593813\" y=\"74.88645\" style=\"fill: #1f77b4; stroke: #1f77b4\"/>\n     <use xlink:href=\"#mb52989f7c4\" x=\"117.393317\" y=\"53.627619\" style=\"fill: #1f77b4; stroke: #1f77b4\"/>\n     <use xlink:href=\"#mb52989f7c4\" x=\"90.449723\" y=\"59.474087\" style=\"fill: #1f77b4; stroke: #1f77b4\"/>\n     <use xlink:href=\"#mb52989f7c4\" x=\"151.923292\" y=\"97.795465\" style=\"fill: #1f77b4; stroke: #1f77b4\"/>\n     <use xlink:href=\"#mb52989f7c4\" x=\"88.998872\" y=\"53.75378\" style=\"fill: #1f77b4; stroke: #1f77b4\"/>\n     <use xlink:href=\"#mb52989f7c4\" x=\"120.728427\" y=\"51.673012\" style=\"fill: #1f77b4; stroke: #1f77b4\"/>\n     <use xlink:href=\"#mb52989f7c4\" x=\"146.400305\" y=\"94.710416\" style=\"fill: #1f77b4; stroke: #1f77b4\"/>\n     <use xlink:href=\"#mb52989f7c4\" x=\"154.92926\" y=\"96.896255\" style=\"fill: #1f77b4; stroke: #1f77b4\"/>\n     <use xlink:href=\"#mb52989f7c4\" x=\"121.659255\" y=\"74.045159\" style=\"fill: #1f77b4; stroke: #1f77b4\"/>\n     <use xlink:href=\"#mb52989f7c4\" x=\"98.545701\" y=\"86.986081\" style=\"fill: #1f77b4; stroke: #1f77b4\"/>\n     <use xlink:href=\"#mb52989f7c4\" x=\"136.068731\" y=\"100.783995\" style=\"fill: #1f77b4; stroke: #1f77b4\"/>\n     <use xlink:href=\"#mb52989f7c4\" x=\"97.938064\" y=\"63.190848\" style=\"fill: #1f77b4; stroke: #1f77b4\"/>\n     <use xlink:href=\"#mb52989f7c4\" x=\"147.749136\" y=\"85.126726\" style=\"fill: #1f77b4; stroke: #1f77b4\"/>\n     <use xlink:href=\"#mb52989f7c4\" x=\"127.118875\" y=\"63.722139\" style=\"fill: #1f77b4; stroke: #1f77b4\"/>\n     <use xlink:href=\"#mb52989f7c4\" x=\"74.480223\" y=\"50.443351\" style=\"fill: #1f77b4; stroke: #1f77b4\"/>\n     <use xlink:href=\"#mb52989f7c4\" x=\"143.669164\" y=\"86.642522\" style=\"fill: #1f77b4; stroke: #1f77b4\"/>\n     <use xlink:href=\"#mb52989f7c4\" x=\"183.883827\" y=\"93.965788\" style=\"fill: #1f77b4; stroke: #1f77b4\"/>\n     <use xlink:href=\"#mb52989f7c4\" x=\"110.172033\" y=\"67.543067\" style=\"fill: #1f77b4; stroke: #1f77b4\"/>\n     <use xlink:href=\"#mb52989f7c4\" x=\"158.836179\" y=\"96.875668\" style=\"fill: #1f77b4; stroke: #1f77b4\"/>\n     <use xlink:href=\"#mb52989f7c4\" x=\"157.178544\" y=\"88.927836\" style=\"fill: #1f77b4; stroke: #1f77b4\"/>\n     <use xlink:href=\"#mb52989f7c4\" x=\"115.356774\" y=\"78.693624\" style=\"fill: #1f77b4; stroke: #1f77b4\"/>\n     <use xlink:href=\"#mb52989f7c4\" x=\"89.452068\" y=\"35.882341\" style=\"fill: #1f77b4; stroke: #1f77b4\"/>\n     <use xlink:href=\"#mb52989f7c4\" x=\"106.438726\" y=\"63.915769\" style=\"fill: #1f77b4; stroke: #1f77b4\"/>\n     <use xlink:href=\"#mb52989f7c4\" x=\"99.875766\" y=\"77.04728\" style=\"fill: #1f77b4; stroke: #1f77b4\"/>\n     <use xlink:href=\"#mb52989f7c4\" x=\"119.275235\" y=\"72.564553\" style=\"fill: #1f77b4; stroke: #1f77b4\"/>\n     <use xlink:href=\"#mb52989f7c4\" x=\"86.94743\" y=\"47.181399\" style=\"fill: #1f77b4; stroke: #1f77b4\"/>\n     <use xlink:href=\"#mb52989f7c4\" x=\"123.748695\" y=\"67.120838\" style=\"fill: #1f77b4; stroke: #1f77b4\"/>\n     <use xlink:href=\"#mb52989f7c4\" x=\"114.063154\" y=\"40.806166\" style=\"fill: #1f77b4; stroke: #1f77b4\"/>\n     <use xlink:href=\"#mb52989f7c4\" x=\"103.52072\" y=\"48.408993\" style=\"fill: #1f77b4; stroke: #1f77b4\"/>\n     <use xlink:href=\"#mb52989f7c4\" x=\"155.759263\" y=\"101.949445\" style=\"fill: #1f77b4; stroke: #1f77b4\"/>\n     <use xlink:href=\"#mb52989f7c4\" x=\"97.878051\" y=\"57.147727\" style=\"fill: #1f77b4; stroke: #1f77b4\"/>\n     <use xlink:href=\"#mb52989f7c4\" x=\"98.909631\" y=\"54.214531\" style=\"fill: #1f77b4; stroke: #1f77b4\"/>\n     <use xlink:href=\"#mb52989f7c4\" x=\"124.869834\" y=\"81.475647\" style=\"fill: #1f77b4; stroke: #1f77b4\"/>\n     <use xlink:href=\"#mb52989f7c4\" x=\"81.995999\" y=\"52.196328\" style=\"fill: #1f77b4; stroke: #1f77b4\"/>\n     <use xlink:href=\"#mb52989f7c4\" x=\"79.113747\" y=\"55.131173\" style=\"fill: #1f77b4; stroke: #1f77b4\"/>\n     <use xlink:href=\"#mb52989f7c4\" x=\"113.536626\" y=\"66.93016\" style=\"fill: #1f77b4; stroke: #1f77b4\"/>\n     <use xlink:href=\"#mb52989f7c4\" x=\"74.236822\" y=\"34.636476\" style=\"fill: #1f77b4; stroke: #1f77b4\"/>\n     <use xlink:href=\"#mb52989f7c4\" x=\"140.190052\" y=\"82.610268\" style=\"fill: #1f77b4; stroke: #1f77b4\"/>\n     <use xlink:href=\"#mb52989f7c4\" x=\"150.387888\" y=\"112.128649\" style=\"fill: #1f77b4; stroke: #1f77b4\"/>\n     <use xlink:href=\"#mb52989f7c4\" x=\"156.892434\" y=\"99.83748\" style=\"fill: #1f77b4; stroke: #1f77b4\"/>\n     <use xlink:href=\"#mb52989f7c4\" x=\"49.89501\" y=\"29.932144\" style=\"fill: #1f77b4; stroke: #1f77b4\"/>\n     <use xlink:href=\"#mb52989f7c4\" x=\"85.74816\" y=\"62.005201\" style=\"fill: #1f77b4; stroke: #1f77b4\"/>\n     <use xlink:href=\"#mb52989f7c4\" x=\"73.10935\" y=\"39.902587\" style=\"fill: #1f77b4; stroke: #1f77b4\"/>\n     <use xlink:href=\"#mb52989f7c4\" x=\"78.866459\" y=\"55.732465\" style=\"fill: #1f77b4; stroke: #1f77b4\"/>\n     <use xlink:href=\"#mb52989f7c4\" x=\"128.671516\" y=\"82.276311\" style=\"fill: #1f77b4; stroke: #1f77b4\"/>\n     <use xlink:href=\"#mb52989f7c4\" x=\"166.208993\" y=\"98.35891\" style=\"fill: #1f77b4; stroke: #1f77b4\"/>\n     <use xlink:href=\"#mb52989f7c4\" x=\"146.621745\" y=\"86.512181\" style=\"fill: #1f77b4; stroke: #1f77b4\"/>\n     <use xlink:href=\"#mb52989f7c4\" x=\"89.831223\" y=\"42.53701\" style=\"fill: #1f77b4; stroke: #1f77b4\"/>\n     <use xlink:href=\"#mb52989f7c4\" x=\"147.266954\" y=\"89.910843\" style=\"fill: #1f77b4; stroke: #1f77b4\"/>\n     <use xlink:href=\"#mb52989f7c4\" x=\"106.332075\" y=\"44.03118\" style=\"fill: #1f77b4; stroke: #1f77b4\"/>\n     <use xlink:href=\"#mb52989f7c4\" x=\"46.087348\" y=\"38.399683\" style=\"fill: #1f77b4; stroke: #1f77b4\"/>\n     <use xlink:href=\"#mb52989f7c4\" x=\"105.593204\" y=\"44.957826\" style=\"fill: #1f77b4; stroke: #1f77b4\"/>\n     <use xlink:href=\"#mb52989f7c4\" x=\"41.497189\" y=\"27.897183\" style=\"fill: #1f77b4; stroke: #1f77b4\"/>\n     <use xlink:href=\"#mb52989f7c4\" x=\"137.707894\" y=\"83.243495\" style=\"fill: #1f77b4; stroke: #1f77b4\"/>\n     <use xlink:href=\"#mb52989f7c4\" x=\"86.542422\" y=\"63.281148\" style=\"fill: #1f77b4; stroke: #1f77b4\"/>\n     <use xlink:href=\"#mb52989f7c4\" x=\"156.879211\" y=\"101.15393\" style=\"fill: #1f77b4; stroke: #1f77b4\"/>\n     <use xlink:href=\"#mb52989f7c4\" x=\"75.940406\" y=\"54.464658\" style=\"fill: #1f77b4; stroke: #1f77b4\"/>\n     <use xlink:href=\"#mb52989f7c4\" x=\"144.891056\" y=\"80.537239\" style=\"fill: #1f77b4; stroke: #1f77b4\"/>\n     <use xlink:href=\"#mb52989f7c4\" x=\"114.405552\" y=\"90.689105\" style=\"fill: #1f77b4; stroke: #1f77b4\"/>\n     <use xlink:href=\"#mb52989f7c4\" x=\"90.996495\" y=\"60.042268\" style=\"fill: #1f77b4; stroke: #1f77b4\"/>\n     <use xlink:href=\"#mb52989f7c4\" x=\"97.910085\" y=\"51.402313\" style=\"fill: #1f77b4; stroke: #1f77b4\"/>\n     <use xlink:href=\"#mb52989f7c4\" x=\"179.285902\" y=\"110.189042\" style=\"fill: #1f77b4; stroke: #1f77b4\"/>\n     <use xlink:href=\"#mb52989f7c4\" x=\"96.698844\" y=\"71.549767\" style=\"fill: #1f77b4; stroke: #1f77b4\"/>\n     <use xlink:href=\"#mb52989f7c4\" x=\"140.255287\" y=\"98.501584\" style=\"fill: #1f77b4; stroke: #1f77b4\"/>\n     <use xlink:href=\"#mb52989f7c4\" x=\"145.492255\" y=\"92.5389\" style=\"fill: #1f77b4; stroke: #1f77b4\"/>\n     <use xlink:href=\"#mb52989f7c4\" x=\"152.930626\" y=\"88.986089\" style=\"fill: #1f77b4; stroke: #1f77b4\"/>\n     <use xlink:href=\"#mb52989f7c4\" x=\"111.708643\" y=\"82.752176\" style=\"fill: #1f77b4; stroke: #1f77b4\"/>\n     <use xlink:href=\"#mb52989f7c4\" x=\"136.350157\" y=\"78.384545\" style=\"fill: #1f77b4; stroke: #1f77b4\"/>\n     <use xlink:href=\"#mb52989f7c4\" x=\"82.504989\" y=\"37.625276\" style=\"fill: #1f77b4; stroke: #1f77b4\"/>\n     <use xlink:href=\"#mb52989f7c4\" x=\"163.66874\" y=\"93.218256\" style=\"fill: #1f77b4; stroke: #1f77b4\"/>\n     <use xlink:href=\"#mb52989f7c4\" x=\"111.950911\" y=\"66.134317\" style=\"fill: #1f77b4; stroke: #1f77b4\"/>\n     <use xlink:href=\"#mb52989f7c4\" x=\"128.28048\" y=\"82.64947\" style=\"fill: #1f77b4; stroke: #1f77b4\"/>\n     <use xlink:href=\"#mb52989f7c4\" x=\"114.788925\" y=\"66.155211\" style=\"fill: #1f77b4; stroke: #1f77b4\"/>\n     <use xlink:href=\"#mb52989f7c4\" x=\"124.906149\" y=\"86.434815\" style=\"fill: #1f77b4; stroke: #1f77b4\"/>\n     <use xlink:href=\"#mb52989f7c4\" x=\"89.093667\" y=\"55.368392\" style=\"fill: #1f77b4; stroke: #1f77b4\"/>\n     <use xlink:href=\"#mb52989f7c4\" x=\"93.504321\" y=\"61.611046\" style=\"fill: #1f77b4; stroke: #1f77b4\"/>\n     <use xlink:href=\"#mb52989f7c4\" x=\"143.997041\" y=\"81.293487\" style=\"fill: #1f77b4; stroke: #1f77b4\"/>\n     <use xlink:href=\"#mb52989f7c4\" x=\"101.242115\" y=\"50.695809\" style=\"fill: #1f77b4; stroke: #1f77b4\"/>\n     <use xlink:href=\"#mb52989f7c4\" x=\"136.06443\" y=\"63.768729\" style=\"fill: #1f77b4; stroke: #1f77b4\"/>\n     <use xlink:href=\"#mb52989f7c4\" x=\"82.805317\" y=\"56.85047\" style=\"fill: #1f77b4; stroke: #1f77b4\"/>\n     <use xlink:href=\"#mb52989f7c4\" x=\"109.092483\" y=\"60.294152\" style=\"fill: #1f77b4; stroke: #1f77b4\"/>\n     <use xlink:href=\"#mb52989f7c4\" x=\"111.167577\" y=\"78.035735\" style=\"fill: #1f77b4; stroke: #1f77b4\"/>\n     <use xlink:href=\"#mb52989f7c4\" x=\"93.41134\" y=\"63.97798\" style=\"fill: #1f77b4; stroke: #1f77b4\"/>\n     <use xlink:href=\"#mb52989f7c4\" x=\"98.390649\" y=\"59.998927\" style=\"fill: #1f77b4; stroke: #1f77b4\"/>\n     <use xlink:href=\"#mb52989f7c4\" x=\"92.552633\" y=\"56.165012\" style=\"fill: #1f77b4; stroke: #1f77b4\"/>\n     <use xlink:href=\"#mb52989f7c4\" x=\"136.567026\" y=\"68.312235\" style=\"fill: #1f77b4; stroke: #1f77b4\"/>\n     <use xlink:href=\"#mb52989f7c4\" x=\"67.018691\" y=\"47.210829\" style=\"fill: #1f77b4; stroke: #1f77b4\"/>\n     <use xlink:href=\"#mb52989f7c4\" x=\"88.047891\" y=\"44.841395\" style=\"fill: #1f77b4; stroke: #1f77b4\"/>\n     <use xlink:href=\"#mb52989f7c4\" x=\"90.761718\" y=\"40.057162\" style=\"fill: #1f77b4; stroke: #1f77b4\"/>\n     <use xlink:href=\"#mb52989f7c4\" x=\"73.545235\" y=\"47.673536\" style=\"fill: #1f77b4; stroke: #1f77b4\"/>\n     <use xlink:href=\"#mb52989f7c4\" x=\"127.062264\" y=\"77.027811\" style=\"fill: #1f77b4; stroke: #1f77b4\"/>\n     <use xlink:href=\"#mb52989f7c4\" x=\"132.224216\" y=\"83.258727\" style=\"fill: #1f77b4; stroke: #1f77b4\"/>\n     <use xlink:href=\"#mb52989f7c4\" x=\"100.287962\" y=\"77.20186\" style=\"fill: #1f77b4; stroke: #1f77b4\"/>\n     <use xlink:href=\"#mb52989f7c4\" x=\"91.436368\" y=\"73.360473\" style=\"fill: #1f77b4; stroke: #1f77b4\"/>\n     <use xlink:href=\"#mb52989f7c4\" x=\"133.543495\" y=\"88.493921\" style=\"fill: #1f77b4; stroke: #1f77b4\"/>\n     <use xlink:href=\"#mb52989f7c4\" x=\"130.415429\" y=\"56.348349\" style=\"fill: #1f77b4; stroke: #1f77b4\"/>\n     <use xlink:href=\"#mb52989f7c4\" x=\"136.274231\" y=\"58.644643\" style=\"fill: #1f77b4; stroke: #1f77b4\"/>\n     <use xlink:href=\"#mb52989f7c4\" x=\"129.334226\" y=\"70.582707\" style=\"fill: #1f77b4; stroke: #1f77b4\"/>\n     <use xlink:href=\"#mb52989f7c4\" x=\"110.570599\" y=\"74.336365\" style=\"fill: #1f77b4; stroke: #1f77b4\"/>\n     <use xlink:href=\"#mb52989f7c4\" x=\"92.760711\" y=\"42.688081\" style=\"fill: #1f77b4; stroke: #1f77b4\"/>\n     <use xlink:href=\"#mb52989f7c4\" x=\"75.484866\" y=\"45.044156\" style=\"fill: #1f77b4; stroke: #1f77b4\"/>\n     <use xlink:href=\"#mb52989f7c4\" x=\"136.711011\" y=\"92.258012\" style=\"fill: #1f77b4; stroke: #1f77b4\"/>\n     <use xlink:href=\"#mb52989f7c4\" x=\"101.516884\" y=\"58.793824\" style=\"fill: #1f77b4; stroke: #1f77b4\"/>\n     <use xlink:href=\"#mb52989f7c4\" x=\"97.632539\" y=\"58.348201\" style=\"fill: #1f77b4; stroke: #1f77b4\"/>\n     <use xlink:href=\"#mb52989f7c4\" x=\"103.754143\" y=\"74.512223\" style=\"fill: #1f77b4; stroke: #1f77b4\"/>\n     <use xlink:href=\"#mb52989f7c4\" x=\"110.324123\" y=\"64.671983\" style=\"fill: #1f77b4; stroke: #1f77b4\"/>\n     <use xlink:href=\"#mb52989f7c4\" x=\"75.604013\" y=\"53.546218\" style=\"fill: #1f77b4; stroke: #1f77b4\"/>\n     <use xlink:href=\"#mb52989f7c4\" x=\"40.417454\" y=\"45.404593\" style=\"fill: #1f77b4; stroke: #1f77b4\"/>\n     <use xlink:href=\"#mb52989f7c4\" x=\"180.785094\" y=\"110.642403\" style=\"fill: #1f77b4; stroke: #1f77b4\"/>\n     <use xlink:href=\"#mb52989f7c4\" x=\"81.076782\" y=\"37.201084\" style=\"fill: #1f77b4; stroke: #1f77b4\"/>\n     <use xlink:href=\"#mb52989f7c4\" x=\"130.637365\" y=\"65.501739\" style=\"fill: #1f77b4; stroke: #1f77b4\"/>\n     <use xlink:href=\"#mb52989f7c4\" x=\"142.980968\" y=\"98.448826\" style=\"fill: #1f77b4; stroke: #1f77b4\"/>\n     <use xlink:href=\"#mb52989f7c4\" x=\"118.313906\" y=\"80.353534\" style=\"fill: #1f77b4; stroke: #1f77b4\"/>\n     <use xlink:href=\"#mb52989f7c4\" x=\"62.666995\" y=\"50.056465\" style=\"fill: #1f77b4; stroke: #1f77b4\"/>\n     <use xlink:href=\"#mb52989f7c4\" x=\"111.938034\" y=\"62.817592\" style=\"fill: #1f77b4; stroke: #1f77b4\"/>\n     <use xlink:href=\"#mb52989f7c4\" x=\"109.863611\" y=\"66.211075\" style=\"fill: #1f77b4; stroke: #1f77b4\"/>\n     <use xlink:href=\"#mb52989f7c4\" x=\"138.453404\" y=\"82.620505\" style=\"fill: #1f77b4; stroke: #1f77b4\"/>\n     <use xlink:href=\"#mb52989f7c4\" x=\"133.319751\" y=\"87.496783\" style=\"fill: #1f77b4; stroke: #1f77b4\"/>\n     <use xlink:href=\"#mb52989f7c4\" x=\"112.307522\" y=\"85.812012\" style=\"fill: #1f77b4; stroke: #1f77b4\"/>\n     <use xlink:href=\"#mb52989f7c4\" x=\"163.05514\" y=\"103.394316\" style=\"fill: #1f77b4; stroke: #1f77b4\"/>\n     <use xlink:href=\"#mb52989f7c4\" x=\"124.141604\" y=\"59.687021\" style=\"fill: #1f77b4; stroke: #1f77b4\"/>\n     <use xlink:href=\"#mb52989f7c4\" x=\"95.00962\" y=\"47.183137\" style=\"fill: #1f77b4; stroke: #1f77b4\"/>\n     <use xlink:href=\"#mb52989f7c4\" x=\"113.133996\" y=\"76.358325\" style=\"fill: #1f77b4; stroke: #1f77b4\"/>\n     <use xlink:href=\"#mb52989f7c4\" x=\"100.872466\" y=\"62.109368\" style=\"fill: #1f77b4; stroke: #1f77b4\"/>\n     <use xlink:href=\"#mb52989f7c4\" x=\"140.81844\" y=\"82.764244\" style=\"fill: #1f77b4; stroke: #1f77b4\"/>\n     <use xlink:href=\"#mb52989f7c4\" x=\"108.216341\" y=\"51.259772\" style=\"fill: #1f77b4; stroke: #1f77b4\"/>\n     <use xlink:href=\"#mb52989f7c4\" x=\"165.93867\" y=\"103.647445\" style=\"fill: #1f77b4; stroke: #1f77b4\"/>\n     <use xlink:href=\"#mb52989f7c4\" x=\"169.416565\" y=\"111.636353\" style=\"fill: #1f77b4; stroke: #1f77b4\"/>\n     <use xlink:href=\"#mb52989f7c4\" x=\"174.260925\" y=\"99.023075\" style=\"fill: #1f77b4; stroke: #1f77b4\"/>\n     <use xlink:href=\"#mb52989f7c4\" x=\"146.42799\" y=\"96.361602\" style=\"fill: #1f77b4; stroke: #1f77b4\"/>\n     <use xlink:href=\"#mb52989f7c4\" x=\"120.196689\" y=\"80.448984\" style=\"fill: #1f77b4; stroke: #1f77b4\"/>\n     <use xlink:href=\"#mb52989f7c4\" x=\"90.26086\" y=\"47.906859\" style=\"fill: #1f77b4; stroke: #1f77b4\"/>\n     <use xlink:href=\"#mb52989f7c4\" x=\"155.058891\" y=\"94.516379\" style=\"fill: #1f77b4; stroke: #1f77b4\"/>\n     <use xlink:href=\"#mb52989f7c4\" x=\"77.137317\" y=\"44.541043\" style=\"fill: #1f77b4; stroke: #1f77b4\"/>\n     <use xlink:href=\"#mb52989f7c4\" x=\"84.079549\" y=\"47.871721\" style=\"fill: #1f77b4; stroke: #1f77b4\"/>\n     <use xlink:href=\"#mb52989f7c4\" x=\"133.851088\" y=\"71.013031\" style=\"fill: #1f77b4; stroke: #1f77b4\"/>\n     <use xlink:href=\"#mb52989f7c4\" x=\"123.198798\" y=\"79.85554\" style=\"fill: #1f77b4; stroke: #1f77b4\"/>\n     <use xlink:href=\"#mb52989f7c4\" x=\"114.5617\" y=\"74.613992\" style=\"fill: #1f77b4; stroke: #1f77b4\"/>\n     <use xlink:href=\"#mb52989f7c4\" x=\"166.120231\" y=\"101.326278\" style=\"fill: #1f77b4; stroke: #1f77b4\"/>\n     <use xlink:href=\"#mb52989f7c4\" x=\"74.654311\" y=\"32.906653\" style=\"fill: #1f77b4; stroke: #1f77b4\"/>\n     <use xlink:href=\"#mb52989f7c4\" x=\"137.301953\" y=\"88.725129\" style=\"fill: #1f77b4; stroke: #1f77b4\"/>\n     <use xlink:href=\"#mb52989f7c4\" x=\"103.950592\" y=\"79.466881\" style=\"fill: #1f77b4; stroke: #1f77b4\"/>\n     <use xlink:href=\"#mb52989f7c4\" x=\"194.617547\" y=\"118.555046\" style=\"fill: #1f77b4; stroke: #1f77b4\"/>\n     <use xlink:href=\"#mb52989f7c4\" x=\"133.410868\" y=\"87.192291\" style=\"fill: #1f77b4; stroke: #1f77b4\"/>\n     <use xlink:href=\"#mb52989f7c4\" x=\"105.970939\" y=\"77.476983\" style=\"fill: #1f77b4; stroke: #1f77b4\"/>\n     <use xlink:href=\"#mb52989f7c4\" x=\"123.390707\" y=\"75.808004\" style=\"fill: #1f77b4; stroke: #1f77b4\"/>\n     <use xlink:href=\"#mb52989f7c4\" x=\"148.005232\" y=\"99.884582\" style=\"fill: #1f77b4; stroke: #1f77b4\"/>\n     <use xlink:href=\"#mb52989f7c4\" x=\"118.433502\" y=\"98.262535\" style=\"fill: #1f77b4; stroke: #1f77b4\"/>\n     <use xlink:href=\"#mb52989f7c4\" x=\"143.424815\" y=\"83.85179\" style=\"fill: #1f77b4; stroke: #1f77b4\"/>\n     <use xlink:href=\"#mb52989f7c4\" x=\"151.456885\" y=\"92.125304\" style=\"fill: #1f77b4; stroke: #1f77b4\"/>\n     <use xlink:href=\"#mb52989f7c4\" x=\"117.160393\" y=\"81.612686\" style=\"fill: #1f77b4; stroke: #1f77b4\"/>\n     <use xlink:href=\"#mb52989f7c4\" x=\"87.889462\" y=\"57.874886\" style=\"fill: #1f77b4; stroke: #1f77b4\"/>\n     <use xlink:href=\"#mb52989f7c4\" x=\"92.028827\" y=\"47.389931\" style=\"fill: #1f77b4; stroke: #1f77b4\"/>\n     <use xlink:href=\"#mb52989f7c4\" x=\"80.975982\" y=\"44.818301\" style=\"fill: #1f77b4; stroke: #1f77b4\"/>\n     <use xlink:href=\"#mb52989f7c4\" x=\"135.596238\" y=\"82.631464\" style=\"fill: #1f77b4; stroke: #1f77b4\"/>\n     <use xlink:href=\"#mb52989f7c4\" x=\"124.998115\" y=\"66.164171\" style=\"fill: #1f77b4; stroke: #1f77b4\"/>\n     <use xlink:href=\"#mb52989f7c4\" x=\"88.434786\" y=\"51.869443\" style=\"fill: #1f77b4; stroke: #1f77b4\"/>\n     <use xlink:href=\"#mb52989f7c4\" x=\"153.687806\" y=\"76.943365\" style=\"fill: #1f77b4; stroke: #1f77b4\"/>\n     <use xlink:href=\"#mb52989f7c4\" x=\"129.573139\" y=\"82.687042\" style=\"fill: #1f77b4; stroke: #1f77b4\"/>\n     <use xlink:href=\"#mb52989f7c4\" x=\"94.981555\" y=\"53.845062\" style=\"fill: #1f77b4; stroke: #1f77b4\"/>\n     <use xlink:href=\"#mb52989f7c4\" x=\"138.834711\" y=\"78.666321\" style=\"fill: #1f77b4; stroke: #1f77b4\"/>\n     <use xlink:href=\"#mb52989f7c4\" x=\"109.463389\" y=\"66.864666\" style=\"fill: #1f77b4; stroke: #1f77b4\"/>\n     <use xlink:href=\"#mb52989f7c4\" x=\"176.183349\" y=\"104.833876\" style=\"fill: #1f77b4; stroke: #1f77b4\"/>\n     <use xlink:href=\"#mb52989f7c4\" x=\"141.66829\" y=\"86.900973\" style=\"fill: #1f77b4; stroke: #1f77b4\"/>\n     <use xlink:href=\"#mb52989f7c4\" x=\"185.656026\" y=\"105.649983\" style=\"fill: #1f77b4; stroke: #1f77b4\"/>\n     <use xlink:href=\"#mb52989f7c4\" x=\"141.416584\" y=\"78.396304\" style=\"fill: #1f77b4; stroke: #1f77b4\"/>\n     <use xlink:href=\"#mb52989f7c4\" x=\"109.682057\" y=\"85.113305\" style=\"fill: #1f77b4; stroke: #1f77b4\"/>\n     <use xlink:href=\"#mb52989f7c4\" x=\"94.299031\" y=\"43.86665\" style=\"fill: #1f77b4; stroke: #1f77b4\"/>\n     <use xlink:href=\"#mb52989f7c4\" x=\"163.250658\" y=\"96.878016\" style=\"fill: #1f77b4; stroke: #1f77b4\"/>\n     <use xlink:href=\"#mb52989f7c4\" x=\"144.401546\" y=\"73.936709\" style=\"fill: #1f77b4; stroke: #1f77b4\"/>\n     <use xlink:href=\"#mb52989f7c4\" x=\"144.131914\" y=\"83.641379\" style=\"fill: #1f77b4; stroke: #1f77b4\"/>\n     <use xlink:href=\"#mb52989f7c4\" x=\"123.946195\" y=\"76.127418\" style=\"fill: #1f77b4; stroke: #1f77b4\"/>\n     <use xlink:href=\"#mb52989f7c4\" x=\"140.458497\" y=\"79.760661\" style=\"fill: #1f77b4; stroke: #1f77b4\"/>\n     <use xlink:href=\"#mb52989f7c4\" x=\"87.98042\" y=\"38.554153\" style=\"fill: #1f77b4; stroke: #1f77b4\"/>\n     <use xlink:href=\"#mb52989f7c4\" x=\"120.299408\" y=\"48.641075\" style=\"fill: #1f77b4; stroke: #1f77b4\"/>\n     <use xlink:href=\"#mb52989f7c4\" x=\"163.596155\" y=\"91.329536\" style=\"fill: #1f77b4; stroke: #1f77b4\"/>\n     <use xlink:href=\"#mb52989f7c4\" x=\"121.644086\" y=\"66.750361\" style=\"fill: #1f77b4; stroke: #1f77b4\"/>\n     <use xlink:href=\"#mb52989f7c4\" x=\"104.792069\" y=\"78.30982\" style=\"fill: #1f77b4; stroke: #1f77b4\"/>\n     <use xlink:href=\"#mb52989f7c4\" x=\"107.955866\" y=\"75.361407\" style=\"fill: #1f77b4; stroke: #1f77b4\"/>\n     <use xlink:href=\"#mb52989f7c4\" x=\"133.82997\" y=\"89.952325\" style=\"fill: #1f77b4; stroke: #1f77b4\"/>\n     <use xlink:href=\"#mb52989f7c4\" x=\"123.248685\" y=\"72.941812\" style=\"fill: #1f77b4; stroke: #1f77b4\"/>\n     <use xlink:href=\"#mb52989f7c4\" x=\"105.766959\" y=\"70.190204\" style=\"fill: #1f77b4; stroke: #1f77b4\"/>\n     <use xlink:href=\"#mb52989f7c4\" x=\"138.25933\" y=\"62.311685\" style=\"fill: #1f77b4; stroke: #1f77b4\"/>\n     <use xlink:href=\"#mb52989f7c4\" x=\"169.165066\" y=\"87.986273\" style=\"fill: #1f77b4; stroke: #1f77b4\"/>\n     <use xlink:href=\"#mb52989f7c4\" x=\"134.93677\" y=\"73.048081\" style=\"fill: #1f77b4; stroke: #1f77b4\"/>\n     <use xlink:href=\"#mb52989f7c4\" x=\"99.548553\" y=\"76.365584\" style=\"fill: #1f77b4; stroke: #1f77b4\"/>\n     <use xlink:href=\"#mb52989f7c4\" x=\"110.597017\" y=\"50.526975\" style=\"fill: #1f77b4; stroke: #1f77b4\"/>\n     <use xlink:href=\"#mb52989f7c4\" x=\"106.119655\" y=\"65.044344\" style=\"fill: #1f77b4; stroke: #1f77b4\"/>\n     <use xlink:href=\"#mb52989f7c4\" x=\"117.190275\" y=\"58.14985\" style=\"fill: #1f77b4; stroke: #1f77b4\"/>\n     <use xlink:href=\"#mb52989f7c4\" x=\"159.228143\" y=\"100.154717\" style=\"fill: #1f77b4; stroke: #1f77b4\"/>\n     <use xlink:href=\"#mb52989f7c4\" x=\"113.509323\" y=\"85.251453\" style=\"fill: #1f77b4; stroke: #1f77b4\"/>\n     <use xlink:href=\"#mb52989f7c4\" x=\"142.011896\" y=\"79.51537\" style=\"fill: #1f77b4; stroke: #1f77b4\"/>\n     <use xlink:href=\"#mb52989f7c4\" x=\"127.49113\" y=\"91.194345\" style=\"fill: #1f77b4; stroke: #1f77b4\"/>\n     <use xlink:href=\"#mb52989f7c4\" x=\"117.933614\" y=\"75.132986\" style=\"fill: #1f77b4; stroke: #1f77b4\"/>\n     <use xlink:href=\"#mb52989f7c4\" x=\"124.765539\" y=\"67.429718\" style=\"fill: #1f77b4; stroke: #1f77b4\"/>\n     <use xlink:href=\"#mb52989f7c4\" x=\"115.7749\" y=\"74.361784\" style=\"fill: #1f77b4; stroke: #1f77b4\"/>\n     <use xlink:href=\"#mb52989f7c4\" x=\"80.857107\" y=\"37.469555\" style=\"fill: #1f77b4; stroke: #1f77b4\"/>\n     <use xlink:href=\"#mb52989f7c4\" x=\"157.036044\" y=\"96.358001\" style=\"fill: #1f77b4; stroke: #1f77b4\"/>\n     <use xlink:href=\"#mb52989f7c4\" x=\"81.881081\" y=\"57.655071\" style=\"fill: #1f77b4; stroke: #1f77b4\"/>\n     <use xlink:href=\"#mb52989f7c4\" x=\"104.455469\" y=\"79.214409\" style=\"fill: #1f77b4; stroke: #1f77b4\"/>\n     <use xlink:href=\"#mb52989f7c4\" x=\"114.468034\" y=\"95.647776\" style=\"fill: #1f77b4; stroke: #1f77b4\"/>\n     <use xlink:href=\"#mb52989f7c4\" x=\"87.847818\" y=\"72.270194\" style=\"fill: #1f77b4; stroke: #1f77b4\"/>\n     <use xlink:href=\"#mb52989f7c4\" x=\"119.015669\" y=\"57.585754\" style=\"fill: #1f77b4; stroke: #1f77b4\"/>\n     <use xlink:href=\"#mb52989f7c4\" x=\"121.660335\" y=\"73.409685\" style=\"fill: #1f77b4; stroke: #1f77b4\"/>\n     <use xlink:href=\"#mb52989f7c4\" x=\"134.124374\" y=\"70.984989\" style=\"fill: #1f77b4; stroke: #1f77b4\"/>\n     <use xlink:href=\"#mb52989f7c4\" x=\"76.097075\" y=\"45.918688\" style=\"fill: #1f77b4; stroke: #1f77b4\"/>\n     <use xlink:href=\"#mb52989f7c4\" x=\"155.587113\" y=\"86.399744\" style=\"fill: #1f77b4; stroke: #1f77b4\"/>\n     <use xlink:href=\"#mb52989f7c4\" x=\"114.639056\" y=\"84.854682\" style=\"fill: #1f77b4; stroke: #1f77b4\"/>\n     <use xlink:href=\"#mb52989f7c4\" x=\"78.507225\" y=\"60.045339\" style=\"fill: #1f77b4; stroke: #1f77b4\"/>\n     <use xlink:href=\"#mb52989f7c4\" x=\"102.639883\" y=\"64.516005\" style=\"fill: #1f77b4; stroke: #1f77b4\"/>\n     <use xlink:href=\"#mb52989f7c4\" x=\"148.697865\" y=\"97.1904\" style=\"fill: #1f77b4; stroke: #1f77b4\"/>\n     <use xlink:href=\"#mb52989f7c4\" x=\"157.624085\" y=\"78.546591\" style=\"fill: #1f77b4; stroke: #1f77b4\"/>\n     <use xlink:href=\"#mb52989f7c4\" x=\"121.574708\" y=\"84.755033\" style=\"fill: #1f77b4; stroke: #1f77b4\"/>\n     <use xlink:href=\"#mb52989f7c4\" x=\"135.957807\" y=\"55.375982\" style=\"fill: #1f77b4; stroke: #1f77b4\"/>\n     <use xlink:href=\"#mb52989f7c4\" x=\"175.462576\" y=\"104.594825\" style=\"fill: #1f77b4; stroke: #1f77b4\"/>\n     <use xlink:href=\"#mb52989f7c4\" x=\"89.002832\" y=\"51.607316\" style=\"fill: #1f77b4; stroke: #1f77b4\"/>\n     <use xlink:href=\"#mb52989f7c4\" x=\"162.485596\" y=\"108.054274\" style=\"fill: #1f77b4; stroke: #1f77b4\"/>\n     <use xlink:href=\"#mb52989f7c4\" x=\"140.699762\" y=\"80.286778\" style=\"fill: #1f77b4; stroke: #1f77b4\"/>\n     <use xlink:href=\"#mb52989f7c4\" x=\"132.762553\" y=\"61.388584\" style=\"fill: #1f77b4; stroke: #1f77b4\"/>\n     <use xlink:href=\"#mb52989f7c4\" x=\"79.98063\" y=\"59.85414\" style=\"fill: #1f77b4; stroke: #1f77b4\"/>\n     <use xlink:href=\"#mb52989f7c4\" x=\"83.678883\" y=\"57.00368\" style=\"fill: #1f77b4; stroke: #1f77b4\"/>\n     <use xlink:href=\"#mb52989f7c4\" x=\"165.398571\" y=\"126.182532\" style=\"fill: #1f77b4; stroke: #1f77b4\"/>\n     <use xlink:href=\"#mb52989f7c4\" x=\"74.536282\" y=\"48.438323\" style=\"fill: #1f77b4; stroke: #1f77b4\"/>\n     <use xlink:href=\"#mb52989f7c4\" x=\"109.010177\" y=\"88.593338\" style=\"fill: #1f77b4; stroke: #1f77b4\"/>\n     <use xlink:href=\"#mb52989f7c4\" x=\"142.817389\" y=\"100.602532\" style=\"fill: #1f77b4; stroke: #1f77b4\"/>\n     <use xlink:href=\"#mb52989f7c4\" x=\"140.02606\" y=\"99.867954\" style=\"fill: #1f77b4; stroke: #1f77b4\"/>\n     <use xlink:href=\"#mb52989f7c4\" x=\"107.570011\" y=\"60.457846\" style=\"fill: #1f77b4; stroke: #1f77b4\"/>\n     <use xlink:href=\"#mb52989f7c4\" x=\"160.709137\" y=\"67.232991\" style=\"fill: #1f77b4; stroke: #1f77b4\"/>\n     <use xlink:href=\"#mb52989f7c4\" x=\"114.726004\" y=\"85.514282\" style=\"fill: #1f77b4; stroke: #1f77b4\"/>\n     <use xlink:href=\"#mb52989f7c4\" x=\"158.372354\" y=\"97.469071\" style=\"fill: #1f77b4; stroke: #1f77b4\"/>\n     <use xlink:href=\"#mb52989f7c4\" x=\"121.589908\" y=\"71.956084\" style=\"fill: #1f77b4; stroke: #1f77b4\"/>\n     <use xlink:href=\"#mb52989f7c4\" x=\"133.269512\" y=\"84.732575\" style=\"fill: #1f77b4; stroke: #1f77b4\"/>\n     <use xlink:href=\"#mb52989f7c4\" x=\"158.94914\" y=\"81.030018\" style=\"fill: #1f77b4; stroke: #1f77b4\"/>\n     <use xlink:href=\"#mb52989f7c4\" x=\"99.854686\" y=\"74.43924\" style=\"fill: #1f77b4; stroke: #1f77b4\"/>\n     <use xlink:href=\"#mb52989f7c4\" x=\"147.685207\" y=\"95.044096\" style=\"fill: #1f77b4; stroke: #1f77b4\"/>\n     <use xlink:href=\"#mb52989f7c4\" x=\"112.653466\" y=\"75.908431\" style=\"fill: #1f77b4; stroke: #1f77b4\"/>\n     <use xlink:href=\"#mb52989f7c4\" x=\"87.617331\" y=\"34.331181\" style=\"fill: #1f77b4; stroke: #1f77b4\"/>\n     <use xlink:href=\"#mb52989f7c4\" x=\"119.26607\" y=\"66.481068\" style=\"fill: #1f77b4; stroke: #1f77b4\"/>\n     <use xlink:href=\"#mb52989f7c4\" x=\"112.470555\" y=\"63.678827\" style=\"fill: #1f77b4; stroke: #1f77b4\"/>\n     <use xlink:href=\"#mb52989f7c4\" x=\"124.893442\" y=\"104.667646\" style=\"fill: #1f77b4; stroke: #1f77b4\"/>\n     <use xlink:href=\"#mb52989f7c4\" x=\"148.527984\" y=\"111.103731\" style=\"fill: #1f77b4; stroke: #1f77b4\"/>\n     <use xlink:href=\"#mb52989f7c4\" x=\"105.07339\" y=\"67.31104\" style=\"fill: #1f77b4; stroke: #1f77b4\"/>\n     <use xlink:href=\"#mb52989f7c4\" x=\"158.308651\" y=\"76.481237\" style=\"fill: #1f77b4; stroke: #1f77b4\"/>\n     <use xlink:href=\"#mb52989f7c4\" x=\"104.295258\" y=\"57.35937\" style=\"fill: #1f77b4; stroke: #1f77b4\"/>\n     <use xlink:href=\"#mb52989f7c4\" x=\"142.069662\" y=\"79.187856\" style=\"fill: #1f77b4; stroke: #1f77b4\"/>\n     <use xlink:href=\"#mb52989f7c4\" x=\"139.563846\" y=\"73.864205\" style=\"fill: #1f77b4; stroke: #1f77b4\"/>\n     <use xlink:href=\"#mb52989f7c4\" x=\"95.143993\" y=\"46.040863\" style=\"fill: #1f77b4; stroke: #1f77b4\"/>\n     <use xlink:href=\"#mb52989f7c4\" x=\"136.431622\" y=\"72.900751\" style=\"fill: #1f77b4; stroke: #1f77b4\"/>\n     <use xlink:href=\"#mb52989f7c4\" x=\"134.680222\" y=\"79.027763\" style=\"fill: #1f77b4; stroke: #1f77b4\"/>\n     <use xlink:href=\"#mb52989f7c4\" x=\"149.480238\" y=\"101.2777\" style=\"fill: #1f77b4; stroke: #1f77b4\"/>\n     <use xlink:href=\"#mb52989f7c4\" x=\"159.490189\" y=\"99.736186\" style=\"fill: #1f77b4; stroke: #1f77b4\"/>\n     <use xlink:href=\"#mb52989f7c4\" x=\"107.73587\" y=\"59.79793\" style=\"fill: #1f77b4; stroke: #1f77b4\"/>\n     <use xlink:href=\"#mb52989f7c4\" x=\"90.782645\" y=\"86.088301\" style=\"fill: #1f77b4; stroke: #1f77b4\"/>\n     <use xlink:href=\"#mb52989f7c4\" x=\"103.211237\" y=\"53.19266\" style=\"fill: #1f77b4; stroke: #1f77b4\"/>\n     <use xlink:href=\"#mb52989f7c4\" x=\"99.861139\" y=\"50.6549\" style=\"fill: #1f77b4; stroke: #1f77b4\"/>\n     <use xlink:href=\"#mb52989f7c4\" x=\"57.73949\" y=\"39.198534\" style=\"fill: #1f77b4; stroke: #1f77b4\"/>\n     <use xlink:href=\"#mb52989f7c4\" x=\"77.201448\" y=\"32.961124\" style=\"fill: #1f77b4; stroke: #1f77b4\"/>\n     <use xlink:href=\"#mb52989f7c4\" x=\"75.758223\" y=\"28.479422\" style=\"fill: #1f77b4; stroke: #1f77b4\"/>\n     <use xlink:href=\"#mb52989f7c4\" x=\"110.630438\" y=\"71.318078\" style=\"fill: #1f77b4; stroke: #1f77b4\"/>\n     <use xlink:href=\"#mb52989f7c4\" x=\"150.906183\" y=\"89.951015\" style=\"fill: #1f77b4; stroke: #1f77b4\"/>\n     <use xlink:href=\"#mb52989f7c4\" x=\"104.015094\" y=\"63.509936\" style=\"fill: #1f77b4; stroke: #1f77b4\"/>\n     <use xlink:href=\"#mb52989f7c4\" x=\"104.125036\" y=\"73.894926\" style=\"fill: #1f77b4; stroke: #1f77b4\"/>\n     <use xlink:href=\"#mb52989f7c4\" x=\"130.490402\" y=\"47.142773\" style=\"fill: #1f77b4; stroke: #1f77b4\"/>\n     <use xlink:href=\"#mb52989f7c4\" x=\"112.469043\" y=\"83.156971\" style=\"fill: #1f77b4; stroke: #1f77b4\"/>\n     <use xlink:href=\"#mb52989f7c4\" x=\"84.451202\" y=\"61.712097\" style=\"fill: #1f77b4; stroke: #1f77b4\"/>\n     <use xlink:href=\"#mb52989f7c4\" x=\"88.895559\" y=\"46.263021\" style=\"fill: #1f77b4; stroke: #1f77b4\"/>\n     <use xlink:href=\"#mb52989f7c4\" x=\"100.686345\" y=\"61.270357\" style=\"fill: #1f77b4; stroke: #1f77b4\"/>\n     <use xlink:href=\"#mb52989f7c4\" x=\"141.785937\" y=\"97.020082\" style=\"fill: #1f77b4; stroke: #1f77b4\"/>\n     <use xlink:href=\"#mb52989f7c4\" x=\"140.909414\" y=\"84.423937\" style=\"fill: #1f77b4; stroke: #1f77b4\"/>\n     <use xlink:href=\"#mb52989f7c4\" x=\"109.5849\" y=\"66.14778\" style=\"fill: #1f77b4; stroke: #1f77b4\"/>\n     <use xlink:href=\"#mb52989f7c4\" x=\"130.367309\" y=\"75.070847\" style=\"fill: #1f77b4; stroke: #1f77b4\"/>\n     <use xlink:href=\"#mb52989f7c4\" x=\"147.330329\" y=\"78.748922\" style=\"fill: #1f77b4; stroke: #1f77b4\"/>\n     <use xlink:href=\"#mb52989f7c4\" x=\"48.875113\" y=\"35.571584\" style=\"fill: #1f77b4; stroke: #1f77b4\"/>\n     <use xlink:href=\"#mb52989f7c4\" x=\"107.38354\" y=\"60.993913\" style=\"fill: #1f77b4; stroke: #1f77b4\"/>\n     <use xlink:href=\"#mb52989f7c4\" x=\"158.214392\" y=\"89.847646\" style=\"fill: #1f77b4; stroke: #1f77b4\"/>\n     <use xlink:href=\"#mb52989f7c4\" x=\"59.954065\" y=\"47.527377\" style=\"fill: #1f77b4; stroke: #1f77b4\"/>\n     <use xlink:href=\"#mb52989f7c4\" x=\"107.909368\" y=\"39.331817\" style=\"fill: #1f77b4; stroke: #1f77b4\"/>\n     <use xlink:href=\"#mb52989f7c4\" x=\"120.944333\" y=\"88.799537\" style=\"fill: #1f77b4; stroke: #1f77b4\"/>\n     <use xlink:href=\"#mb52989f7c4\" x=\"118.523558\" y=\"63.513499\" style=\"fill: #1f77b4; stroke: #1f77b4\"/>\n     <use xlink:href=\"#mb52989f7c4\" x=\"122.132963\" y=\"87.7359\" style=\"fill: #1f77b4; stroke: #1f77b4\"/>\n     <use xlink:href=\"#mb52989f7c4\" x=\"122.780621\" y=\"110.777071\" style=\"fill: #1f77b4; stroke: #1f77b4\"/>\n     <use xlink:href=\"#mb52989f7c4\" x=\"157.803458\" y=\"90.879565\" style=\"fill: #1f77b4; stroke: #1f77b4\"/>\n     <use xlink:href=\"#mb52989f7c4\" x=\"154.511551\" y=\"98.494612\" style=\"fill: #1f77b4; stroke: #1f77b4\"/>\n     <use xlink:href=\"#mb52989f7c4\" x=\"119.801634\" y=\"55.361403\" style=\"fill: #1f77b4; stroke: #1f77b4\"/>\n     <use xlink:href=\"#mb52989f7c4\" x=\"197.98679\" y=\"133.131928\" style=\"fill: #1f77b4; stroke: #1f77b4\"/>\n     <use xlink:href=\"#mb52989f7c4\" x=\"73.738666\" y=\"56.177056\" style=\"fill: #1f77b4; stroke: #1f77b4\"/>\n     <use xlink:href=\"#mb52989f7c4\" x=\"116.088265\" y=\"54.091806\" style=\"fill: #1f77b4; stroke: #1f77b4\"/>\n     <use xlink:href=\"#mb52989f7c4\" x=\"129.831067\" y=\"106.968966\" style=\"fill: #1f77b4; stroke: #1f77b4\"/>\n     <use xlink:href=\"#mb52989f7c4\" x=\"122.237485\" y=\"64.861552\" style=\"fill: #1f77b4; stroke: #1f77b4\"/>\n     <use xlink:href=\"#mb52989f7c4\" x=\"93.877293\" y=\"59.705506\" style=\"fill: #1f77b4; stroke: #1f77b4\"/>\n     <use xlink:href=\"#mb52989f7c4\" x=\"121.189811\" y=\"82.140748\" style=\"fill: #1f77b4; stroke: #1f77b4\"/>\n     <use xlink:href=\"#mb52989f7c4\" x=\"109.671775\" y=\"63.617328\" style=\"fill: #1f77b4; stroke: #1f77b4\"/>\n     <use xlink:href=\"#mb52989f7c4\" x=\"77.466845\" y=\"39.046945\" style=\"fill: #1f77b4; stroke: #1f77b4\"/>\n     <use xlink:href=\"#mb52989f7c4\" x=\"113.611447\" y=\"75.443428\" style=\"fill: #1f77b4; stroke: #1f77b4\"/>\n     <use xlink:href=\"#mb52989f7c4\" x=\"149.388137\" y=\"76.152423\" style=\"fill: #1f77b4; stroke: #1f77b4\"/>\n     <use xlink:href=\"#mb52989f7c4\" x=\"129.187801\" y=\"67.170065\" style=\"fill: #1f77b4; stroke: #1f77b4\"/>\n     <use xlink:href=\"#mb52989f7c4\" x=\"78.111113\" y=\"33.623599\" style=\"fill: #1f77b4; stroke: #1f77b4\"/>\n     <use xlink:href=\"#mb52989f7c4\" x=\"116.430829\" y=\"63.782622\" style=\"fill: #1f77b4; stroke: #1f77b4\"/>\n     <use xlink:href=\"#mb52989f7c4\" x=\"147.568861\" y=\"88.825341\" style=\"fill: #1f77b4; stroke: #1f77b4\"/>\n     <use xlink:href=\"#mb52989f7c4\" x=\"107.113204\" y=\"54.423622\" style=\"fill: #1f77b4; stroke: #1f77b4\"/>\n     <use xlink:href=\"#mb52989f7c4\" x=\"173.744234\" y=\"100.290389\" style=\"fill: #1f77b4; stroke: #1f77b4\"/>\n     <use xlink:href=\"#mb52989f7c4\" x=\"128.653909\" y=\"53.847094\" style=\"fill: #1f77b4; stroke: #1f77b4\"/>\n     <use xlink:href=\"#mb52989f7c4\" x=\"107.498808\" y=\"83.665217\" style=\"fill: #1f77b4; stroke: #1f77b4\"/>\n     <use xlink:href=\"#mb52989f7c4\" x=\"122.662974\" y=\"76.10269\" style=\"fill: #1f77b4; stroke: #1f77b4\"/>\n     <use xlink:href=\"#mb52989f7c4\" x=\"138.036064\" y=\"74.611364\" style=\"fill: #1f77b4; stroke: #1f77b4\"/>\n     <use xlink:href=\"#mb52989f7c4\" x=\"127.737913\" y=\"77.493367\" style=\"fill: #1f77b4; stroke: #1f77b4\"/>\n     <use xlink:href=\"#mb52989f7c4\" x=\"177.532047\" y=\"129.42706\" style=\"fill: #1f77b4; stroke: #1f77b4\"/>\n     <use xlink:href=\"#mb52989f7c4\" x=\"165.353808\" y=\"105.980553\" style=\"fill: #1f77b4; stroke: #1f77b4\"/>\n     <use xlink:href=\"#mb52989f7c4\" x=\"101.103245\" y=\"64.984248\" style=\"fill: #1f77b4; stroke: #1f77b4\"/>\n     <use xlink:href=\"#mb52989f7c4\" x=\"141.054661\" y=\"78.877291\" style=\"fill: #1f77b4; stroke: #1f77b4\"/>\n     <use xlink:href=\"#mb52989f7c4\" x=\"91.508689\" y=\"40.402899\" style=\"fill: #1f77b4; stroke: #1f77b4\"/>\n     <use xlink:href=\"#mb52989f7c4\" x=\"140.742943\" y=\"82.853359\" style=\"fill: #1f77b4; stroke: #1f77b4\"/>\n     <use xlink:href=\"#mb52989f7c4\" x=\"140.144754\" y=\"94.634311\" style=\"fill: #1f77b4; stroke: #1f77b4\"/>\n     <use xlink:href=\"#mb52989f7c4\" x=\"116.443551\" y=\"92.433702\" style=\"fill: #1f77b4; stroke: #1f77b4\"/>\n     <use xlink:href=\"#mb52989f7c4\" x=\"142.940392\" y=\"70.389615\" style=\"fill: #1f77b4; stroke: #1f77b4\"/>\n     <use xlink:href=\"#mb52989f7c4\" x=\"88.643366\" y=\"32.749507\" style=\"fill: #1f77b4; stroke: #1f77b4\"/>\n     <use xlink:href=\"#mb52989f7c4\" x=\"73.053052\" y=\"58.176586\" style=\"fill: #1f77b4; stroke: #1f77b4\"/>\n     <use xlink:href=\"#mb52989f7c4\" x=\"83.404323\" y=\"70.944945\" style=\"fill: #1f77b4; stroke: #1f77b4\"/>\n     <use xlink:href=\"#mb52989f7c4\" x=\"113.365785\" y=\"85.793977\" style=\"fill: #1f77b4; stroke: #1f77b4\"/>\n     <use xlink:href=\"#mb52989f7c4\" x=\"86.417901\" y=\"32.893609\" style=\"fill: #1f77b4; stroke: #1f77b4\"/>\n     <use xlink:href=\"#mb52989f7c4\" x=\"170.415201\" y=\"109.571965\" style=\"fill: #1f77b4; stroke: #1f77b4\"/>\n     <use xlink:href=\"#mb52989f7c4\" x=\"99.350737\" y=\"66.842981\" style=\"fill: #1f77b4; stroke: #1f77b4\"/>\n     <use xlink:href=\"#mb52989f7c4\" x=\"117.206519\" y=\"65.014325\" style=\"fill: #1f77b4; stroke: #1f77b4\"/>\n     <use xlink:href=\"#mb52989f7c4\" x=\"100.072006\" y=\"58.665241\" style=\"fill: #1f77b4; stroke: #1f77b4\"/>\n     <use xlink:href=\"#mb52989f7c4\" x=\"168.801743\" y=\"94.850787\" style=\"fill: #1f77b4; stroke: #1f77b4\"/>\n     <use xlink:href=\"#mb52989f7c4\" x=\"51.779617\" y=\"25.186704\" style=\"fill: #1f77b4; stroke: #1f77b4\"/>\n     <use xlink:href=\"#mb52989f7c4\" x=\"118.397751\" y=\"69.445303\" style=\"fill: #1f77b4; stroke: #1f77b4\"/>\n     <use xlink:href=\"#mb52989f7c4\" x=\"67.269333\" y=\"51.393622\" style=\"fill: #1f77b4; stroke: #1f77b4\"/>\n     <use xlink:href=\"#mb52989f7c4\" x=\"99.370607\" y=\"28.711273\" style=\"fill: #1f77b4; stroke: #1f77b4\"/>\n     <use xlink:href=\"#mb52989f7c4\" x=\"169.780429\" y=\"120.863638\" style=\"fill: #1f77b4; stroke: #1f77b4\"/>\n     <use xlink:href=\"#mb52989f7c4\" x=\"102.633338\" y=\"52.368466\" style=\"fill: #1f77b4; stroke: #1f77b4\"/>\n     <use xlink:href=\"#mb52989f7c4\" x=\"67.74224\" y=\"44.689051\" style=\"fill: #1f77b4; stroke: #1f77b4\"/>\n     <use xlink:href=\"#mb52989f7c4\" x=\"146.007594\" y=\"92.371227\" style=\"fill: #1f77b4; stroke: #1f77b4\"/>\n     <use xlink:href=\"#mb52989f7c4\" x=\"121.69902\" y=\"76.367756\" style=\"fill: #1f77b4; stroke: #1f77b4\"/>\n     <use xlink:href=\"#mb52989f7c4\" x=\"89.549335\" y=\"59.600679\" style=\"fill: #1f77b4; stroke: #1f77b4\"/>\n     <use xlink:href=\"#mb52989f7c4\" x=\"113.205552\" y=\"55.48913\" style=\"fill: #1f77b4; stroke: #1f77b4\"/>\n     <use xlink:href=\"#mb52989f7c4\" x=\"131.376314\" y=\"67.038228\" style=\"fill: #1f77b4; stroke: #1f77b4\"/>\n     <use xlink:href=\"#mb52989f7c4\" x=\"215.364915\" y=\"125.47546\" style=\"fill: #1f77b4; stroke: #1f77b4\"/>\n     <use xlink:href=\"#mb52989f7c4\" x=\"84.89302\" y=\"49.530436\" style=\"fill: #1f77b4; stroke: #1f77b4\"/>\n     <use xlink:href=\"#mb52989f7c4\" x=\"98.805753\" y=\"71.08011\" style=\"fill: #1f77b4; stroke: #1f77b4\"/>\n     <use xlink:href=\"#mb52989f7c4\" x=\"136.603964\" y=\"88.721544\" style=\"fill: #1f77b4; stroke: #1f77b4\"/>\n     <use xlink:href=\"#mb52989f7c4\" x=\"136.773409\" y=\"86.643716\" style=\"fill: #1f77b4; stroke: #1f77b4\"/>\n    </g>\n   </g>\n   <g id=\"matplotlib.axis_1\">\n    <g id=\"xtick_1\">\n     <g id=\"line2d_1\">\n      <defs>\n       <path id=\"m5a950d5ed3\" d=\"M 0 0 \nL 0 3.5 \n\" style=\"stroke: #000000; stroke-width: 0.8\"/>\n      </defs>\n      <g>\n       <use xlink:href=\"#m5a950d5ed3\" x=\"56.829676\" y=\"145.8\" style=\"stroke: #000000; stroke-width: 0.8\"/>\n      </g>\n     </g>\n     <g id=\"text_1\">\n      <!-- −2 -->\n      <g transform=\"translate(49.458583 160.398438)scale(0.1 -0.1)\">\n       <defs>\n        <path id=\"DejaVuSans-2212\" d=\"M 678 2272 \nL 4684 2272 \nL 4684 1741 \nL 678 1741 \nL 678 2272 \nz\n\" transform=\"scale(0.015625)\"/>\n        <path id=\"DejaVuSans-32\" d=\"M 1228 531 \nL 3431 531 \nL 3431 0 \nL 469 0 \nL 469 531 \nQ 828 903 1448 1529 \nQ 2069 2156 2228 2338 \nQ 2531 2678 2651 2914 \nQ 2772 3150 2772 3378 \nQ 2772 3750 2511 3984 \nQ 2250 4219 1831 4219 \nQ 1534 4219 1204 4116 \nQ 875 4013 500 3803 \nL 500 4441 \nQ 881 4594 1212 4672 \nQ 1544 4750 1819 4750 \nQ 2544 4750 2975 4387 \nQ 3406 4025 3406 3419 \nQ 3406 3131 3298 2873 \nQ 3191 2616 2906 2266 \nQ 2828 2175 2409 1742 \nQ 1991 1309 1228 531 \nz\n\" transform=\"scale(0.015625)\"/>\n       </defs>\n       <use xlink:href=\"#DejaVuSans-2212\"/>\n       <use xlink:href=\"#DejaVuSans-32\" x=\"83.789062\"/>\n      </g>\n     </g>\n    </g>\n    <g id=\"xtick_2\">\n     <g id=\"line2d_2\">\n      <g>\n       <use xlink:href=\"#m5a950d5ed3\" x=\"119.355825\" y=\"145.8\" style=\"stroke: #000000; stroke-width: 0.8\"/>\n      </g>\n     </g>\n     <g id=\"text_2\">\n      <!-- 0 -->\n      <g transform=\"translate(116.174575 160.398438)scale(0.1 -0.1)\">\n       <defs>\n        <path id=\"DejaVuSans-30\" d=\"M 2034 4250 \nQ 1547 4250 1301 3770 \nQ 1056 3291 1056 2328 \nQ 1056 1369 1301 889 \nQ 1547 409 2034 409 \nQ 2525 409 2770 889 \nQ 3016 1369 3016 2328 \nQ 3016 3291 2770 3770 \nQ 2525 4250 2034 4250 \nz\nM 2034 4750 \nQ 2819 4750 3233 4129 \nQ 3647 3509 3647 2328 \nQ 3647 1150 3233 529 \nQ 2819 -91 2034 -91 \nQ 1250 -91 836 529 \nQ 422 1150 422 2328 \nQ 422 3509 836 4129 \nQ 1250 4750 2034 4750 \nz\n\" transform=\"scale(0.015625)\"/>\n       </defs>\n       <use xlink:href=\"#DejaVuSans-30\"/>\n      </g>\n     </g>\n    </g>\n    <g id=\"xtick_3\">\n     <g id=\"line2d_3\">\n      <g>\n       <use xlink:href=\"#m5a950d5ed3\" x=\"181.881973\" y=\"145.8\" style=\"stroke: #000000; stroke-width: 0.8\"/>\n      </g>\n     </g>\n     <g id=\"text_3\">\n      <!-- 2 -->\n      <g transform=\"translate(178.700723 160.398438)scale(0.1 -0.1)\">\n       <use xlink:href=\"#DejaVuSans-32\"/>\n      </g>\n     </g>\n    </g>\n   </g>\n   <g id=\"matplotlib.axis_2\">\n    <g id=\"ytick_1\">\n     <g id=\"line2d_4\">\n      <defs>\n       <path id=\"ma3673d55d0\" d=\"M 0 0 \nL -3.5 0 \n\" style=\"stroke: #000000; stroke-width: 0.8\"/>\n      </defs>\n      <g>\n       <use xlink:href=\"#ma3673d55d0\" x=\"28.942188\" y=\"122.698214\" style=\"stroke: #000000; stroke-width: 0.8\"/>\n      </g>\n     </g>\n     <g id=\"text_4\">\n      <!-- −5 -->\n      <g transform=\"translate(7.2 126.497433)scale(0.1 -0.1)\">\n       <defs>\n        <path id=\"DejaVuSans-35\" d=\"M 691 4666 \nL 3169 4666 \nL 3169 4134 \nL 1269 4134 \nL 1269 2991 \nQ 1406 3038 1543 3061 \nQ 1681 3084 1819 3084 \nQ 2600 3084 3056 2656 \nQ 3513 2228 3513 1497 \nQ 3513 744 3044 326 \nQ 2575 -91 1722 -91 \nQ 1428 -91 1123 -41 \nQ 819 9 494 109 \nL 494 744 \nQ 775 591 1075 516 \nQ 1375 441 1709 441 \nQ 2250 441 2565 725 \nQ 2881 1009 2881 1497 \nQ 2881 1984 2565 2268 \nQ 2250 2553 1709 2553 \nQ 1456 2553 1204 2497 \nQ 953 2441 691 2322 \nL 691 4666 \nz\n\" transform=\"scale(0.015625)\"/>\n       </defs>\n       <use xlink:href=\"#DejaVuSans-2212\"/>\n       <use xlink:href=\"#DejaVuSans-35\" x=\"83.789062\"/>\n      </g>\n     </g>\n    </g>\n    <g id=\"ytick_2\">\n     <g id=\"line2d_5\">\n      <g>\n       <use xlink:href=\"#ma3673d55d0\" x=\"28.942188\" y=\"95.243249\" style=\"stroke: #000000; stroke-width: 0.8\"/>\n      </g>\n     </g>\n     <g id=\"text_5\">\n      <!-- 0 -->\n      <g transform=\"translate(15.579688 99.042468)scale(0.1 -0.1)\">\n       <use xlink:href=\"#DejaVuSans-30\"/>\n      </g>\n     </g>\n    </g>\n    <g id=\"ytick_3\">\n     <g id=\"line2d_6\">\n      <g>\n       <use xlink:href=\"#ma3673d55d0\" x=\"28.942188\" y=\"67.788285\" style=\"stroke: #000000; stroke-width: 0.8\"/>\n      </g>\n     </g>\n     <g id=\"text_6\">\n      <!-- 5 -->\n      <g transform=\"translate(15.579688 71.587504)scale(0.1 -0.1)\">\n       <use xlink:href=\"#DejaVuSans-35\"/>\n      </g>\n     </g>\n    </g>\n    <g id=\"ytick_4\">\n     <g id=\"line2d_7\">\n      <g>\n       <use xlink:href=\"#ma3673d55d0\" x=\"28.942188\" y=\"40.33332\" style=\"stroke: #000000; stroke-width: 0.8\"/>\n      </g>\n     </g>\n     <g id=\"text_7\">\n      <!-- 10 -->\n      <g transform=\"translate(9.217188 44.132539)scale(0.1 -0.1)\">\n       <defs>\n        <path id=\"DejaVuSans-31\" d=\"M 794 531 \nL 1825 531 \nL 1825 4091 \nL 703 3866 \nL 703 4441 \nL 1819 4666 \nL 2450 4666 \nL 2450 531 \nL 3481 531 \nL 3481 0 \nL 794 0 \nL 794 531 \nz\n\" transform=\"scale(0.015625)\"/>\n       </defs>\n       <use xlink:href=\"#DejaVuSans-31\"/>\n       <use xlink:href=\"#DejaVuSans-30\" x=\"63.623047\"/>\n      </g>\n     </g>\n    </g>\n    <g id=\"ytick_5\">\n     <g id=\"line2d_8\">\n      <g>\n       <use xlink:href=\"#ma3673d55d0\" x=\"28.942188\" y=\"12.878356\" style=\"stroke: #000000; stroke-width: 0.8\"/>\n      </g>\n     </g>\n     <g id=\"text_8\">\n      <!-- 15 -->\n      <g transform=\"translate(9.217188 16.677574)scale(0.1 -0.1)\">\n       <use xlink:href=\"#DejaVuSans-31\"/>\n       <use xlink:href=\"#DejaVuSans-35\" x=\"63.623047\"/>\n      </g>\n     </g>\n    </g>\n   </g>\n   <g id=\"patch_3\">\n    <path d=\"M 28.942188 145.8 \nL 28.942188 7.2 \n\" style=\"fill: none; stroke: #000000; stroke-width: 0.8; stroke-linejoin: miter; stroke-linecap: square\"/>\n   </g>\n   <g id=\"patch_4\">\n    <path d=\"M 224.242188 145.8 \nL 224.242188 7.2 \n\" style=\"fill: none; stroke: #000000; stroke-width: 0.8; stroke-linejoin: miter; stroke-linecap: square\"/>\n   </g>\n   <g id=\"patch_5\">\n    <path d=\"M 28.942187 145.8 \nL 224.242188 145.8 \n\" style=\"fill: none; stroke: #000000; stroke-width: 0.8; stroke-linejoin: miter; stroke-linecap: square\"/>\n   </g>\n   <g id=\"patch_6\">\n    <path d=\"M 28.942187 7.2 \nL 224.242188 7.2 \n\" style=\"fill: none; stroke: #000000; stroke-width: 0.8; stroke-linejoin: miter; stroke-linecap: square\"/>\n   </g>\n  </g>\n </g>\n <defs>\n  <clipPath id=\"p219902f5ea\">\n   <rect x=\"28.942188\" y=\"7.2\" width=\"195.3\" height=\"138.6\"/>\n  </clipPath>\n </defs>\n</svg>\n"
     },
     "metadata": {},
     "output_type": "display_data"
    }
   ],
   "source": [
    "from IPython import display\n",
    "\n",
    "\n",
    "def use_svg_display():\n",
    "    # 用矢量图表示\n",
    "    display.set_matplotlib_formats('svg')\n",
    "\n",
    "\n",
    "def set_figsize(figsize=(3.5, 2.5)):\n",
    "    use_svg_display()\n",
    "    #  设置图的尺寸\n",
    "    plt.rcParams['figure.figsize'] = figsize\n",
    "\n",
    "\n",
    "set_figsize()\n",
    "# 加分号只显示图\n",
    "plt.scatter(features[:, 1].numpy(), labels.numpy(), 1)"
   ],
   "metadata": {
    "collapsed": false,
    "ExecuteTime": {
     "end_time": "2024-03-08T12:56:17.569031Z",
     "start_time": "2024-03-08T12:56:17.442694Z"
    }
   },
   "id": "9a4a967c5361cd7d",
   "execution_count": 10
  },
  {
   "cell_type": "code",
   "outputs": [],
   "source": [
    "def data_iter(batch_size, features, labels):\n",
    "    num_examples = len(features)\n",
    "    indices = list(range(num_examples))\n",
    "    # 样本的读取顺序是随机的\n",
    "    random.shuffle(indices)\n",
    "    for i in range(0, num_examples, batch_size):\n",
    "        # 最后一次可能不足一个batch\n",
    "        j = torch.LongTensor(indices[i:min(i + batch_size, num_examples)])\n",
    "        # index_select 函数根据索引返回对应元素\n",
    "        yield features.index_select(0, j), labels.index_select(0, j)"
   ],
   "metadata": {
    "collapsed": false,
    "ExecuteTime": {
     "end_time": "2024-03-08T12:56:17.584542Z",
     "start_time": "2024-03-08T12:56:17.570032Z"
    }
   },
   "id": "a38b29a6e9adbf5d",
   "execution_count": 11
  },
  {
   "cell_type": "code",
   "outputs": [
    {
     "name": "stdout",
     "output_type": "stream",
     "text": [
      "tensor([[-0.8608, -0.4538],\n",
      "        [ 0.7771,  1.5408],\n",
      "        [-0.9123, -0.3185],\n",
      "        [-1.6210, -0.8930],\n",
      "        [-0.4322,  0.3145],\n",
      "        [-0.2637,  0.8170],\n",
      "        [-0.6603,  0.8035],\n",
      "        [-0.3466, -0.0455],\n",
      "        [-0.5955, -0.6360],\n",
      "        [ 0.4080,  0.1217]]) tensor([4.0234, 0.5035, 3.4468, 3.9852, 2.2633, 0.8947, 0.1502, 3.6624, 5.1670,\n",
      "        4.5903])\n"
     ]
    }
   ],
   "source": [
    "batch_size = 10\n",
    "for x, y in data_iter(batch_size, features, labels):\n",
    "    print(x, y)\n",
    "    break"
   ],
   "metadata": {
    "collapsed": false,
    "ExecuteTime": {
     "end_time": "2024-03-08T12:56:17.600543Z",
     "start_time": "2024-03-08T12:56:17.585544Z"
    }
   },
   "id": "294800a37817a887",
   "execution_count": 12
  },
  {
   "cell_type": "code",
   "outputs": [],
   "source": [
    "w = torch.tensor(np.random.normal(0, 0.01, (num_inputs, 1)), dtype=torch.float32)\n",
    "b = torch.zeros(1, dtype=torch.float32)"
   ],
   "metadata": {
    "collapsed": false,
    "ExecuteTime": {
     "end_time": "2024-03-08T12:56:17.616543Z",
     "start_time": "2024-03-08T12:56:17.601549Z"
    }
   },
   "id": "eb7622ce5aac5b2f",
   "execution_count": 13
  },
  {
   "cell_type": "code",
   "outputs": [
    {
     "data": {
      "text/plain": "tensor([0.], requires_grad=True)"
     },
     "execution_count": 14,
     "metadata": {},
     "output_type": "execute_result"
    }
   ],
   "source": [
    "w.requires_grad_(requires_grad=True)\n",
    "b.requires_grad_(requires_grad=True)"
   ],
   "metadata": {
    "collapsed": false,
    "ExecuteTime": {
     "end_time": "2024-03-08T12:56:17.632175Z",
     "start_time": "2024-03-08T12:56:17.619089Z"
    }
   },
   "id": "bc93c1806c69e96e",
   "execution_count": 14
  },
  {
   "cell_type": "code",
   "outputs": [],
   "source": [
    "def linreg(x, w, b):\n",
    "    return torch.mm(x, w) + b"
   ],
   "metadata": {
    "collapsed": false,
    "ExecuteTime": {
     "end_time": "2024-03-08T12:56:17.647788Z",
     "start_time": "2024-03-08T12:56:17.633688Z"
    }
   },
   "id": "e293be780ff90377",
   "execution_count": 15
  },
  {
   "cell_type": "code",
   "outputs": [],
   "source": [
    "def squared_loss(y_hat, y):\n",
    "    return (y_hat - y.view(y_hat.size())) ** 2 / 2"
   ],
   "metadata": {
    "collapsed": false,
    "ExecuteTime": {
     "end_time": "2024-03-08T12:56:17.663304Z",
     "start_time": "2024-03-08T12:56:17.650300Z"
    }
   },
   "id": "da003633c4c60d84",
   "execution_count": 16
  },
  {
   "cell_type": "code",
   "outputs": [],
   "source": [
    "def sgd(parms, lr, batch_size):\n",
    "    for param in parms:\n",
    "        param.data -= lr * param.grad / batch_size"
   ],
   "metadata": {
    "collapsed": false,
    "ExecuteTime": {
     "end_time": "2024-03-08T12:56:17.678816Z",
     "start_time": "2024-03-08T12:56:17.664305Z"
    }
   },
   "id": "88311f760168c0f5",
   "execution_count": 17
  },
  {
   "cell_type": "code",
   "outputs": [
    {
     "name": "stdout",
     "output_type": "stream",
     "text": [
      "Epoch: 1 Loss: 0.039854\n",
      "Epoch: 2 Loss: 0.000155\n",
      "Epoch: 3 Loss: 0.000053\n"
     ]
    }
   ],
   "source": [
    "lr = .03\n",
    "num_epochs = 3\n",
    "net = linreg\n",
    "loss = squared_loss\n",
    "# 训练模型一共需要num_epochs个迭代周期\n",
    "for epoch in range(num_epochs):\n",
    "    # 在每一个迭代周期中，会使用 训练集中所有样本一次（假设样本数能够被批量大小整除）\n",
    "    # x和y分别是小批量样本的特征和标签\n",
    "    for x, y in data_iter(batch_size, features, labels):\n",
    "        # l是有关小批量x和y的损失\n",
    "        l = loss(net(x, w, b), y).sum()\n",
    "        # 小批量损失对模型参数求梯度\n",
    "        l.backward()\n",
    "        # 使用小批量随机梯度下降迭代参数模型\n",
    "        sgd([w, b], lr, batch_size)\n",
    "        # 梯度清零\n",
    "        w.grad.data.zero_()\n",
    "        b.grad.data.zero_()\n",
    "    train_l = loss(net(features, w, b), labels)\n",
    "    print(f'Epoch: {epoch + 1}', f'Loss: {train_l.mean().item():.6f}')"
   ],
   "metadata": {
    "collapsed": false,
    "ExecuteTime": {
     "end_time": "2024-03-08T12:56:17.773406Z",
     "start_time": "2024-03-08T12:56:17.679815Z"
    }
   },
   "id": "4870bd6c05fe0659",
   "execution_count": 18
  },
  {
   "cell_type": "code",
   "outputs": [
    {
     "data": {
      "text/plain": "([2, -3.4],\n tensor([[ 1.9998],\n         [-3.3990]], requires_grad=True))"
     },
     "execution_count": 19,
     "metadata": {},
     "output_type": "execute_result"
    }
   ],
   "source": [
    " true_w, w"
   ],
   "metadata": {
    "collapsed": false,
    "ExecuteTime": {
     "end_time": "2024-03-08T12:56:17.788916Z",
     "start_time": "2024-03-08T12:56:17.774407Z"
    }
   },
   "id": "194f7520f56ba888",
   "execution_count": 19
  },
  {
   "cell_type": "code",
   "outputs": [
    {
     "data": {
      "text/plain": "(4.2, tensor([4.1998], requires_grad=True))"
     },
     "execution_count": 20,
     "metadata": {},
     "output_type": "execute_result"
    }
   ],
   "source": [
    "true_b, b"
   ],
   "metadata": {
    "collapsed": false,
    "ExecuteTime": {
     "end_time": "2024-03-08T12:56:17.804917Z",
     "start_time": "2024-03-08T12:56:17.790918Z"
    }
   },
   "id": "4b713077d047df34",
   "execution_count": 20
  },
  {
   "cell_type": "code",
   "outputs": [],
   "source": [
    "# 线性回归的简洁实现   \n",
    "#\n",
    "num_inputs = 2\n",
    "num_examples = 1000\n",
    "true_w = [2, -3.4]\n",
    "true_b = 4.2\n",
    "features = torch.tensor(\n",
    "    np.random.normal(0, 1, (num_examples, num_inputs)),\n",
    "    dtype=torch.float32)\n",
    "labels = true_w[0] * features[:, 0] + true_w[1] * features[:, 1] + true_b\n",
    "labels += torch.tensor(np.random.normal(0, 0.01, size=labels.size()),\n",
    "                       dtype=torch.float32)"
   ],
   "metadata": {
    "collapsed": false,
    "ExecuteTime": {
     "end_time": "2024-03-08T12:56:17.819916Z",
     "start_time": "2024-03-08T12:56:17.805920Z"
    }
   },
   "id": "4fbc843f8890f6b0",
   "execution_count": 21
  },
  {
   "cell_type": "code",
   "outputs": [],
   "source": [
    "import torch.utils.data as Data\n",
    "\n",
    "batch_size = 10\n",
    "# 将训练数据的特征和标签组合\n",
    "dataset = Data.TensorDataset(features, labels)\n",
    "# 随机读取小批量\n",
    "date_iter = Data.DataLoader(dataset, batch_size=batch_size, shuffle=True)"
   ],
   "metadata": {
    "collapsed": false,
    "ExecuteTime": {
     "end_time": "2024-03-08T12:56:17.835916Z",
     "start_time": "2024-03-08T12:56:17.820919Z"
    }
   },
   "id": "2bc87f6066a1cfb",
   "execution_count": 22
  },
  {
   "cell_type": "code",
   "outputs": [
    {
     "name": "stdout",
     "output_type": "stream",
     "text": [
      "tensor([[ 1.3967, -0.7566],\n",
      "        [-0.8524,  0.6102],\n",
      "        [ 0.3634,  0.2520],\n",
      "        [-1.1488, -0.3261],\n",
      "        [ 1.5374,  0.7307],\n",
      "        [-1.2047, -0.6454],\n",
      "        [-1.5210,  1.1235],\n",
      "        [ 1.6603,  0.7931],\n",
      "        [ 0.1530, -0.0675],\n",
      "        [ 1.1234,  0.3412]]) tensor([ 9.5582,  0.3994,  4.0524,  3.0171,  4.7791,  3.9706, -2.6625,  4.8216,\n",
      "         4.7428,  5.2763])\n"
     ]
    }
   ],
   "source": [
    "for x, y in date_iter:\n",
    "    print(x, y)\n",
    "    break"
   ],
   "metadata": {
    "collapsed": false,
    "ExecuteTime": {
     "end_time": "2024-03-08T12:56:17.851870Z",
     "start_time": "2024-03-08T12:56:17.837864Z"
    }
   },
   "id": "3083fa5d6bcf6572",
   "execution_count": 23
  },
  {
   "cell_type": "code",
   "outputs": [
    {
     "name": "stdout",
     "output_type": "stream",
     "text": [
      "LinerNet(\n",
      "  (linear): Linear(in_features=2, out_features=1, bias=True)\n",
      ")\n"
     ]
    }
   ],
   "source": [
    "from torch import nn\n",
    "\n",
    "\n",
    "class LinerNet(nn.Module):\n",
    "    def __init__(self, n_feature):\n",
    "        super(LinerNet, self).__init__()\n",
    "        self.linear = nn.Linear(n_feature, 1)\n",
    "        # forward 定义前向传播\n",
    "\n",
    "    def forward(self, x):\n",
    "        y = self.linear(x)\n",
    "        return y\n",
    "\n",
    "\n",
    "net = LinerNet(num_inputs)\n",
    "# 打印网络结构\n",
    "print(net)"
   ],
   "metadata": {
    "collapsed": false,
    "ExecuteTime": {
     "end_time": "2024-03-08T12:56:17.867876Z",
     "start_time": "2024-03-08T12:56:17.853871Z"
    }
   },
   "id": "9ad3b935248efb6a",
   "execution_count": 24
  },
  {
   "cell_type": "code",
   "outputs": [
    {
     "name": "stdout",
     "output_type": "stream",
     "text": [
      "Sequential(\n",
      "  (linear1): Linear(in_features=2, out_features=1, bias=True)\n",
      ")\n"
     ]
    }
   ],
   "source": [
    "net = nn.Sequential()\n",
    "net.add_module('linear1', nn.Linear(num_inputs, 1))\n",
    "print(net)"
   ],
   "metadata": {
    "collapsed": false,
    "ExecuteTime": {
     "end_time": "2024-03-08T12:56:17.883387Z",
     "start_time": "2024-03-08T12:56:17.868878Z"
    }
   },
   "id": "dfda266574b873ff",
   "execution_count": 25
  },
  {
   "cell_type": "code",
   "outputs": [
    {
     "name": "stdout",
     "output_type": "stream",
     "text": [
      "Parameter containing:\n",
      "tensor([[ 0.4778, -0.3117]], requires_grad=True)\n",
      "Parameter containing:\n",
      "tensor([-0.0134], requires_grad=True)\n"
     ]
    }
   ],
   "source": [
    "for param in net.parameters():\n",
    "    print(param)"
   ],
   "metadata": {
    "collapsed": false,
    "ExecuteTime": {
     "end_time": "2024-03-08T13:01:58.635265Z",
     "start_time": "2024-03-08T13:01:58.620212Z"
    }
   },
   "id": "1d7029c447c442dc",
   "execution_count": 26
  },
  {
   "cell_type": "code",
   "outputs": [
    {
     "data": {
      "text/plain": "Parameter containing:\ntensor([0.], requires_grad=True)"
     },
     "execution_count": 28,
     "metadata": {},
     "output_type": "execute_result"
    }
   ],
   "source": [
    "from torch.nn import init\n",
    "\n",
    "init.normal_(net[0].weight, mean=0, std=0.01)\n",
    "init.constant_(net[0].bias, val=0)"
   ],
   "metadata": {
    "collapsed": false,
    "ExecuteTime": {
     "end_time": "2024-03-08T13:07:21.823904Z",
     "start_time": "2024-03-08T13:07:21.810905Z"
    }
   },
   "id": "a1332c7bdfed7760",
   "execution_count": 28
  },
  {
   "cell_type": "code",
   "outputs": [],
   "source": [
    "loss = nn.MSELoss()"
   ],
   "metadata": {
    "collapsed": false,
    "ExecuteTime": {
     "end_time": "2024-03-08T13:07:42.387785Z",
     "start_time": "2024-03-08T13:07:42.370779Z"
    }
   },
   "id": "e0213885f3197972",
   "execution_count": 29
  },
  {
   "cell_type": "code",
   "outputs": [
    {
     "name": "stdout",
     "output_type": "stream",
     "text": [
      "SGD (\n",
      "Parameter Group 0\n",
      "    dampening: 0\n",
      "    differentiable: False\n",
      "    foreach: None\n",
      "    lr: 0.03\n",
      "    maximize: False\n",
      "    momentum: 0\n",
      "    nesterov: False\n",
      "    weight_decay: 0\n",
      ")\n"
     ]
    }
   ],
   "source": [
    "import torch.optim as optim\n",
    "\n",
    "optimizer = optim.SGD(net.parameters(), lr=0.03)\n",
    "print(optimizer)"
   ],
   "metadata": {
    "collapsed": false,
    "ExecuteTime": {
     "end_time": "2024-03-08T13:14:02.267742Z",
     "start_time": "2024-03-08T13:14:02.264740Z"
    }
   },
   "id": "704adf1053d9e301",
   "execution_count": 31
  },
  {
   "cell_type": "code",
   "outputs": [
    {
     "name": "stdout",
     "output_type": "stream",
     "text": [
      "epoch 1, loss: 0.000144\n",
      "epoch 2, loss: 0.000060\n",
      "epoch 3, loss: 0.000028\n"
     ]
    }
   ],
   "source": [
    "num_epochs = 3\n",
    "for epoch in range(1, num_epochs + 1):\n",
    "    for X, y in date_iter:\n",
    "        # 前向传播\n",
    "        output = net(X)\n",
    "        # 计算损失\n",
    "        l = loss(output, y.view(-1, 1))\n",
    "        # 梯度清零\n",
    "        optimizer.zero_grad()\n",
    "        # 反向传播\n",
    "        l.backward()\n",
    "        # 更新参数\n",
    "        optimizer.step()\n",
    "    print('epoch %d, loss: %f' % (epoch, l.item()))\n"
   ],
   "metadata": {
    "collapsed": false,
    "ExecuteTime": {
     "end_time": "2024-03-08T13:18:38.879280Z",
     "start_time": "2024-03-08T13:18:38.801763Z"
    }
   },
   "id": "a23e7f6d5740e78c",
   "execution_count": 41
  },
  {
   "cell_type": "code",
   "outputs": [
    {
     "name": "stdout",
     "output_type": "stream",
     "text": [
      "[2, -3.4] Parameter containing:\n",
      "tensor([[ 2.0005, -3.4004]], requires_grad=True)\n",
      "4.2 Parameter containing:\n",
      "tensor([4.2001], requires_grad=True)\n"
     ]
    }
   ],
   "source": [
    "dense = net[0]\n",
    "print(true_w, dense.weight)\n",
    "print(true_b, dense.bias)"
   ],
   "metadata": {
    "collapsed": false,
    "ExecuteTime": {
     "end_time": "2024-03-08T13:19:23.650514Z",
     "start_time": "2024-03-08T13:19:23.631776Z"
    }
   },
   "id": "2ec6eb07c81d293",
   "execution_count": 42
  },
  {
   "cell_type": "code",
   "outputs": [],
   "source": [],
   "metadata": {
    "collapsed": false
   },
   "id": "46a73ad4ca750b63"
  }
 ],
 "metadata": {
  "kernelspec": {
   "name": "py3.7_kernel",
   "language": "python",
   "display_name": "py3.7_kernel"
  },
  "language_info": {
   "codemirror_mode": {
    "name": "ipython",
    "version": 2
   },
   "file_extension": ".py",
   "mimetype": "text/x-python",
   "name": "python",
   "nbconvert_exporter": "python",
   "pygments_lexer": "ipython2",
   "version": "2.7.6"
  }
 },
 "nbformat": 4,
 "nbformat_minor": 5
}
