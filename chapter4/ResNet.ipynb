{
 "cells": [
  {
   "cell_type": "code",
   "execution_count": 1,
   "id": "initial_id",
   "metadata": {
    "collapsed": true,
    "ExecuteTime": {
     "end_time": "2024-03-30T05:53:45.399914Z",
     "start_time": "2024-03-30T05:53:43.452709Z"
    }
   },
   "outputs": [],
   "source": [
    "import torch\n",
    "import torch.nn.functional as F\n",
    "from torch import nn\n",
    "\n",
    "device=torch.device(\"cuda\" if torch.cuda.is_available() else \"cpu\")\n",
    "class Residual(nn.Module):\n",
    "    # 输入通道数，输出通道数，是否适应1*1卷积核，步长\n",
    "    def __init__(self,in_channels,out_channels,use_1x1conv,stride=1):\n",
    "        super(Residual, self).__init__()\n",
    "        # 3*3搭配1步长，特征图大小不变\n",
    "        self.conv1=nn.Conv2d(in_channels,out_channels,kernel_size=3,padding=1,stride=stride)\n",
    "        self.conv2=nn.Conv2d(out_channels,out_channels,kernel_size=1,padding=1)\n",
    "        if use_1x1conv:\n",
    "            self.conv3=nn.Conv2d(in_channels,out_channels, kernel_size=1, stride=stride)\n",
    "        else:\n",
    "            self.conv3=None\n",
    "        self.bn1=nn.BatchNorm2d(out_channels)\n",
    "        self.bn2=nn.BatchNorm2d(out_channels)"
   ]
  },
  {
   "cell_type": "code",
   "outputs": [],
   "source": [],
   "metadata": {
    "collapsed": false
   },
   "id": "e1bb48df183964a3"
  }
 ],
 "metadata": {
  "kernelspec": {
   "name": "py3.7",
   "language": "python",
   "display_name": "py3.7"
  },
  "language_info": {
   "codemirror_mode": {
    "name": "ipython",
    "version": 2
   },
   "file_extension": ".py",
   "mimetype": "text/x-python",
   "name": "python",
   "nbconvert_exporter": "python",
   "pygments_lexer": "ipython2",
   "version": "2.7.6"
  }
 },
 "nbformat": 4,
 "nbformat_minor": 5
}
