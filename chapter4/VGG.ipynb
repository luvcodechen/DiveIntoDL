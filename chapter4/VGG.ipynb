{
 "cells": [
  {
   "cell_type": "code",
   "execution_count": 28,
   "id": "initial_id",
   "metadata": {
    "collapsed": true,
    "ExecuteTime": {
     "end_time": "2024-03-20T08:09:16.532635Z",
     "start_time": "2024-03-20T08:09:16.493122Z"
    }
   },
   "outputs": [],
   "source": [
    "import torch\n",
    "import torch.nn as nn\n",
    "import d2lzh_pytorch as d2l\n",
    "\n",
    "device = torch.device('cuda' if torch.cuda.is_available() else 'cpu')\n",
    "\n",
    "\n",
    "def vgg_block(num_convs, in_channels, out_channels):\n",
    "    blk = []\n",
    "    for i in range(num_convs):\n",
    "        if i == 0:\n",
    "            blk.append(nn.Conv2d(in_channels, out_channels,\n",
    "                                 kernel_size=3, padding=1))\n",
    "        else:\n",
    "            blk.append(nn.Conv2d(out_channels, out_channels,\n",
    "                                 kernel_size=3, padding=1))\n",
    "        blk.append(nn.ReLU())\n",
    "    # 这里会使宽度减半\n",
    "    blk.append(nn.MaxPool2d(kernel_size=2, stride=2))\n",
    "    return nn.Sequential(*blk)"
   ]
  },
  {
   "cell_type": "code",
   "outputs": [],
   "source": [
    "conv_arch = ((1, 1, 64), (1, 64, 128), (2, 128, 256), (2, 256, 512), (2, 512, 512))\n",
    "# 经过5个vgg_block，宽高会减半5次，变成224/2**5=224/32=7\n",
    "# c*h*w\n",
    "fc_features = 512 * 7 * 7\n",
    "fc_hidden_units = 4096"
   ],
   "metadata": {
    "collapsed": false,
    "ExecuteTime": {
     "end_time": "2024-03-20T08:09:17.098662Z",
     "start_time": "2024-03-20T08:09:17.095586Z"
    }
   },
   "id": "d4720bd38d09ca4a",
   "execution_count": 29
  },
  {
   "cell_type": "code",
   "outputs": [],
   "source": [
    "def vgg(conv_arch, fc_features, fc_hidden_units=4096):\n",
    "    net = nn.Sequential()\n",
    "    # 卷积层部分\n",
    "    for i, (num_convs, in_channels, out_channels) in enumerate(conv_arch):\n",
    "        # 每经过一个vgg_block都会使宽高减半\n",
    "        net.add_module('vgg_block_' + str(i + 1), vgg_block(num_convs, in_channels, out_channels))\n",
    "    # 全连接部分\n",
    "    net.add_module('fc', nn.Sequential(d2l.FlattenLayer(), nn.Linear(fc_features, fc_hidden_units),\n",
    "                                       nn.ReLU(),\n",
    "                                       nn.Dropout(0.5),\n",
    "                                       nn.Linear(fc_hidden_units, fc_hidden_units), nn.ReLU(),\n",
    "                                       nn.Dropout(0.5), nn.Linear(fc_hidden_units, 10)\n",
    "                                       ))\n",
    "    return net\n"
   ],
   "metadata": {
    "collapsed": false,
    "ExecuteTime": {
     "end_time": "2024-03-20T08:09:17.473127Z",
     "start_time": "2024-03-20T08:09:17.464127Z"
    }
   },
   "id": "bde09082ec54b986",
   "execution_count": 30
  },
  {
   "cell_type": "code",
   "outputs": [
    {
     "name": "stdout",
     "output_type": "stream",
     "text": [
      "vgg_block_1 output shape:  torch.Size([1, 64, 112, 112])\n",
      "vgg_block_2 output shape:  torch.Size([1, 128, 56, 56])\n",
      "vgg_block_3 output shape:  torch.Size([1, 256, 28, 28])\n",
      "vgg_block_4 output shape:  torch.Size([1, 512, 14, 14])\n",
      "vgg_block_5 output shape:  torch.Size([1, 512, 7, 7])\n",
      "fc output shape:  torch.Size([1, 10])\n"
     ]
    }
   ],
   "source": [
    "net = vgg(conv_arch, fc_features, fc_hidden_units)\n",
    "X = torch.rand(1, 1, 224, 224)\n",
    "# named_children获取一级子模块及其名字\n",
    "# named_modules会返回所有子模块，包括子模块的子模块\n",
    "for name, blk in net.named_children():\n",
    "    X = blk(X)\n",
    "    print(name, 'output shape: ', X.shape)"
   ],
   "metadata": {
    "collapsed": false,
    "ExecuteTime": {
     "end_time": "2024-03-20T08:09:18.710431Z",
     "start_time": "2024-03-20T08:09:18.125965Z"
    }
   },
   "id": "db74869d0e80b7f6",
   "execution_count": 31
  },
  {
   "cell_type": "code",
   "outputs": [],
   "source": [
    "ratio = 4\n",
    "small_conv_arch = ((1, 1, 64 // ratio),\n",
    "                   (1, 64 // ratio, 128 // ratio),\n",
    "                   (2, 128 // ratio, 256 // ratio),\n",
    "                   (2, 256 // ratio, 512 // ratio),\n",
    "                   (2, 512 // ratio, 512 // ratio))\n",
    "net = vgg(small_conv_arch, fc_features // ratio, fc_hidden_units // ratio)"
   ],
   "metadata": {
    "collapsed": false,
    "ExecuteTime": {
     "end_time": "2024-03-20T08:12:14.440548Z",
     "start_time": "2024-03-20T08:12:14.395522Z"
    }
   },
   "id": "60feb6328de223e8",
   "execution_count": 38
  },
  {
   "cell_type": "code",
   "outputs": [
    {
     "name": "stdout",
     "output_type": "stream",
     "text": [
      "training on  cuda\n",
      "epoch 1, loss 0.8464, train acc 0.676, test acc 0.865, time 1348.3 sec\n",
      "epoch 2, loss 0.3144, train acc 0.885, test acc 0.894, time 1345.9 sec\n",
      "epoch 3, loss 0.2648, train acc 0.903, test acc 0.899, time 1330.3 sec\n",
      "epoch 4, loss 0.2293, train acc 0.917, test acc 0.913, time 1340.2 sec\n",
      "epoch 5, loss 0.2111, train acc 0.922, test acc 0.914, time 1331.5 sec\n"
     ]
    }
   ],
   "source": [
    "batch_size = 128\n",
    "train_iter, test_iter = d2l.load_data_fashion_mnist(batch_size,\n",
    "                                                    root='F:\\python_code\\pycharm_project\\DiveIntoDL\\chapter2\\data\\FashionMNIST',\n",
    "                                                    resize=224)\n",
    "lr, num_epochs = 0.001, 5\n",
    "optimizer = torch.optim.Adam(net.parameters(), lr=lr)\n",
    "d2l.train_ch5(net, train_iter, test_iter, batch_size, optimizer, device, num_epochs)"
   ],
   "metadata": {
    "collapsed": false,
    "ExecuteTime": {
     "end_time": "2024-03-20T10:03:51.214799Z",
     "start_time": "2024-03-20T08:12:14.815788Z"
    }
   },
   "id": "37bfb6619ab5706d",
   "execution_count": 39
  },
  {
   "cell_type": "code",
   "outputs": [],
   "source": [
    " "
   ],
   "metadata": {
    "collapsed": false
   },
   "id": "b9e963b8a65d029"
  }
 ],
 "metadata": {
  "kernelspec": {
   "name": "py3.7_kernel",
   "language": "python",
   "display_name": "py3.7_kernel"
  },
  "language_info": {
   "codemirror_mode": {
    "name": "ipython",
    "version": 2
   },
   "file_extension": ".py",
   "mimetype": "text/x-python",
   "name": "python",
   "nbconvert_exporter": "python",
   "pygments_lexer": "ipython2",
   "version": "2.7.6"
  }
 },
 "nbformat": 4,
 "nbformat_minor": 5
}
